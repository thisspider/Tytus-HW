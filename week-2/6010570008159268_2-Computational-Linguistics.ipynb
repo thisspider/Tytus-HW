{
  "cells": [
    {
      "cell_type": "markdown",
      "metadata": {
        "id": "ykVMGy3A9Q3E"
      },
      "source": [
        "# Week 2 - Counting Words & Phrases (Computational Linguistics)\n",
        "This week, we take text corpora that we have developed, spidered, scraped, and encoded, and we find and count words, simple and parsed phrases and explore the statistical properties of those counts (e.g., word frequency distributions). Initially, we model how to search corpora for keywords or phrases. Next, we examine the distributions of terms and phrases across a corpus, and the correlation between different words and phrase counts. In order to do this effectively, we coarsely disambiguate words based of part-of-speech (POS) tagging, and normalize them through stemming and lemmatization. Next we distinguish *important* words and phrase within the corpus, and image them with Wordls! Then we calculate word frequenceis, conditional frequences (the frequency of word *shock* conditional on the presence of word *awe*), and statistically significant collocations of lengths 2 through $n$. Finally, we calculate and visualize Differences (Divergences and Distances) between the word frequency distributions from two corpora. \n",
        "\n",
        "Then we shift to focus not simply on the *ideas* in a corpus, but also extracting precise *claims*. This process involves a sequential pipeline of classifying and structuring tokens from text, each of which generates potentially useful data for the content analyst. Steps in this process, which we examine in this notebook, include: 1) tagging words by their part of speech (POS) to reveal the linguistic role they play in the sentence (e.g., Verb, Noun, Adjective, etc.); 2) tagging words as named entities (NER) such as places or organizations; 3) structuring or \"parsing\" sentences into nested phrases that are local to, describe or depend on one another; and 4) extracting informational claims from those phrases.\n",
        "\n",
        "We will be introducing spaCy as a package for Computational Linguistics, and also walk you through how to use the Davies Corpora. \n",
        "\n",
        "While we wish to avoid using NLTK for heavy corpus analysis, some of its smaller functions can still be useful.\n",
        "\n",
        "Of course, for final projects that draw on these tools, we encourage you to install the software on your own machines or shared servers at the university (RCC, SSRC) in order to perform these operations on much more text. \n",
        "\n",
        "For this notebook we will be using the following packages:\n"
      ]
    },
    {
      "cell_type": "code",
      "execution_count": 4,
      "metadata": {
        "colab": {
          "base_uri": "https://localhost:8080/"
        },
        "id": "DGfyIvaX9Q3N",
        "outputId": "96a90966-f026-465e-ebf9-c2815d70ab45"
      },
      "outputs": [
        {
          "output_type": "stream",
          "name": "stdout",
          "text": [
            "Collecting git+git://github.com/UChicago-Computational-Content-Analysis/lucem_illud.git\n",
            "  Cloning git://github.com/UChicago-Computational-Content-Analysis/lucem_illud.git to /tmp/pip-req-build-up0mvx8i\n",
            "  Running command git clone -q git://github.com/UChicago-Computational-Content-Analysis/lucem_illud.git /tmp/pip-req-build-up0mvx8i\n",
            "Requirement already satisfied: numpy in /usr/local/lib/python3.7/dist-packages (from lucem-illud==8.0.1) (1.19.5)\n",
            "Requirement already satisfied: requests in /usr/local/lib/python3.7/dist-packages (from lucem-illud==8.0.1) (2.23.0)\n",
            "Requirement already satisfied: pandas in /usr/local/lib/python3.7/dist-packages (from lucem-illud==8.0.1) (1.1.5)\n",
            "Collecting python-docx\n",
            "  Downloading python-docx-0.8.11.tar.gz (5.6 MB)\n",
            "\u001b[K     |████████████████████████████████| 5.6 MB 6.7 MB/s \n",
            "\u001b[?25hRequirement already satisfied: pillow in /usr/local/lib/python3.7/dist-packages (from lucem-illud==8.0.1) (7.1.2)\n",
            "Collecting pdfminer2\n",
            "  Downloading pdfminer2-20151206-py2.py3-none-any.whl (117 kB)\n",
            "\u001b[K     |████████████████████████████████| 117 kB 37.8 MB/s \n",
            "\u001b[?25hCollecting GitPython\n",
            "  Downloading GitPython-3.1.26-py3-none-any.whl (180 kB)\n",
            "\u001b[K     |████████████████████████████████| 180 kB 48.2 MB/s \n",
            "\u001b[?25hRequirement already satisfied: wordcloud in /usr/local/lib/python3.7/dist-packages (from lucem-illud==8.0.1) (1.5.0)\n",
            "Requirement already satisfied: scipy in /usr/local/lib/python3.7/dist-packages (from lucem-illud==8.0.1) (1.4.1)\n",
            "Requirement already satisfied: seaborn in /usr/local/lib/python3.7/dist-packages (from lucem-illud==8.0.1) (0.11.2)\n",
            "Requirement already satisfied: scikit-learn in /usr/local/lib/python3.7/dist-packages (from lucem-illud==8.0.1) (1.0.2)\n",
            "Requirement already satisfied: nltk in /usr/local/lib/python3.7/dist-packages (from lucem-illud==8.0.1) (3.2.5)\n",
            "Requirement already satisfied: gensim in /usr/local/lib/python3.7/dist-packages (from lucem-illud==8.0.1) (3.6.0)\n",
            "Requirement already satisfied: matplotlib in /usr/local/lib/python3.7/dist-packages (from lucem-illud==8.0.1) (3.2.2)\n",
            "Collecting pyanno3\n",
            "  Downloading pyanno3-2.0.2.tar.gz (76 kB)\n",
            "\u001b[K     |████████████████████████████████| 76 kB 5.2 MB/s \n",
            "\u001b[?25hRequirement already satisfied: beautifulsoup4 in /usr/local/lib/python3.7/dist-packages (from lucem-illud==8.0.1) (4.6.3)\n",
            "Requirement already satisfied: graphviz in /usr/local/lib/python3.7/dist-packages (from lucem-illud==8.0.1) (0.10.1)\n",
            "Collecting boto3\n",
            "  Downloading boto3-1.20.44-py3-none-any.whl (131 kB)\n",
            "\u001b[K     |████████████████████████████████| 131 kB 55.6 MB/s \n",
            "\u001b[?25hRequirement already satisfied: networkx in /usr/local/lib/python3.7/dist-packages (from lucem-illud==8.0.1) (2.6.3)\n",
            "Collecting pydub\n",
            "  Downloading pydub-0.25.1-py2.py3-none-any.whl (32 kB)\n",
            "Collecting speechrecognition\n",
            "  Downloading SpeechRecognition-3.8.1-py2.py3-none-any.whl (32.8 MB)\n",
            "\u001b[K     |████████████████████████████████| 32.8 MB 191 kB/s \n",
            "\u001b[?25hCollecting pysoundfile\n",
            "  Downloading PySoundFile-0.9.0.post1-py2.py3-none-any.whl (24 kB)\n",
            "Requirement already satisfied: scikit-image in /usr/local/lib/python3.7/dist-packages (from lucem-illud==8.0.1) (0.18.3)\n",
            "Requirement already satisfied: IPython in /usr/local/lib/python3.7/dist-packages (from lucem-illud==8.0.1) (5.5.0)\n",
            "Requirement already satisfied: spacy in /usr/local/lib/python3.7/dist-packages (from lucem-illud==8.0.1) (2.2.4)\n",
            "Collecting s3transfer<0.6.0,>=0.5.0\n",
            "  Downloading s3transfer-0.5.0-py3-none-any.whl (79 kB)\n",
            "\u001b[K     |████████████████████████████████| 79 kB 7.0 MB/s \n",
            "\u001b[?25hCollecting botocore<1.24.0,>=1.23.44\n",
            "  Downloading botocore-1.23.44-py3-none-any.whl (8.5 MB)\n",
            "\u001b[K     |████████████████████████████████| 8.5 MB 43.9 MB/s \n",
            "\u001b[?25hCollecting jmespath<1.0.0,>=0.7.1\n",
            "  Downloading jmespath-0.10.0-py2.py3-none-any.whl (24 kB)\n",
            "Collecting urllib3<1.27,>=1.25.4\n",
            "  Downloading urllib3-1.26.8-py2.py3-none-any.whl (138 kB)\n",
            "\u001b[K     |████████████████████████████████| 138 kB 39.3 MB/s \n",
            "\u001b[?25hRequirement already satisfied: python-dateutil<3.0.0,>=2.1 in /usr/local/lib/python3.7/dist-packages (from botocore<1.24.0,>=1.23.44->boto3->lucem-illud==8.0.1) (2.8.2)\n",
            "Requirement already satisfied: six>=1.5 in /usr/local/lib/python3.7/dist-packages (from python-dateutil<3.0.0,>=2.1->botocore<1.24.0,>=1.23.44->boto3->lucem-illud==8.0.1) (1.15.0)\n",
            "Requirement already satisfied: smart-open>=1.2.1 in /usr/local/lib/python3.7/dist-packages (from gensim->lucem-illud==8.0.1) (5.2.1)\n",
            "Collecting gitdb<5,>=4.0.1\n",
            "  Downloading gitdb-4.0.9-py3-none-any.whl (63 kB)\n",
            "\u001b[K     |████████████████████████████████| 63 kB 1.7 MB/s \n",
            "\u001b[?25hRequirement already satisfied: typing-extensions>=3.7.4.3 in /usr/local/lib/python3.7/dist-packages (from GitPython->lucem-illud==8.0.1) (3.10.0.2)\n",
            "Collecting smmap<6,>=3.0.1\n",
            "  Downloading smmap-5.0.0-py3-none-any.whl (24 kB)\n",
            "Requirement already satisfied: prompt-toolkit<2.0.0,>=1.0.4 in /usr/local/lib/python3.7/dist-packages (from IPython->lucem-illud==8.0.1) (1.0.18)\n",
            "Requirement already satisfied: setuptools>=18.5 in /usr/local/lib/python3.7/dist-packages (from IPython->lucem-illud==8.0.1) (57.4.0)\n",
            "Requirement already satisfied: traitlets>=4.2 in /usr/local/lib/python3.7/dist-packages (from IPython->lucem-illud==8.0.1) (5.1.1)\n",
            "Requirement already satisfied: pexpect in /usr/local/lib/python3.7/dist-packages (from IPython->lucem-illud==8.0.1) (4.8.0)\n",
            "Requirement already satisfied: pygments in /usr/local/lib/python3.7/dist-packages (from IPython->lucem-illud==8.0.1) (2.6.1)\n",
            "Requirement already satisfied: pickleshare in /usr/local/lib/python3.7/dist-packages (from IPython->lucem-illud==8.0.1) (0.7.5)\n",
            "Requirement already satisfied: decorator in /usr/local/lib/python3.7/dist-packages (from IPython->lucem-illud==8.0.1) (4.4.2)\n",
            "Requirement already satisfied: simplegeneric>0.8 in /usr/local/lib/python3.7/dist-packages (from IPython->lucem-illud==8.0.1) (0.8.1)\n",
            "Requirement already satisfied: wcwidth in /usr/local/lib/python3.7/dist-packages (from prompt-toolkit<2.0.0,>=1.0.4->IPython->lucem-illud==8.0.1) (0.2.5)\n",
            "Requirement already satisfied: cycler>=0.10 in /usr/local/lib/python3.7/dist-packages (from matplotlib->lucem-illud==8.0.1) (0.11.0)\n",
            "Requirement already satisfied: kiwisolver>=1.0.1 in /usr/local/lib/python3.7/dist-packages (from matplotlib->lucem-illud==8.0.1) (1.3.2)\n",
            "Requirement already satisfied: pyparsing!=2.0.4,!=2.1.2,!=2.1.6,>=2.0.1 in /usr/local/lib/python3.7/dist-packages (from matplotlib->lucem-illud==8.0.1) (3.0.7)\n",
            "Requirement already satisfied: pytz>=2017.2 in /usr/local/lib/python3.7/dist-packages (from pandas->lucem-illud==8.0.1) (2018.9)\n",
            "Requirement already satisfied: ptyprocess>=0.5 in /usr/local/lib/python3.7/dist-packages (from pexpect->IPython->lucem-illud==8.0.1) (0.7.0)\n",
            "Collecting traits\n",
            "  Downloading traits-6.3.2-cp37-cp37m-manylinux_2_5_x86_64.manylinux1_x86_64.manylinux_2_12_x86_64.manylinux2010_x86_64.whl (5.1 MB)\n",
            "\u001b[K     |████████████████████████████████| 5.1 MB 43.4 MB/s \n",
            "\u001b[?25hRequirement already satisfied: cffi>=0.6 in /usr/local/lib/python3.7/dist-packages (from pysoundfile->lucem-illud==8.0.1) (1.15.0)\n",
            "Requirement already satisfied: pycparser in /usr/local/lib/python3.7/dist-packages (from cffi>=0.6->pysoundfile->lucem-illud==8.0.1) (2.21)\n",
            "Requirement already satisfied: lxml>=2.3.2 in /usr/local/lib/python3.7/dist-packages (from python-docx->lucem-illud==8.0.1) (4.2.6)\n",
            "Requirement already satisfied: idna<3,>=2.5 in /usr/local/lib/python3.7/dist-packages (from requests->lucem-illud==8.0.1) (2.10)\n",
            "Requirement already satisfied: chardet<4,>=3.0.2 in /usr/local/lib/python3.7/dist-packages (from requests->lucem-illud==8.0.1) (3.0.4)\n",
            "Requirement already satisfied: certifi>=2017.4.17 in /usr/local/lib/python3.7/dist-packages (from requests->lucem-illud==8.0.1) (2021.10.8)\n",
            "Collecting urllib3<1.27,>=1.25.4\n",
            "  Downloading urllib3-1.25.11-py2.py3-none-any.whl (127 kB)\n",
            "\u001b[K     |████████████████████████████████| 127 kB 31.8 MB/s \n",
            "\u001b[?25hRequirement already satisfied: tifffile>=2019.7.26 in /usr/local/lib/python3.7/dist-packages (from scikit-image->lucem-illud==8.0.1) (2021.11.2)\n",
            "Requirement already satisfied: PyWavelets>=1.1.1 in /usr/local/lib/python3.7/dist-packages (from scikit-image->lucem-illud==8.0.1) (1.2.0)\n",
            "Requirement already satisfied: imageio>=2.3.0 in /usr/local/lib/python3.7/dist-packages (from scikit-image->lucem-illud==8.0.1) (2.4.1)\n",
            "Requirement already satisfied: threadpoolctl>=2.0.0 in /usr/local/lib/python3.7/dist-packages (from scikit-learn->lucem-illud==8.0.1) (3.0.0)\n",
            "Requirement already satisfied: joblib>=0.11 in /usr/local/lib/python3.7/dist-packages (from scikit-learn->lucem-illud==8.0.1) (1.1.0)\n",
            "Requirement already satisfied: cymem<2.1.0,>=2.0.2 in /usr/local/lib/python3.7/dist-packages (from spacy->lucem-illud==8.0.1) (2.0.6)\n",
            "Requirement already satisfied: wasabi<1.1.0,>=0.4.0 in /usr/local/lib/python3.7/dist-packages (from spacy->lucem-illud==8.0.1) (0.9.0)\n",
            "Requirement already satisfied: plac<1.2.0,>=0.9.6 in /usr/local/lib/python3.7/dist-packages (from spacy->lucem-illud==8.0.1) (1.1.3)\n",
            "Requirement already satisfied: preshed<3.1.0,>=3.0.2 in /usr/local/lib/python3.7/dist-packages (from spacy->lucem-illud==8.0.1) (3.0.6)\n",
            "Requirement already satisfied: thinc==7.4.0 in /usr/local/lib/python3.7/dist-packages (from spacy->lucem-illud==8.0.1) (7.4.0)\n",
            "Requirement already satisfied: blis<0.5.0,>=0.4.0 in /usr/local/lib/python3.7/dist-packages (from spacy->lucem-illud==8.0.1) (0.4.1)\n",
            "Requirement already satisfied: tqdm<5.0.0,>=4.38.0 in /usr/local/lib/python3.7/dist-packages (from spacy->lucem-illud==8.0.1) (4.62.3)\n",
            "Requirement already satisfied: srsly<1.1.0,>=1.0.2 in /usr/local/lib/python3.7/dist-packages (from spacy->lucem-illud==8.0.1) (1.0.5)\n",
            "Requirement already satisfied: murmurhash<1.1.0,>=0.28.0 in /usr/local/lib/python3.7/dist-packages (from spacy->lucem-illud==8.0.1) (1.0.6)\n",
            "Requirement already satisfied: catalogue<1.1.0,>=0.0.7 in /usr/local/lib/python3.7/dist-packages (from spacy->lucem-illud==8.0.1) (1.0.0)\n",
            "Requirement already satisfied: importlib-metadata>=0.20 in /usr/local/lib/python3.7/dist-packages (from catalogue<1.1.0,>=0.0.7->spacy->lucem-illud==8.0.1) (4.10.1)\n",
            "Requirement already satisfied: zipp>=0.5 in /usr/local/lib/python3.7/dist-packages (from importlib-metadata>=0.20->catalogue<1.1.0,>=0.0.7->spacy->lucem-illud==8.0.1) (3.7.0)\n",
            "Building wheels for collected packages: lucem-illud, pyanno3, python-docx\n",
            "  Building wheel for lucem-illud (setup.py) ... \u001b[?25l\u001b[?25hdone\n",
            "  Created wheel for lucem-illud: filename=lucem_illud-8.0.1-py3-none-any.whl size=34964 sha256=aea3b9f99d3539eaebb9b84dedbb5e739f4af7f7f260a59bf1a63c46c3d6a3d7\n",
            "  Stored in directory: /tmp/pip-ephem-wheel-cache-6fhl7bqa/wheels/a5/6a/0f/ddf40c68215bc4b072c455caa6a08e0031c92187c93a1b5a81\n",
            "  Building wheel for pyanno3 (setup.py) ... \u001b[?25l\u001b[?25hdone\n",
            "  Created wheel for pyanno3: filename=pyanno3-2.0.2-py3-none-any.whl size=116978 sha256=0272203087a676c087b82e5fc4925e59a6cd1083beaefacdee57530b67463be0\n",
            "  Stored in directory: /root/.cache/pip/wheels/28/eb/a9/d9c212d9388cde6cf3ee6edd7aa3891624bca58b24d9c26c76\n",
            "  Building wheel for python-docx (setup.py) ... \u001b[?25l\u001b[?25hdone\n",
            "  Created wheel for python-docx: filename=python_docx-0.8.11-py3-none-any.whl size=184507 sha256=3e6baa6409f24806c9e0c5579f6956171fe5b25131609f9ef38dbccf61f70ac2\n",
            "  Stored in directory: /root/.cache/pip/wheels/f6/6f/b9/d798122a8b55b74ad30b5f52b01482169b445fbb84a11797a6\n",
            "Successfully built lucem-illud pyanno3 python-docx\n",
            "Installing collected packages: urllib3, jmespath, smmap, botocore, traits, s3transfer, gitdb, speechrecognition, python-docx, pysoundfile, pydub, pyanno3, pdfminer2, GitPython, boto3, lucem-illud\n",
            "  Attempting uninstall: urllib3\n",
            "    Found existing installation: urllib3 1.24.3\n",
            "    Uninstalling urllib3-1.24.3:\n",
            "      Successfully uninstalled urllib3-1.24.3\n",
            "\u001b[31mERROR: pip's dependency resolver does not currently take into account all the packages that are installed. This behaviour is the source of the following dependency conflicts.\n",
            "datascience 0.10.6 requires folium==0.2.1, but you have folium 0.8.3 which is incompatible.\u001b[0m\n",
            "Successfully installed GitPython-3.1.26 boto3-1.20.44 botocore-1.23.44 gitdb-4.0.9 jmespath-0.10.0 lucem-illud-8.0.1 pdfminer2-20151206 pyanno3-2.0.2 pydub-0.25.1 pysoundfile-0.9.0.post1 python-docx-0.8.11 s3transfer-0.5.0 smmap-5.0.0 speechrecognition-3.8.1 traits-6.3.2 urllib3-1.25.11\n"
          ]
        }
      ],
      "source": [
        "#Special module written for this class\n",
        "#This provides access to data and to helper functions from previous weeks\n",
        "\n",
        "!pip install -U git+git://github.com/UChicago-Computational-Content-Analysis/lucem_illud.git\n",
        "import lucem_illud #just in case, regularly update your lucem_illud with the following code: pip install git+git://github.com/UChicago-Computational-Content-Analysis/lucem_illud.git\n",
        "\n",
        "#All these packages need to be installed from pip\n",
        "import requests #for http requests\n",
        "import pandas #gives us DataFrames\n",
        "import matplotlib.pyplot as plt #For graphics\n",
        "import wordcloud #Makes word clouds\n",
        "import numpy as np #For divergences/distances\n",
        "import scipy #For divergences/distances\n",
        "import seaborn as sns #makes our plots look nicer\n",
        "import sklearn.manifold #For a manifold plot\n",
        "import json #For API responses\n",
        "import urllib.parse #For joining urls\n",
        "\n",
        "# comp-linguistics\n",
        "import spacy\n",
        "\n",
        "#Displays the graphs\n",
        "import graphviz #You also need to install the command line graphviz\n",
        "\n",
        "#These are from the standard library\n",
        "import os.path\n",
        "import zipfile\n",
        "import subprocess\n",
        "import io\n",
        "import tempfile\n",
        "\n",
        "#This 'magic' command makes the plots work better\n",
        "#in the notebook, don't use it outside of a notebook\n",
        "%matplotlib inline"
      ]
    },
    {
      "cell_type": "markdown",
      "metadata": {
        "id": "5NHnJkw99Q3Q"
      },
      "source": [
        "# Retrieving exemplary corpora\n",
        "\n",
        "To get started we will need some examples. Let's start by downloading one of the corpuses from the Davies set purchased for this class and developed by a computational linguist at Brigham Young University. We can get a list of works available from the [corpora here](https://www.english-corpora.org/).\n",
        "\n",
        "In this notebook, I will be accessing the data locally - you also have access to this data through the Dropbox download link. The same code can be modified slighlty to access the rest of the corpora on RCC. \n",
        "There is a notebook describing this process in the same repository, as well as in the same directory on RCC."
      ]
    },
    {
      "cell_type": "code",
      "execution_count": null,
      "metadata": {
        "id": "JH0xCOM69Q3Q"
      },
      "outputs": [],
      "source": [
        "corpus_name = \"/Users/bhargavvader/Downloads/Academics_Tech/\" \n",
        "# corpus_name = \"Movies\""
      ]
    },
    {
      "cell_type": "markdown",
      "metadata": {
        "id": "qVveHNYA9Q3R"
      },
      "source": [
        "Just to be clear, your corpus_name should be different since you're not bhargav. Modify the corpus_name with your directory. This method extracts the text from the zip files and stroes the raw data."
      ]
    },
    {
      "cell_type": "code",
      "execution_count": null,
      "metadata": {
        "id": "RNmFORBF9Q3R"
      },
      "outputs": [],
      "source": [
        "def loadcorpus(corpus_name, corpus_style=\"text\"):\n",
        "    texts_raw = {}\n",
        "    for file in os.listdir(corpus_name + \"/\"):\n",
        "        if corpus_style in file:\n",
        "            print(file)\n",
        "            zfile = zipfile.ZipFile(corpus_name + \"/\" + file)\n",
        "            for file in zfile.namelist():\n",
        "                texts_raw[file] = []\n",
        "                with zfile.open(file) as f:\n",
        "                    for line in f:\n",
        "                        texts_raw[file].append(line)\n",
        "    return texts_raw"
      ]
    },
    {
      "cell_type": "code",
      "execution_count": null,
      "metadata": {
        "id": "aTLg3Utx9Q3S"
      },
      "outputs": [],
      "source": [
        "movie_raw = loadcorpus(corpus_name)"
      ]
    },
    {
      "cell_type": "code",
      "execution_count": null,
      "metadata": {
        "id": "b8ZZTDoi9Q3T"
      },
      "outputs": [],
      "source": [
        "movie_raw['11.txt'][0:3]"
      ]
    },
    {
      "cell_type": "markdown",
      "metadata": {
        "id": "wOYY7lWC9Q3T"
      },
      "source": [
        "It seems messy, but nothing we can't clean. This basic method replaces some of the issues with the formatting, and prints the errors if any for debugging. Let us clean one of the raw text files.\n",
        "\n",
        "We ignore the non-unicode data for convenience in our first pass."
      ]
    },
    {
      "cell_type": "code",
      "execution_count": null,
      "metadata": {
        "id": "HTlir_ih9Q3U"
      },
      "outputs": [],
      "source": [
        "def clean_raw_text(raw_texts):\n",
        "    clean_texts = []\n",
        "    for text in raw_texts:\n",
        "        try:\n",
        "            text = text.decode(\"utf-8\")\n",
        "            clean_text = text.replace(\" \\'m\", \"'m\").replace(\" \\'ll\", \"'ll\").replace(\" \\'re\", \"'re\").replace(\" \\'s\", \"'s\").replace(\" \\'re\", \"'re\").replace(\" n\\'t\", \"n't\").replace(\" \\'ve\", \"'ve\").replace(\" /'d\", \"'d\")\n",
        "            clean_texts.append(clean_text)\n",
        "        except AttributeError:\n",
        "            # print(\"ERROR CLEANING\")\n",
        "            # print(text)\n",
        "            continue\n",
        "        except UnicodeDecodeError:\n",
        "            # print(\"Unicode Error, Skip\")\n",
        "            continue\n",
        "    return clean_texts"
      ]
    },
    {
      "cell_type": "code",
      "execution_count": null,
      "metadata": {
        "id": "vji1k82P9Q3U"
      },
      "outputs": [],
      "source": [
        "clean_11 = clean_raw_text(movie_raw['11.txt'])"
      ]
    },
    {
      "cell_type": "code",
      "execution_count": null,
      "metadata": {
        "id": "BOm5mBRd9Q3U"
      },
      "outputs": [],
      "source": [
        "clean_11[1]"
      ]
    },
    {
      "cell_type": "markdown",
      "metadata": {
        "id": "U-E4acKB9Q3V"
      },
      "source": [
        "This method cleaned a few basic formatting errors. You are welcome to experiment and add your own code to expand on cleaning the text. Once it begins to look the way you want it to, we can start using spaCy to do some heavier cleaning. spaCy does this through the use of language models. Make sure you have the spaCy english language model loaded. "
      ]
    },
    {
      "cell_type": "code",
      "execution_count": null,
      "metadata": {
        "id": "GjS1yFSK9Q3V"
      },
      "outputs": [],
      "source": [
        "nlp = spacy.load(\"en\")"
      ]
    },
    {
      "cell_type": "markdown",
      "metadata": {
        "id": "FFde6BH_9Q3V"
      },
      "source": [
        "This model is going to be the basis of most of the tasks which NLTK (the Natural Language Tool Kit) might have done otherwise. While NLTK uses a bunch of clunky models from multiple places, spacy neatly packs all functionality in one model. This deep trained model will start by doing our word tokenizing and normalising. These methods are already included in lucem illud, and here we will just demonstrate them outside the package so to explain what goes on under the hood.\n",
        "\n",
        "When we run text through a spacy model, it performs a lot of computation on each of the tokens. Each token is given certain attributes, such as a part of speech, information whether it is a number, a stop word, and so on. \n",
        "\n",
        "To perform a tokenization, we check if the string includes punctuation and add this token. "
      ]
    },
    {
      "cell_type": "code",
      "execution_count": null,
      "metadata": {
        "id": "i0BIstLN9Q3W"
      },
      "outputs": [],
      "source": [
        "def word_tokenize(word_list):\n",
        "    tokenized = []\n",
        "    # pass word list through language model.\n",
        "    doc = nlp(word_list)\n",
        "    for token in doc:\n",
        "        if not token.is_punct and len(token.text.strip()) > 0:\n",
        "            tokenized.append(token.text)\n",
        "    return tokenized"
      ]
    },
    {
      "cell_type": "code",
      "execution_count": null,
      "metadata": {
        "id": "a_EQSFd59Q3W"
      },
      "outputs": [],
      "source": [
        "word_tokenize(clean_11[1])"
      ]
    },
    {
      "cell_type": "markdown",
      "metadata": {
        "id": "60Xy64Nn9Q3W"
      },
      "source": [
        "You can see how the sentence is broken into its constituent words. We can then do some analysis with this. \n",
        "\n",
        "Note: we still don't know which movie this is, just that it is raw movie text data. Maybe in the process of our text cleaning and counting we will come across something!"
      ]
    },
    {
      "cell_type": "markdown",
      "metadata": {
        "id": "7Zxqcn3p9Q3W"
      },
      "source": [
        "# Counting words\n",
        "\n",
        "If we want to do some analysis we can start by simply counting the number of times each word occurs within the corpus."
      ]
    },
    {
      "cell_type": "code",
      "execution_count": null,
      "metadata": {
        "id": "4BCyHlXx9Q3X"
      },
      "outputs": [],
      "source": [
        "def wordCounter(wordLst):\n",
        "    wordCounts = {}\n",
        "    for word in wordLst:\n",
        "        #We usually need to normalize the case\n",
        "        wLower = word.lower()\n",
        "        if wLower in wordCounts:\n",
        "            wordCounts[wLower] += 1\n",
        "        else:\n",
        "            wordCounts[wLower] = 1\n",
        "    #convert to DataFrame\n",
        "    countsForFrame = {'word' : [], 'count' : []}\n",
        "    for w, c in wordCounts.items():\n",
        "        countsForFrame['word'].append(w)\n",
        "        countsForFrame['count'].append(c)\n",
        "    return pandas.DataFrame(countsForFrame)"
      ]
    },
    {
      "cell_type": "code",
      "execution_count": null,
      "metadata": {
        "id": "d3XRXp_s9Q3X"
      },
      "outputs": [],
      "source": [
        "countedWords = wordCounter(word_tokenize(clean_11[1]))\n",
        "countedWords[:10]"
      ]
    },
    {
      "cell_type": "markdown",
      "metadata": {
        "id": "GKz_-uJ_9Q3X"
      },
      "source": [
        "Lets sort and plot our counts to investigate the shape of our word frequency distribution.\n",
        "\n",
        "First we need to sort the words by count."
      ]
    },
    {
      "cell_type": "code",
      "execution_count": null,
      "metadata": {
        "id": "H-9VxPtx9Q3X"
      },
      "outputs": [],
      "source": [
        "#Doing this in place (changing the original DataFrame) as we don't need the unsorted DataFrame\n",
        "countedWords.sort_values('count', ascending=False, inplace=True)\n",
        "countedWords[:100]"
      ]
    },
    {
      "cell_type": "markdown",
      "metadata": {
        "id": "LHkfOAKv9Q3Y"
      },
      "source": [
        "Punctuation and very common words (articles 'a' and 'the'; prepositions 'of' and 'to') make up the most common values, but this isn't very interesting and can actually get in the way of our analysis. We may remove these 'function words' by removing according to a stopword list, setting some frequency threshold, or using a weighting scheme (like tf.idf) to decrease their influence - we will look at these methods in more detail as we go through this tutorial. "
      ]
    },
    {
      "cell_type": "code",
      "execution_count": null,
      "metadata": {
        "id": "Vr-ucWal9Q3Y"
      },
      "outputs": [],
      "source": [
        "#Creating a figure and axis lets us do things like change the scaling or add a title\n",
        "fig = plt.figure()\n",
        "ax = fig.add_subplot(111)\n",
        "plt.plot(range(len(countedWords)), countedWords['count'])\n",
        "plt.show()"
      ]
    },
    {
      "cell_type": "markdown",
      "metadata": {
        "id": "xKpa7e1N9Q3Y"
      },
      "source": [
        "This shows that likelihood of a word occurring is inversely proportional to its rank. This effect is called [Zipf's Law](https://en.wikipedia.org/wiki/Zipf%27s_law), and suggests that the most frequent word will occur approximately twice as often as the second most frequent word, three times as often as the third most frequent word, etc. Zipf's law is most easily observed by plotting the data on a log-log graph, with the axes being log (rank order) and log (frequency) resulting in a linear relationship."
      ]
    },
    {
      "cell_type": "code",
      "execution_count": null,
      "metadata": {
        "id": "C2tcUK5Z9Q3Y"
      },
      "outputs": [],
      "source": [
        "fig = plt.figure()\n",
        "ax = fig.add_subplot(111)\n",
        "plt.plot(range(len(countedWords)), countedWords['count'])\n",
        "ax.set_yscale('log')\n",
        "ax.set_xscale('log')\n",
        "plt.show()"
      ]
    },
    {
      "cell_type": "markdown",
      "metadata": {
        "id": "QLuDfBFj9Q3Y"
      },
      "source": [
        "(The same relationship occurs in many other rankings, such as population ranks of cities, corporation sizes, income rankings, etc.) \n",
        "\n",
        "The distribution was imagined by Zipf to be driven by a principle of 'least effort' where speakers did not work any harder than necessary to communicate a given idea, but the basis for this relationship is still not well understood and conforms at least as well to a process of [preferential attachment](https://en.wikipedia.org/wiki/Preferential_attachment) whereby people disproportionately attend to popular words.\n"
      ]
    },
    {
      "cell_type": "markdown",
      "metadata": {
        "id": "tKj_i1mH9Q3Z"
      },
      "source": [
        "# Getting and working with raw text\n",
        "\n",
        "First, we will retrieve a collection of press releases from a *GitHub API* that archived them, based on a number of analyses by Justin Grimmer, a political scientist whose work we will read in two weeks!\n",
        "\n",
        "GitHub API requests are made to `'https://api.github.com/'` and responses are in JSON, similar to Tumblr's API.\n",
        "\n",
        "We will get the information on [github.com/lintool/GrimmerSenatePressReleases](https://github.com/lintool/GrimmerSenatePressReleases) as it contains a nice set documents."
      ]
    },
    {
      "cell_type": "code",
      "execution_count": null,
      "metadata": {
        "id": "no4THGVU9Q3Z"
      },
      "outputs": [],
      "source": [
        "r = requests.get('https://api.github.com/repos/lintool/GrimmerSenatePressReleases')\n",
        "senateReleasesData = json.loads(r.text)\n",
        "print(senateReleasesData.keys())\n",
        "print(senateReleasesData['description'])"
      ]
    },
    {
      "cell_type": "markdown",
      "metadata": {
        "id": "Hc5sa0sk9Q3Z"
      },
      "source": [
        "What we are interested in here is the `'contents_url'`"
      ]
    },
    {
      "cell_type": "code",
      "execution_count": null,
      "metadata": {
        "id": "XaDNY1te9Q3Z"
      },
      "outputs": [],
      "source": [
        "print(senateReleasesData['contents_url'])"
      ]
    },
    {
      "cell_type": "markdown",
      "metadata": {
        "id": "Rmytwpmb9Q3Z"
      },
      "source": [
        "We can use this to get any or all of the files from the repo."
      ]
    },
    {
      "cell_type": "code",
      "execution_count": null,
      "metadata": {
        "id": "ibPe9DB89Q3Z"
      },
      "outputs": [],
      "source": [
        "r = requests.get('https://api.github.com/repos/lintool/GrimmerSenatePressReleases/contents/raw/Whitehouse')\n",
        "whitehouseLinks = json.loads(r.text)\n",
        "whitehouseLinks[0]"
      ]
    },
    {
      "cell_type": "markdown",
      "metadata": {
        "id": "MIKcyGDj9Q3Z"
      },
      "source": [
        "Now we have a list of information about Whitehouse press releases. Let's look at one of them."
      ]
    },
    {
      "cell_type": "code",
      "execution_count": null,
      "metadata": {
        "id": "AzHOu3BI9Q3Z"
      },
      "outputs": [],
      "source": [
        "r = requests.get(whitehouseLinks[0]['download_url'])\n",
        "whitehouseRelease = r.text\n",
        "print(whitehouseRelease[:1000])\n",
        "len(whitehouseRelease)"
      ]
    },
    {
      "cell_type": "markdown",
      "metadata": {
        "id": "OgPGDOVB9Q3a"
      },
      "source": [
        "Now we have a string of correctly encoded text. For analysis of its words, next we need to tokenize it, or split it into a sequence of tokens or word instances."
      ]
    },
    {
      "cell_type": "code",
      "execution_count": null,
      "metadata": {
        "id": "l1M1434Y9Q3a"
      },
      "outputs": [],
      "source": [
        "whTokens = word_tokenize(whitehouseRelease)\n",
        "whTokens[10:30]"
      ]
    },
    {
      "cell_type": "markdown",
      "metadata": {
        "id": "ZKmASz-A9Q3a"
      },
      "source": [
        "Previous iterations of the course used `nltk`s tokenizer, but as we saw before, we used spaCy's model (https://spacy.io/api/tokenizer). We intend to avoid using NLTK when we can - for production level code, it is a lot faster and cleaner to use spaCy.\n",
        "\n",
        "That being said, `nltk` does have some useful methods for quick analysis of small corpora. We will explore a few here, and encourage you to figure out for yourself which other ones might be useful.\n",
        "\n",
        "To use the list of tokens in `nltk`, and take advantage of functions like `concordance`, shown above, we can convert it into a `Text`."
      ]
    },
    {
      "cell_type": "code",
      "execution_count": null,
      "metadata": {
        "id": "gITF2qll9Q3b"
      },
      "outputs": [],
      "source": [
        "import nltk"
      ]
    },
    {
      "cell_type": "code",
      "execution_count": null,
      "metadata": {
        "id": "cOXYM6859Q3b"
      },
      "outputs": [],
      "source": [
        "whText = nltk.Text(whTokens)\n",
        "\n",
        "whitehouseIndex = nltk.text.ConcordanceIndex(whText) \n",
        "whitehouseIndex.print_concordance('Whitehouse')"
      ]
    },
    {
      "cell_type": "markdown",
      "metadata": {
        "id": "c_kDJ2GB9Q3b"
      },
      "source": [
        "*Note* that the `Text` class is for doing rapid, exploratory analysis. It provides an easy interface to many of the operations we want to do, but it does not allow us much control over the particular operations it glosses. When you are doing a more complete analysis, you should be using the module specifically designed for that task instead of the shortcut method `Text` provides, e.g. use  [`collocations` Module](http://www.nltk.org/api/nltk.html#module-nltk.collocations) instead of `.collocations()`.\n",
        "\n",
        "Now that we have gotten this loaded, let's glance at few features we will delve into more deeply later.\n",
        "\n",
        "For example, we can find words that statistically tend to occur together and typically have a composite, idiomatic meaning irreducible to the semantics of its component words. We will do this later with more control over exactly how these are identified."
      ]
    },
    {
      "cell_type": "markdown",
      "metadata": {
        "id": "FNXrWbmN9Q3b"
      },
      "source": [
        "Or we can pick a word (or words) and find what words tend to occur around it."
      ]
    },
    {
      "cell_type": "code",
      "execution_count": null,
      "metadata": {
        "id": "DoQXBwsm9Q3b"
      },
      "outputs": [],
      "source": [
        "whText.common_contexts(['stem'])"
      ]
    },
    {
      "cell_type": "markdown",
      "metadata": {
        "id": "PcHjqlQz9Q3b"
      },
      "source": [
        "We can also just count the number of times the word occurs."
      ]
    },
    {
      "cell_type": "code",
      "execution_count": null,
      "metadata": {
        "id": "ldffH8099Q3b"
      },
      "outputs": [],
      "source": [
        "whText.count('cell')"
      ]
    },
    {
      "cell_type": "markdown",
      "metadata": {
        "id": "HPnJARSK9Q3c"
      },
      "source": [
        "\n",
        "We can also plot each time a set of words occurs."
      ]
    },
    {
      "cell_type": "code",
      "execution_count": null,
      "metadata": {
        "id": "P_h38MeJ9Q3c"
      },
      "outputs": [],
      "source": [
        "sns.reset_orig() #Seaborn messes with this plot, disabling it\n",
        "whText.dispersion_plot(['Sen.','stem', 'cell', 'federal' ,'Lila', 'Barber', 'Whitehouse'])\n",
        "sns.set() #Re-enabling seaborn"
      ]
    },
    {
      "cell_type": "markdown",
      "metadata": {
        "id": "kUuP2W8y9Q3c"
      },
      "source": [
        "If we want to do an analysis of all the Whitehouse press releases we will first need to obtain them. By looking at the API we can see the the URL we want is [https://api.github.com/repos/lintool/GrimmerSenatePressReleases/contents/raw/Whitehouse](https://api.github.com/repos/lintool/GrimmerSenatePressReleases/contents/raw/Whitehouse), so we can create a function to scrape the individual files.\n",
        "\n",
        "If you want to know more about downloading from APIs, refer back to the 1st notebook."
      ]
    },
    {
      "cell_type": "code",
      "execution_count": null,
      "metadata": {
        "id": "6eHG1o-C9Q3c"
      },
      "outputs": [],
      "source": [
        "def getGithubFiles(target, maxFiles = 100):\n",
        "    #We are setting a max so our examples don't take too long to run\n",
        "    #For converting to a DataFrame\n",
        "    releasesDict = {\n",
        "        'name' : [], #The name of the file\n",
        "        'text' : [], #The text of the file, watch out for binary files\n",
        "        'path' : [], #The path in the git repo to the file\n",
        "        'html_url' : [], #The url to see the file on Github\n",
        "        'download_url' : [], #The url to download the file\n",
        "    }\n",
        "\n",
        "    #Get the directory information from Github\n",
        "    r = requests.get(target)\n",
        "    filesLst = json.loads(r.text)\n",
        "\n",
        "    for fileDict in filesLst[:maxFiles]:\n",
        "        #These are provided by the directory\n",
        "        releasesDict['name'].append(fileDict['name'])\n",
        "        releasesDict['path'].append(fileDict['path'])\n",
        "        releasesDict['html_url'].append(fileDict['html_url'])\n",
        "        releasesDict['download_url'].append(fileDict['download_url'])\n",
        "\n",
        "        #We need to download the text though\n",
        "        text = requests.get(fileDict['download_url']).text\n",
        "        releasesDict['text'].append(text)\n",
        "\n",
        "    return pandas.DataFrame(releasesDict)\n",
        "\n",
        "whReleases = getGithubFiles('https://api.github.com/repos/lintool/GrimmerSenatePressReleases/contents/raw/Whitehouse', maxFiles = 10)\n",
        "whReleases[:5]"
      ]
    },
    {
      "cell_type": "markdown",
      "metadata": {
        "id": "4Vjum5Lr9Q3c"
      },
      "source": [
        "If you are having trouble downloading the data uncomment this next cell"
      ]
    },
    {
      "cell_type": "code",
      "execution_count": null,
      "metadata": {
        "id": "X4W7R8Pv9Q3c"
      },
      "outputs": [],
      "source": [
        "#whReleases = pandas.read_csv('../data/whReleases.csv')"
      ]
    },
    {
      "cell_type": "markdown",
      "metadata": {
        "id": "_s4D4LqQ9Q3c"
      },
      "source": [
        "Now we have all the texts in a DataFrame we can look at a few things.\n",
        "\n",
        "First let's tokenize the texts with the same tokenizer as we used before. We will just save the tokens as a list for now; no need to convert to `Text`s."
      ]
    },
    {
      "cell_type": "code",
      "execution_count": null,
      "metadata": {
        "id": "BROzbnkE9Q3d"
      },
      "outputs": [],
      "source": [
        "whReleases['tokenized_text'] = whReleases['text'].apply(lambda x: word_tokenize(x))"
      ]
    },
    {
      "cell_type": "markdown",
      "metadata": {
        "id": "ONx3Xw3x9Q3d"
      },
      "source": [
        "Now lets see how long each of the press releases is:"
      ]
    },
    {
      "cell_type": "code",
      "execution_count": null,
      "metadata": {
        "id": "CKR10nfL9Q3d"
      },
      "outputs": [],
      "source": [
        "whReleases['word_counts'] = whReleases['tokenized_text'].apply(lambda x: len(x))\n",
        "whReleases['word_counts']"
      ]
    },
    {
      "cell_type": "markdown",
      "metadata": {
        "id": "CTC-DC709Q3d"
      },
      "source": [
        "## <font color=\"red\">*Exercise 1*</font>\n",
        "\n",
        "<font color=\"red\">Construct cells immediately below this that input and interrogate a corpus relating to your anticipated final project. This could include one of the Davies corpora or some other you have constructed. Turn your text into an nltk `Text` object, and explore all of the features examined above, and others that relate to better understanding your corpus in relation to your research question. </font>"
      ]
    },
    {
      "cell_type": "code",
      "source": [
        "from google.colab import drive\n",
        "drive.mount('/content/drive')\n",
        "!ls"
      ],
      "metadata": {
        "id": "MiCBwqBg_YoM",
        "outputId": "7245ffa0-1b2b-4e75-b674-dfef8087d8ea",
        "colab": {
          "base_uri": "https://localhost:8080/"
        }
      },
      "execution_count": 5,
      "outputs": [
        {
          "output_type": "stream",
          "name": "stdout",
          "text": [
            "Mounted at /content/drive\n",
            "drive  sample_data\n"
          ]
        }
      ]
    },
    {
      "cell_type": "code",
      "source": [
        "import pandas as pd\n",
        "\n",
        "path = '/content/drive/My Drive/letters_and_metadata.csv'\n",
        "\n",
        "df = pd.read_csv(path)\n",
        "print(df)"
      ],
      "metadata": {
        "id": "DOQ2pObZ-7zS",
        "outputId": "06995075-12f3-4843-b51c-3ee7907561b0",
        "colab": {
          "base_uri": "https://localhost:8080/"
        }
      },
      "execution_count": 13,
      "outputs": [
        {
          "output_type": "stream",
          "name": "stdout",
          "text": [
            "     Unnamed: 0  ...                                       letters_text\n",
            "0             0  ...  \"Humanity has a limited amount of time to turn...\n",
            "1             1  ...  \"I know how lucky my family and I have been an...\n",
            "2             2  ...  \"There is a limit to how much wealth one perso...\n",
            "3             3  ...  \"Just like it was done for us, we hope to make...\n",
            "4             4  ...  My family foundation and its giving arm—Dataph...\n",
            "..          ...  ...                                                ...\n",
            "220         220  ...  \"I've long stated that I enjoy making money, a...\n",
            "221         221  ...  \"One very fortunate thing is that I did not ge...\n",
            "222         222  ...  “Our family continues to be united in the beli...\n",
            "223         223  ...  \"I do hope that others involved in this effort...\n",
            "224         224  ...  \"Our vision is to make a significant contribut...\n",
            "\n",
            "[225 rows x 9 columns]\n"
          ]
        }
      ]
    },
    {
      "cell_type": "code",
      "source": [
        "clean_11 = df['letters_text'].to_string()\n",
        "\n",
        "# tokenize with spacy\n",
        "\n",
        "nlp = spacy.load(\"en_core_web_sm\")\n",
        "\n",
        "def word_tokenize(word_list):\n",
        "    tokenized = []\n",
        "    # pass word list through language model.\n",
        "    doc = nlp(word_list)\n",
        "    for token in doc:\n",
        "        if not token.is_punct and len(token.text.strip()) > 0:\n",
        "            tokenized.append(token.text)\n",
        "    return tokenized\n",
        "\n",
        "word_tokenize(clean_11)\n",
        "\n",
        "# counting words\n",
        "\n",
        "def wordCounter(wordLst):\n",
        "    wordCounts = {}\n",
        "    for word in wordLst:\n",
        "        #We usually need to normalize the case\n",
        "        wLower = word.lower()\n",
        "        if wLower in wordCounts:\n",
        "            wordCounts[wLower] += 1\n",
        "        else:\n",
        "            wordCounts[wLower] = 1\n",
        "    #convert to DataFrame\n",
        "    countsForFrame = {'word' : [], 'count' : []}\n",
        "    for w, c in wordCounts.items():\n",
        "        countsForFrame['word'].append(w)\n",
        "        countsForFrame['count'].append(c)\n",
        "    return pandas.DataFrame(countsForFrame)\n",
        "\n",
        "countedWords = wordCounter(word_tokenize(clean_11))\n",
        "countedWords[:10]\n",
        "\n",
        "countedWords.sort_values('count', ascending=False, inplace=True)\n",
        "countedWords[:100]\n",
        "\n",
        "fig = plt.figure()\n",
        "ax = fig.add_subplot(212)\n",
        "plt.scatter(range(len(countedWords)), countedWords['count'])\n",
        "plt.show()\n"
      ],
      "metadata": {
        "id": "JNbZdvqIAkwY",
        "outputId": "65bda87b-d930-4b36-e7e4-345b11adb009",
        "colab": {
          "base_uri": "https://localhost:8080/",
          "height": 147
        }
      },
      "execution_count": 15,
      "outputs": [
        {
          "output_type": "display_data",
          "data": {
            "image/png": "[encoded data removed]",
            "text/plain": [
              "<Figure size 432x288 with 1 Axes>"
            ]
          },
          "metadata": {
            "needs_background": "light"
          }
        }
      ]
    },
    {
      "cell_type": "code",
      "source": [
        "\n",
        "# log transform the plot\n",
        "\n",
        "fig = plt.figure()\n",
        "ax = fig.add_subplot(111)\n",
        "plt.plot(range(len(countedWords)), countedWords['count'])\n",
        "ax.set_yscale('log')\n",
        "ax.set_xscale('log')\n",
        "plt.show()"
      ],
      "metadata": {
        "id": "xYQ46S7EAuO_",
        "outputId": "1b4e7d4a-d834-4b32-bbc8-dcbb8d44f5d7",
        "colab": {
          "base_uri": "https://localhost:8080/",
          "height": 269
        }
      },
      "execution_count": 16,
      "outputs": [
        {
          "output_type": "display_data",
          "data": {
            "image/png": "[encoded data removed]",
            "text/plain": [
              "<Figure size 432x288 with 1 Axes>"
            ]
          },
          "metadata": {
            "needs_background": "light"
          }
        }
      ]
    },
    {
      "cell_type": "code",
      "source": [
        "import nltk\n",
        "\n",
        "all_letters = \"\"\n",
        "\n",
        "for letter in df['letters_text']:\n",
        "    all_letters = all_letters + str(letter)\n",
        "\n",
        "gpText = nltk.Text(word_tokenize(all_letters))\n",
        "\n",
        "gpText.common_contexts(['jewish'])\n",
        "\n",
        "# common contexts for the word 'jewish':\n",
        "\n",
        "\n",
        "\n"
      ],
      "metadata": {
        "id": "YJOWDHf-AJ5F",
        "outputId": "0ad2a2c5-8d65-434b-91a8-1bcbd349c698",
        "colab": {
          "base_uri": "https://localhost:8080/"
        }
      },
      "execution_count": 19,
      "outputs": [
        {
          "output_type": "stream",
          "name": "stdout",
          "text": [
            "society_living was_jew being_except the_people my_identity my_roots\n",
            "of_life being_was new_lens their_heritage the_future the_tradition\n",
            "the_community our_culture free_children learning_values do_family\n",
            "in_local united_appeal poor_area\n"
          ]
        }
      ]
    },
    {
      "cell_type": "code",
      "source": [
        "# count of the word 'good'\n",
        "gpText.count('good')"
      ],
      "metadata": {
        "id": "OsYe_QO1BXk8",
        "outputId": "2e9aa4fb-28ba-4aca-e43e-1f2072e02d5d",
        "colab": {
          "base_uri": "https://localhost:8080/"
        }
      },
      "execution_count": 20,
      "outputs": [
        {
          "output_type": "execute_result",
          "data": {
            "text/plain": [
              "186"
            ]
          },
          "metadata": {},
          "execution_count": 20
        }
      ]
    },
    {
      "cell_type": "code",
      "source": [
        "# dispersion plot for some relevant words: 'impact','moral', 'efficient', 'effective' ,'most'\n",
        "\n",
        "sns.reset_orig() #Seaborn messes with this plot, disabling it\n",
        "gpText.dispersion_plot(['impact','moral', 'efficient', 'effective' ,'most'])\n",
        "sns.set() #Re-enabling seaborn"
      ],
      "metadata": {
        "id": "EWtLmWH6BP3i",
        "outputId": "dce1769d-4a4a-493c-e07a-adc4c2bfab3a",
        "colab": {
          "base_uri": "https://localhost:8080/",
          "height": 295
        }
      },
      "execution_count": 22,
      "outputs": [
        {
          "output_type": "display_data",
          "data": {
            "image/png": "[encoded data removed]",
            "text/plain": [
              "<Figure size 432x288 with 1 Axes>"
            ]
          },
          "metadata": {
            "needs_background": "light"
          }
        }
      ]
    },
    {
      "cell_type": "code",
      "source": [
        "# word count for all letters\n",
        "\n",
        "df['tokenized_letters'] = df['letters_text'].apply(lambda x: str(x)).apply(lambda x: word_tokenize(x))\n",
        "df['letter_word_count'] = df['tokenized_letters'].apply(lambda x: len(x))\n",
        "df['letter_word_count']"
      ],
      "metadata": {
        "id": "AgQ_bD5oBKYR",
        "outputId": "2158ac49-98bb-4386-c107-e8cc4f524291",
        "colab": {
          "base_uri": "https://localhost:8080/"
        }
      },
      "execution_count": 21,
      "outputs": [
        {
          "output_type": "execute_result",
          "data": {
            "text/plain": [
              "0       766\n",
              "1       405\n",
              "2       400\n",
              "3       296\n",
              "4      1475\n",
              "       ... \n",
              "220     118\n",
              "221     744\n",
              "222     353\n",
              "223    1512\n",
              "224     661\n",
              "Name: letter_word_count, Length: 225, dtype: int64"
            ]
          },
          "metadata": {},
          "execution_count": 21
        }
      ]
    },
    {
      "cell_type": "markdown",
      "metadata": {
        "id": "4tGAC4s69Q3d"
      },
      "source": [
        "# Filtering and normalizing text\n",
        "\n",
        "As we want to start comparing the different releases we may choose to do a bit of filtering and normalizing that will allow us to focus on what we most care about. We can first make all of the words lower case, then drop the non-word tokens. Next, we can remove some 'stop words', stem the remaining words to remove suffixes, prefixes and (in some languages) infixes, or lemmatize tokens by intelligently grouping inflected or variant forms of the same word (e.g., with a stemmer and a dictionary). \n",
        "\n",
        "To begin this process, we will first define a function to work over the tokenized lists, then another to add normalized tokens to a new column."
      ]
    },
    {
      "cell_type": "markdown",
      "metadata": {
        "id": "ryFYrgb_9Q3d"
      },
      "source": [
        "We will be using spaCy's built in stop words identifying capacity. When we run text through spaCy's language pipeline, it automatically tags it as a stop word. "
      ]
    },
    {
      "cell_type": "markdown",
      "metadata": {
        "id": "HiXIfLca9Q3d"
      },
      "source": [
        "We can remove these stopwords from the analysis by fiat, but we could also take a more principled approach by looking at the frequency distribution of words and selecting a specific cut-off associated with the preservation of 'meaningful words' identified upon inspection. Alternatively, we could automatically set a cut-off by rule, such as removal of all words more frequent then the most frequent verb, or the most frequent noun (not pronoun), or some term of central interest. "
      ]
    },
    {
      "cell_type": "code",
      "execution_count": null,
      "metadata": {
        "id": "oNcbwwst9Q3e"
      },
      "outputs": [],
      "source": [
        "countsDict = {}\n",
        "for word in whReleases['tokenized_text'].sum():\n",
        "    if word in countsDict:\n",
        "        countsDict[word] += 1\n",
        "    else:\n",
        "        countsDict[word] = 1\n",
        "word_counts = sorted(countsDict.items(), key = lambda x : x[1], reverse = True)\n",
        "word_counts[:20]"
      ]
    },
    {
      "cell_type": "markdown",
      "metadata": {
        "id": "iiyCVDh29Q3e"
      },
      "source": [
        "We can look at this and pick the cutoff, often at the first noun. So we will cut all words before `'Whitehouse'`."
      ]
    },
    {
      "cell_type": "code",
      "execution_count": null,
      "metadata": {
        "id": "tjoOgSvZ9Q3e"
      },
      "outputs": [],
      "source": [
        "#The stop list is then all words that occur before the first noun\n",
        "stop_words_freq = []\n",
        "for word, count in word_counts:\n",
        "    if word == 'Whitehouse':\n",
        "        break\n",
        "    else:\n",
        "        stop_words_freq.append(word)\n",
        "stop_words_freq"
      ]
    },
    {
      "cell_type": "markdown",
      "metadata": {
        "id": "dCKaA-ub9Q3f"
      },
      "source": [
        "If we did have any extra words to add as stop words apart from those normally considered as stop words, we would add it to our stop words by passing it to the normalize tokens method. "
      ]
    },
    {
      "cell_type": "markdown",
      "metadata": {
        "id": "jw7w6iTf9Q3f"
      },
      "source": [
        "Now we can create our function to normalize the tokens"
      ]
    },
    {
      "cell_type": "code",
      "execution_count": null,
      "metadata": {
        "id": "hpICz99F9Q3f"
      },
      "outputs": [],
      "source": [
        "def normalizeTokens(word_list, extra_stop=[]):\n",
        "    #We can use a generator here as we just need to iterate over it\n",
        "    normalized = []\n",
        "    if type(word_list) == list and len(word_list) == 1:\n",
        "        word_list = word_list[0]\n",
        "\n",
        "    if type(word_list) == list:\n",
        "        word_list = ' '.join([str(elem) for elem in word_list]) \n",
        "\n",
        "    doc = nlp(word_list.lower())\n",
        "    \n",
        "    # add the property of stop word to words considered as stop words\n",
        "    if len(extra_stop) > 0:\n",
        "        for stopword in extra_stop:\n",
        "            lexeme = nlp.vocab[stopword]\n",
        "            lexeme.is_stop = True\n",
        "\n",
        "    for w in doc:\n",
        "        # if it's not a stop word or punctuation mark, add it to our article\n",
        "        if w.text != '\\n' and not w.is_stop and not w.is_punct and not w.like_num and len(w.text.strip()) > 0:\n",
        "            # we add the lematized version of the word\n",
        "            normalized.append(str(w.lemma_))\n",
        "\n",
        "    return normalized"
      ]
    },
    {
      "cell_type": "code",
      "execution_count": null,
      "metadata": {
        "id": "p39ryutS9Q3f"
      },
      "outputs": [],
      "source": [
        "whReleases['normalized_tokens'] = whReleases['tokenized_text'].apply(lambda x: normalizeTokens(x))\n",
        "\n",
        "whReleases['normalized_tokens_count'] = whReleases['normalized_tokens'].apply(lambda x: len(x))\n",
        "\n",
        "whReleases"
      ]
    },
    {
      "cell_type": "markdown",
      "metadata": {
        "id": "e3at-umN9Q3f"
      },
      "source": [
        "You can see that in the final step of normalizing, we add the lemmatized form of the word. spaCy's built in lemmatizer does this (https://spacy.io/api/lemmatizer). Lemmatization can be thought of as finding the root or the base of the word after removing inflections and other variations of words. Another possible way of finding the roots of words is using NLTK's porting or stemming functionalities, but we will not be getting into them.\n",
        "\n",
        "Now that it is cleaned we start analyzing the dataset. We can start by finding frequency distributions for the dataset. Lets start looking at all the press releases together. The [`ConditionalFreqDist`](http://www.nltk.org/api/nltk.html#nltk.probability.ConditionalProbDist) class reads in an iterable of tuples, the first element is the condition and the second the focal word. For starters, we will use word lengths as the conditions, but tags or clusters will provide more useful results."
      ]
    },
    {
      "cell_type": "code",
      "execution_count": null,
      "metadata": {
        "id": "38MAdkjR9Q3g"
      },
      "outputs": [],
      "source": [
        "#.sum() adds together the lists from each row into a single list\n",
        "whcfdist = nltk.ConditionalFreqDist(((len(w), w) for w in whReleases['normalized_tokens'].sum()))\n",
        "\n",
        "#print the number of words\n",
        "print(whcfdist.N())"
      ]
    },
    {
      "cell_type": "markdown",
      "metadata": {
        "id": "8sF75typ9Q3g"
      },
      "source": [
        "From this we can lookup the distributions of different word lengths"
      ]
    },
    {
      "cell_type": "code",
      "execution_count": null,
      "metadata": {
        "id": "fKmMBD2c9Q3g"
      },
      "outputs": [],
      "source": [
        "whcfdist[3].plot()"
      ]
    },
    {
      "cell_type": "markdown",
      "metadata": {
        "id": "ASt0IzC79Q3g"
      },
      "source": [
        "We can also create a Conditional Probability Distribution or [`ConditionalProbDist`](http://www.nltk.org/api/nltk.html#nltk.probability.ConditionalProbDist) from the `ConditionalFreqDist`. To do this, however, we need a model for the probability distribution. A simple model is [`ELEProbDist`](http://www.nltk.org/api/nltk.html#nltk.probability.ELEProbDist) which gives the expected likelihood estimate for the probability distribution of the experiment used to generate the observed frequency distribution. "
      ]
    },
    {
      "cell_type": "code",
      "execution_count": null,
      "metadata": {
        "id": "Z217zdFg9Q3g"
      },
      "outputs": [],
      "source": [
        "whcpdist = nltk.ConditionalProbDist(whcfdist, nltk.ELEProbDist)\n",
        "\n",
        "#print the most common 2 letter word\n",
        "print(whcpdist[2].max())\n",
        "\n",
        "#And its probability\n",
        "print(whcpdist[2].prob(whcpdist[2].max()))"
      ]
    },
    {
      "cell_type": "markdown",
      "metadata": {
        "id": "QAfnyS-T9Q3g"
      },
      "source": [
        "Length is one feature of a word, but there are many more important features we care about. Another critical feature is a word's role in the sentence, or its part of speech (POS). \n",
        "\n",
        "The method below works similarly to ```nltk.pos_text```, and can work with the conditional frequency distributions it provides."
      ]
    },
    {
      "cell_type": "code",
      "execution_count": null,
      "metadata": {
        "id": "3Vuis0C79Q3g"
      },
      "outputs": [],
      "source": [
        "def spacy_pos(word_list):\n",
        "    tags = []\n",
        "    doc = nlp(word_list.lower())\n",
        "    for w in doc:\n",
        "        tags.append((w.text, w.tag_))\n",
        "    return tags"
      ]
    },
    {
      "cell_type": "code",
      "execution_count": null,
      "metadata": {
        "id": "A4Ct80YF9Q3g"
      },
      "outputs": [],
      "source": [
        "whReleases['normalized_tokens_POS'] = [spacy_pos(t) for t in whReleases['text']]"
      ]
    },
    {
      "cell_type": "markdown",
      "metadata": {
        "id": "io_Mkr9s9Q3g"
      },
      "source": [
        "This gives us a new column with the part of speech as a short initialism and the word in a tuple, exactly how the `nltk.ConditionalFreqDist()` function wants them. We can now construct another conditional frequency distribution."
      ]
    },
    {
      "cell_type": "code",
      "execution_count": null,
      "metadata": {
        "id": "rn_8E9s69Q3h"
      },
      "outputs": [],
      "source": [
        "whcfdist_WordtoPOS = nltk.ConditionalFreqDist(whReleases['normalized_tokens_POS'].sum())\n",
        "list(whcfdist_WordtoPOS.items())[:10]"
      ]
    },
    {
      "cell_type": "markdown",
      "metadata": {
        "id": "LHaNcZxx9Q3h"
      },
      "source": [
        "This gives the frequency of each word as each part of speech...which can be uninformative and boring. What we want is the converse; the frequency of each part of speech for each word."
      ]
    },
    {
      "cell_type": "code",
      "execution_count": null,
      "metadata": {
        "id": "ZkEOWXAT9Q3h"
      },
      "outputs": [],
      "source": [
        "whcfdist_POStoWord = nltk.ConditionalFreqDist((p, w) for w, p in whReleases['normalized_tokens_POS'].sum())"
      ]
    },
    {
      "cell_type": "markdown",
      "metadata": {
        "id": "SLYs5e_09Q3h"
      },
      "source": [
        "We can now identify and collect all of the superlative adjectives"
      ]
    },
    {
      "cell_type": "code",
      "execution_count": null,
      "metadata": {
        "id": "2g_gVfwq9Q3h"
      },
      "outputs": [],
      "source": [
        "whcfdist_POStoWord['JJ']"
      ]
    },
    {
      "cell_type": "markdown",
      "metadata": {
        "id": "ttYP1HJx9Q3h"
      },
      "source": [
        "Or look at the most common nouns"
      ]
    },
    {
      "cell_type": "code",
      "execution_count": null,
      "metadata": {
        "id": "at-5XvYb9Q3h"
      },
      "outputs": [],
      "source": [
        "whcfdist_POStoWord['NN'].most_common(5)"
      ]
    },
    {
      "cell_type": "markdown",
      "metadata": {
        "id": "jx1FBB8I9Q3i"
      },
      "source": [
        "Or plot the base form verbs against their number of occurrences"
      ]
    },
    {
      "cell_type": "code",
      "execution_count": null,
      "metadata": {
        "id": "FBf5cm0w9Q3i"
      },
      "outputs": [],
      "source": [
        "whcfdist_POStoWord['VB'].plot()"
      ]
    },
    {
      "cell_type": "markdown",
      "metadata": {
        "id": "bArzaA8M9Q3i"
      },
      "source": [
        "We can then do a similar analysis of the word probabilities"
      ]
    },
    {
      "cell_type": "code",
      "execution_count": null,
      "metadata": {
        "id": "BYoWi97N9Q3i"
      },
      "outputs": [],
      "source": [
        "whcpdist_POStoWord = nltk.ConditionalProbDist(whcfdist_POStoWord, nltk.ELEProbDist)\n",
        "\n",
        "#print the most common nouns\n",
        "print(whcpdist_POStoWord['NN'].max())\n",
        "\n",
        "#And its probability\n",
        "print(whcpdist_POStoWord['NN'].prob(whcpdist_POStoWord['NN'].max()))"
      ]
    },
    {
      "cell_type": "markdown",
      "metadata": {
        "id": "CuUU3QDz9Q3i"
      },
      "source": [
        "We can even create a...wait for it...*WORD CLOUD* or Wordl to gaze at and draw mystical, approximate inferences about important nouns and verbs in our corpus:"
      ]
    },
    {
      "cell_type": "code",
      "execution_count": null,
      "metadata": {
        "id": "9sbZLmdq9Q3i"
      },
      "outputs": [],
      "source": [
        "wc = wordcloud.WordCloud(background_color=\"white\", max_words=500, width= 1000, height = 1000, mode ='RGBA', scale=.5).generate(' '.join(whReleases['normalized_tokens'].sum()))\n",
        "plt.imshow(wc)\n",
        "plt.axis(\"off\")\n",
        "plt.savefig(\"whitehouse_word_cloud.pdf\", format = 'pdf')"
      ]
    },
    {
      "cell_type": "markdown",
      "metadata": {
        "id": "QR3FLhJU9Q3i"
      },
      "source": [
        "## <font color=\"red\">*Exercise 2*</font>\n",
        "\n",
        "<font color=\"red\">Construct cells immediately below this that filter, stem and lemmatize the tokens in your corpus, and then creates plots (with titles and labels) that map the word frequency distribution, word probability distribution, and at least two conditional probability distributions that help us better understand the social and cultural game underlying the production of your corpus. Create a wordl of words (or normalized words) and add a few vague comments about what mysteries are revealed through it.</font>"
      ]
    },
    {
      "cell_type": "code",
      "source": [
        "\n",
        "# word counts without case\n",
        "\n",
        "countsDict = {}\n",
        "for word in df['tokenized_letters'].sum():\n",
        "    word_lower = word.lower()\n",
        "    if word_lower in countsDict:\n",
        "        countsDict[word_lower] += 1\n",
        "    else:\n",
        "        countsDict[word_lower] = 1\n",
        "word_counts = sorted(countsDict.items(), key = lambda x : x[1], reverse = True)\n",
        "word_counts[:200]"
      ],
      "metadata": {
        "id": "GeHUkIB5BnFe",
        "outputId": "20d6ea77-db54-43c9-a5b7-5863dee65c04",
        "colab": {
          "base_uri": "https://localhost:8080/"
        }
      },
      "execution_count": 23,
      "outputs": [
        {
          "output_type": "execute_result",
          "data": {
            "text/plain": [
              "[('the', 4488),\n",
              " ('to', 4134),\n",
              " ('and', 3711),\n",
              " ('of', 2774),\n",
              " ('in', 2047),\n",
              " ('a', 1986),\n",
              " ('i', 1694),\n",
              " ('we', 1653),\n",
              " ('that', 1433),\n",
              " ('our', 1338),\n",
              " ('my', 1090),\n",
              " ('is', 986),\n",
              " ('have', 957),\n",
              " ('for', 953),\n",
              " ('with', 715),\n",
              " ('it', 694),\n",
              " ('as', 645),\n",
              " ('this', 624),\n",
              " ('are', 606),\n",
              " ('giving', 575),\n",
              " ('on', 481),\n",
              " ('be', 453),\n",
              " ('pledge', 445),\n",
              " ('world', 419),\n",
              " ('their', 407),\n",
              " ('was', 386),\n",
              " ('at', 366),\n",
              " ('not', 362),\n",
              " ('more', 361),\n",
              " ('by', 356),\n",
              " ('will', 356),\n",
              " ('can', 343),\n",
              " ('from', 339),\n",
              " ('us', 339),\n",
              " ('people', 333),\n",
              " ('who', 303),\n",
              " ('you', 297),\n",
              " ('has', 293),\n",
              " ('an', 291),\n",
              " ('been', 291),\n",
              " ('all', 289),\n",
              " ('or', 288),\n",
              " ('do', 285),\n",
              " ('others', 271),\n",
              " ('but', 270),\n",
              " ('life', 268),\n",
              " ('me', 267),\n",
              " ('wealth', 256),\n",
              " ('years', 255),\n",
              " ('philanthropy', 253),\n",
              " ('family', 249),\n",
              " ('many', 248),\n",
              " ('one', 244),\n",
              " ('’s', 243),\n",
              " ('so', 232),\n",
              " ('than', 232),\n",
              " ('make', 231),\n",
              " ('time', 230),\n",
              " ('give', 229),\n",
              " ('foundation', 225),\n",
              " ('also', 214),\n",
              " ('work', 208),\n",
              " ('those', 203),\n",
              " ('education', 203),\n",
              " (\"'s\", 201),\n",
              " ('children', 200),\n",
              " ('help', 199),\n",
              " ('most', 196),\n",
              " ('what', 193),\n",
              " ('good', 193),\n",
              " ('had', 191),\n",
              " ('am', 190),\n",
              " ('philanthropic', 187),\n",
              " ('they', 182),\n",
              " ('which', 182),\n",
              " ('through', 182),\n",
              " ('about', 178),\n",
              " ('when', 175),\n",
              " ('these', 163),\n",
              " ('would', 162),\n",
              " ('other', 161),\n",
              " ('better', 160),\n",
              " ('lives', 159),\n",
              " ('them', 157),\n",
              " ('believe', 154),\n",
              " ('up', 153),\n",
              " ('hope', 152),\n",
              " ('money', 151),\n",
              " ('were', 143),\n",
              " ('back', 142),\n",
              " ('great', 140),\n",
              " ('support', 140),\n",
              " ('much', 139),\n",
              " ('how', 137),\n",
              " ('opportunity', 137),\n",
              " ('over', 136),\n",
              " ('impact', 134),\n",
              " ('there', 130),\n",
              " ('business', 126),\n",
              " ('fortunate', 120),\n",
              " ('way', 119),\n",
              " ('like', 119),\n",
              " ('made', 118),\n",
              " ('future', 115),\n",
              " ('resources', 111),\n",
              " ('well', 111),\n",
              " ('need', 111),\n",
              " ('bill', 111),\n",
              " ('very', 111),\n",
              " ('public', 111),\n",
              " ('he', 109),\n",
              " ('own', 107),\n",
              " ('join', 106),\n",
              " ('success', 105),\n",
              " ('first', 105),\n",
              " ('school', 105),\n",
              " ('where', 104),\n",
              " ('your', 104),\n",
              " ('now', 102),\n",
              " ('new', 102),\n",
              " ('if', 102),\n",
              " ('country', 102),\n",
              " ('causes', 101),\n",
              " ('community', 101),\n",
              " ('research', 100),\n",
              " ('society', 100),\n",
              " ('making', 99),\n",
              " ('his', 98),\n",
              " ('into', 96),\n",
              " ('its', 95),\n",
              " ('best', 95),\n",
              " ('place', 95),\n",
              " ('while', 94),\n",
              " ('only', 94),\n",
              " ('both', 94),\n",
              " ('just', 93),\n",
              " ('part', 93),\n",
              " ('health', 90),\n",
              " ('young', 90),\n",
              " ('want', 90),\n",
              " ('personal', 89),\n",
              " ('some', 88),\n",
              " ('change', 87),\n",
              " ('commitment', 87),\n",
              " ('no', 87),\n",
              " ('always', 86),\n",
              " ('warren', 85),\n",
              " ('focus', 84),\n",
              " ('able', 84),\n",
              " ('financial', 83),\n",
              " ('around', 83),\n",
              " ('parents', 83),\n",
              " ('share', 83),\n",
              " ('long', 82),\n",
              " ('every', 82),\n",
              " ('important', 81),\n",
              " ('each', 81),\n",
              " ('given', 80),\n",
              " ('during', 79),\n",
              " ('opportunities', 78),\n",
              " ('feel', 77),\n",
              " ('create', 77),\n",
              " ('even', 77),\n",
              " ('working', 77),\n",
              " ('use', 77),\n",
              " ('communities', 76),\n",
              " ('never', 75),\n",
              " ('continue', 75),\n",
              " ('charitable', 75),\n",
              " ('ago', 75),\n",
              " ('helping', 74),\n",
              " ('could', 74),\n",
              " ('difference', 74),\n",
              " ('efforts', 72),\n",
              " ('should', 72),\n",
              " ('right', 72),\n",
              " ('being', 71),\n",
              " ('n’t', 70),\n",
              " ('day', 70),\n",
              " ('majority', 70),\n",
              " ('same', 70),\n",
              " ('become', 69),\n",
              " ('responsibility', 69),\n",
              " ('melinda', 69),\n",
              " ('live', 68),\n",
              " ('jewish', 68),\n",
              " ('did', 67),\n",
              " ('then', 67),\n",
              " ('such', 66),\n",
              " ('enough', 66),\n",
              " ('year', 66),\n",
              " ('may', 65),\n",
              " ('away', 65),\n",
              " ('after', 64),\n",
              " ('care', 64),\n",
              " ('gifts', 64),\n",
              " ('organizations', 63),\n",
              " ('because', 63),\n",
              " ('human', 62),\n",
              " ('today', 62)]"
            ]
          },
          "metadata": {},
          "execution_count": 23
        }
      ]
    },
    {
      "cell_type": "code",
      "source": [
        "# create a list of stop words based on a manually decided break\n",
        "\n",
        "stop_words_freq = []\n",
        "for word, count in word_counts:\n",
        "    if word == 'giving':\n",
        "        break\n",
        "    else:\n",
        "        stop_words_freq.append(word)\n",
        "stop_words_freq"
      ],
      "metadata": {
        "id": "bIBsHYYsBrVk",
        "outputId": "d3ffb60d-a847-49b4-f9e5-59726991837a",
        "colab": {
          "base_uri": "https://localhost:8080/"
        }
      },
      "execution_count": 24,
      "outputs": [
        {
          "output_type": "execute_result",
          "data": {
            "text/plain": [
              "['the',\n",
              " 'to',\n",
              " 'and',\n",
              " 'of',\n",
              " 'in',\n",
              " 'a',\n",
              " 'i',\n",
              " 'we',\n",
              " 'that',\n",
              " 'our',\n",
              " 'my',\n",
              " 'is',\n",
              " 'have',\n",
              " 'for',\n",
              " 'with',\n",
              " 'it',\n",
              " 'as',\n",
              " 'this',\n",
              " 'are']"
            ]
          },
          "metadata": {},
          "execution_count": 24
        }
      ]
    },
    {
      "cell_type": "code",
      "source": [
        "# normalization\n",
        "\n",
        "def normalizeTokens(word_list, extra_stop=[]):\n",
        "    normalized = []\n",
        "    if type(word_list) == list and len(word_list) == 1:\n",
        "        word_list = word_list[0]\n",
        "\n",
        "    if type(word_list) == list:\n",
        "        word_list = ' '.join([str(elem) for elem in word_list]) \n",
        "\n",
        "    doc = nlp(word_list.lower())\n",
        "    \n",
        "    # add the property of stop word to words considered as stop words\n",
        "    if len(extra_stop) > 0:\n",
        "        for stopword in extra_stop:\n",
        "            lexeme = nlp.vocab[stopword]\n",
        "            lexeme.is_stop = True\n",
        "\n",
        "    for w in doc:\n",
        "        # if it's not a stop word or punctuation mark, add it to our article\n",
        "        if w.text != '\\n' and not w.is_stop and not w.is_punct and not w.like_num and len(w.text.strip()) > 0:\n",
        "            # we add the lematized version of the word\n",
        "            normalized.append(str(w.lemma_))\n",
        "\n",
        "    return normalized\n",
        "\n",
        "df['normalized_letters'] = df['tokenized_letters'].apply(lambda x: normalizeTokens(x))\n",
        "df['normalized_letters_count'] = df['normalized_letters'].apply(lambda x: len(x))"
      ],
      "metadata": {
        "id": "PuJCLp13Bxif"
      },
      "execution_count": 25,
      "outputs": []
    },
    {
      "cell_type": "code",
      "source": [
        "# I drop rows witout letter texts\n",
        "df_with_nan = df\n",
        "df = df[(~df[\"letters_text\"].isna())]"
      ],
      "metadata": {
        "id": "ivc8-KHUB2q2"
      },
      "execution_count": 26,
      "outputs": []
    },
    {
      "cell_type": "code",
      "source": [
        "# create a common list for all letters\n",
        "\n",
        "gpfdist = nltk.ConditionalFreqDist(((len(w), w) for w in df['normalized_letters'].sum()))\n",
        "\n",
        "gpcpdist = nltk.ConditionalProbDist(gpfdist, nltk.ELEProbDist)\n",
        "\n",
        "#print the most common 16, 14, and 6 letter words\n",
        "print(gpcpdist[16].max())\n",
        "print(gpcpdist[14].max())\n",
        "print(gpcpdist[6].max())"
      ],
      "metadata": {
        "id": "hbMDUrlGB7Iv",
        "outputId": "597c70d4-2ea2-4b20-8ff7-0a78eac02aa8",
        "colab": {
          "base_uri": "https://localhost:8080/"
        }
      },
      "execution_count": 30,
      "outputs": [
        {
          "output_type": "stream",
          "name": "stdout",
          "text": [
            "entrepreneurship\n",
            "responsibility\n",
            "pledge\n"
          ]
        }
      ]
    },
    {
      "cell_type": "code",
      "source": [
        "# wordle\n",
        "\n",
        "wc = wordcloud.WordCloud(background_color=\"white\", max_words=500, width= 1000, height = 1000, mode ='RGBA', scale=.5).generate(' '.join(df['normalized_letters'].sum()))\n",
        "plt.imshow(wc)\n",
        "plt.axis(\"off\")\n",
        "plt.savefig(\"givingpledge_word_cloud.pdf\", format = 'pdf')"
      ],
      "metadata": {
        "id": "IjZBg2joCNpk",
        "outputId": "21142275-a4a6-4aac-b4a5-ae7f6f37ec15",
        "colab": {
          "base_uri": "https://localhost:8080/",
          "height": 248
        }
      },
      "execution_count": 31,
      "outputs": [
        {
          "output_type": "display_data",
          "data": {
            "image/png": "[encoded data removed]",
            "text/plain": [
              "<Figure size 432x288 with 1 Axes>"
            ]
          },
          "metadata": {}
        }
      ]
    },
    {
      "cell_type": "markdown",
      "metadata": {
        "id": "YTHBUOyJ9Q3i"
      },
      "source": [
        "## Davies Corpora\n",
        "\n",
        "Now that we have our basic cleaning down, we can arrange our Davies Corpora. Let us try this with the movies corpora we have already loaded.\n",
        "\n",
        "We'll use a smaller corpus of a 1000 movies for this demonstration."
      ]
    },
    {
      "cell_type": "code",
      "execution_count": null,
      "metadata": {
        "id": "bahpwT3S9Q3i"
      },
      "outputs": [],
      "source": [
        "zfile = zipfile.ZipFile(corpus_name + \"/sources_movies.zip\")\n",
        "source = []"
      ]
    },
    {
      "cell_type": "code",
      "execution_count": null,
      "metadata": {
        "id": "zIKRYYbn9Q3j"
      },
      "outputs": [],
      "source": [
        "for file in zfile.namelist():\n",
        "    with zfile.open(file) as f:\n",
        "        for line in f:\n",
        "            source.append(line)"
      ]
    },
    {
      "cell_type": "code",
      "execution_count": null,
      "metadata": {
        "id": "wrbWdeHz9Q3j"
      },
      "outputs": [],
      "source": [
        "source[0:20]"
      ]
    },
    {
      "cell_type": "markdown",
      "metadata": {
        "id": "WXGy8DUR9Q3j"
      },
      "source": [
        "It looks dirty because the file is encoded as bytes, but we can certainly see the information there. The file id is also present in the original raw text data: as the first \"word\". Look back at the normalized/tokenized words to confirm that. We're going to use this to create a dataframe with: Fileid, movie name, genre, year, and country.\n",
        "\n",
        "It is advised that you run a similar check of the source file before you do other extraction.\n",
        "\n",
        "First, let us create a dictionary mapping file-id to all the text. Each movie will be mapped to a list of the tokenized words.\n",
        "\n",
        "In this example, I only use it to load 100 movies. You can comment this out or increase/decrease the number as you see fit.\n",
        "\n",
        "Note that in the following cells, we make use of the `lucem_illud` package's `word_tokenize` function. You can see that function on line 70 of [processing.py](https://github.com/UChicago-Computational-Content-Analysis/lucem_illud/blob/main/lucem_illud/processing.py), and we provide the code here for transparency. Since we put this folder in our helper package, you won't need to define this function every time you want to use it; you just `import lucem_illud`!"
      ]
    },
    {
      "cell_type": "code",
      "execution_count": null,
      "metadata": {
        "id": "p_Qoqkc49Q3j"
      },
      "outputs": [],
      "source": [
        "# processing.py calls a spacy model called \"en\" (and sometimes called \"en_core_web_sm\") so we load that first.\n",
        "try:\n",
        "    nlp = spacy.load(\"en\")\n",
        "except OSError:\n",
        "    nlp = spacy.load(\"en_core_web_sm\")\n",
        "\n",
        "    \n",
        "#Here is the function from lucem_illud/lucem_illud/processing.py\n",
        "def word_tokenize(word_list, model=nlp, MAX_LEN=1500000):\n",
        "    \n",
        "    tokenized = []\n",
        "    if type(word_list) == list and len(word_list) == 1:\n",
        "        word_list = word_list[0]\n",
        "\n",
        "    if type(word_list) == list:\n",
        "        word_list = ' '.join([str(elem) for elem in word_list]) \n",
        "    # since we're only tokenizing, I remove RAM intensive operations and increase max text size\n",
        "\n",
        "    model.max_length = MAX_LEN\n",
        "    doc = model(word_list, disable=[\"parser\", \"tagger\", \"ner\"])\n",
        "    \n",
        "    for token in doc:\n",
        "        if not token.is_punct and len(token.text.strip()) > 0:\n",
        "            tokenized.append(token.text)\n",
        "    return tokenized"
      ]
    },
    {
      "cell_type": "code",
      "execution_count": null,
      "metadata": {
        "id": "uqOlrvrB9Q3j"
      },
      "outputs": [],
      "source": [
        "movie_texts = {}"
      ]
    },
    {
      "cell_type": "code",
      "execution_count": null,
      "metadata": {
        "id": "TVwCqKr19Q3j"
      },
      "outputs": [],
      "source": [
        "for files in movie_raw:\n",
        "    if len(movie_texts) > 100:\n",
        "        break\n",
        "    movies = clean_raw_text(movie_raw[files][1:])\n",
        "    for movie in movies:\n",
        "        # We can run the following line of code with or without `lucem_illud.`, using the package or our code 2 cells above.\n",
        "        txts = lucem_illud.word_tokenize(movie)\n",
        "        try:\n",
        "            movie_texts[txts[0][2:]] = txts[1:]\n",
        "        except IndexError:\n",
        "            continue"
      ]
    },
    {
      "cell_type": "code",
      "execution_count": null,
      "metadata": {
        "id": "DLNvlHbq9Q3j"
      },
      "outputs": [],
      "source": [
        "import pandas as pd"
      ]
    },
    {
      "cell_type": "code",
      "execution_count": null,
      "metadata": {
        "id": "cGwIHHVI9Q3j"
      },
      "outputs": [],
      "source": [
        "movie_df = pd.DataFrame(columns=[\"Movie Name\", \"Genre\", \"Year\", \"Country\", \"Tokenized Texts\"])"
      ]
    },
    {
      "cell_type": "code",
      "execution_count": null,
      "metadata": {
        "id": "AxY9ZU0G9Q3k"
      },
      "outputs": [],
      "source": [
        "for movie in source[3:]:\n",
        "    try:\n",
        "        tid, fileid, total_words, genre, year, lang, country, imdb, title = movie.decode(\"utf-8\").split(\"\\t\")\n",
        "    except UnicodeDecodeError:\n",
        "        continue\n",
        "    try:\n",
        "        movie_df.loc[fileid.strip()] = [title.strip(), genre.strip(), year.strip(), country.strip(), movie_texts[fileid.strip()]]\n",
        "    except KeyError:\n",
        "        continue"
      ]
    },
    {
      "cell_type": "code",
      "execution_count": null,
      "metadata": {
        "id": "OTGxv-y59Q3k"
      },
      "outputs": [],
      "source": [
        "movie_df.head()"
      ]
    },
    {
      "cell_type": "markdown",
      "metadata": {
        "id": "PIIWN3649Q3k"
      },
      "source": [
        "# Part-of-Speech (POS) tagging"
      ]
    },
    {
      "cell_type": "markdown",
      "metadata": {
        "id": "OjYoUXx29Q3k"
      },
      "source": [
        "In POS tagging, we classify each word by its semantic role in a sentence. We will be using the in-built spaCy pos-tagging.\n",
        "\n",
        "https://spacy.io/usage/linguistic-features\n",
        "\n",
        "|#. |Tag |Description |\n",
        "|---|----|------------|\n",
        "|1.\t|CC\t|Coordinating conjunction\n",
        "|2.\t|CD\t|Cardinal number\n",
        "|3.\t|DT\t|Determiner\n",
        "|4.\t|EX\t|Existential there\n",
        "|5.\t|FW\t|Foreign word\n",
        "|6.\t|IN\t|Preposition or subordinating conjunction\n",
        "|7.\t|JJ\t|Adjective\n",
        "|8.\t|JJR|\tAdjective, comparative\n",
        "|9.\t|JJS|\tAdjective, superlative\n",
        "|10.|\tLS\t|List item marker\n",
        "|11.|\tMD\t|Modal\n",
        "|12.|\tNN\t|Noun, singular or mass\n",
        "|13.|\tNNS\t|Noun, plural\n",
        "|14.|\tNNP\t|Proper noun, singular\n",
        "|15.|\tNNPS|\tProper noun, plural\n",
        "|16.|\tPDT\t|Predeterminer\n",
        "|17.|\tPOS\t|Possessive ending\n",
        "|18.|\tPRP\t|Personal pronoun\n",
        "|19.|\tPRP\\$|\tPossessive pronoun\n",
        "|20.|\tRB\t|Adverb\n",
        "|21.|\tRBR\t|Adverb, comparative\n",
        "|22.|\tRBS\t|Adverb, superlative\n",
        "|23.|\tRP\t|Particle\n",
        "|24.|\tSYM\t|Symbol\n",
        "|25.|\tTO\t|to\n",
        "|26.|\tUH\t|Interjection\n",
        "|27.|\tVB\t|Verb, base form\n",
        "|28.|\tVBD\t|Verb, past tense\n",
        "|29.|\tVBG\t|Verb, gerund or present participle\n",
        "|30.|\tVBN\t|Verb, past participle\n",
        "|31.|\tVBP\t|Verb, non-3rd person singular present\n",
        "|32.|\tVBZ\t|Verb, 3rd person singular present\n",
        "|33.|\tWDT\t|Wh-determiner\n",
        "|34.|\tWP\t|Wh-pronoun\n",
        "|35.|\tWP$\t|Possessive wh-pronoun\n",
        "|36.|\tWRB\t|Wh-adverb\n",
        "\n",
        "spaCy pos-tags word as we run it through the english language model. A small example:"
      ]
    },
    {
      "cell_type": "code",
      "execution_count": null,
      "metadata": {
        "id": "LAF_7ANA9Q3k"
      },
      "outputs": [],
      "source": [
        "sent = nlp(u\"Tom went to IKEA to get some of those delicious Swedish meatballs.\")\n"
      ]
    },
    {
      "cell_type": "code",
      "execution_count": null,
      "metadata": {
        "id": "eTmBKgRW9Q3k"
      },
      "outputs": [],
      "source": [
        "for token in sent:\n",
        "    print(token.text, token.pos_, token.tag_)"
      ]
    },
    {
      "cell_type": "markdown",
      "metadata": {
        "id": "S6fIeX5P9Q3k"
      },
      "source": [
        "This looks quite good. Now we will try POS tagging with a somewhat larger corpus. We consider a few of the top posts from the reddit data we used last week."
      ]
    },
    {
      "cell_type": "code",
      "execution_count": null,
      "metadata": {
        "id": "Vz7UvwS99Q3k"
      },
      "outputs": [],
      "source": [
        "redditDF = pandas.read_csv('../data/reddit.csv')"
      ]
    },
    {
      "cell_type": "markdown",
      "metadata": {
        "id": "3KhAR-zt9Q3l"
      },
      "source": [
        "Grabbing the 10 highest scoring posts and tokenizing the sentences. Once again, notice that we aren't going to do any kind of stemming this week (although *semantic* normalization may be performed where we translate synonyms into the same focal word). Here, we will use sentences tokenized by spaCy. Like before, these methods can also be found in `lucem_illud`.\n",
        "\n"
      ]
    },
    {
      "cell_type": "code",
      "execution_count": null,
      "metadata": {
        "id": "OYmESuRJ9Q3l"
      },
      "outputs": [],
      "source": [
        "def sent_tokenize(word_list):\n",
        "    doc = nlp(word_list)\n",
        "    sentences = [sent.string.strip() for sent in doc.sents]\n",
        "    return sentences"
      ]
    },
    {
      "cell_type": "code",
      "execution_count": null,
      "metadata": {
        "id": "WD8nGP0r9Q3l"
      },
      "outputs": [],
      "source": [
        "redditTopScores = redditDF.sort_values('score')[-10:]\n",
        "redditTopScores['sentences'] = redditTopScores['text'].apply(lambda x: [word_tokenize(s) for s in sent_tokenize(x)])\n",
        "redditTopScores.index = range(len(redditTopScores) - 1, -1,-1) #Reindex to make things nice in the future\n",
        "redditTopScores"
      ]
    },
    {
      "cell_type": "code",
      "execution_count": null,
      "metadata": {
        "id": "axSx4sMN9Q3l"
      },
      "outputs": [],
      "source": [
        "def tag_sents_pos(sentences):\n",
        "    \"\"\"\n",
        "    function which replicates NLTK pos tagging on sentences.\n",
        "    \"\"\"\n",
        "    new_sents = []\n",
        "    for sentence in sentences:\n",
        "        new_sent = ' '.join(sentence)\n",
        "        new_sents.append(new_sent)\n",
        "    final_string = ' '.join(new_sents)\n",
        "    doc = nlp(final_string)\n",
        "    \n",
        "    pos_sents = []\n",
        "    for sent in doc.sents:\n",
        "        pos_sent = []\n",
        "        for token in sent:\n",
        "            pos_sent.append((token.text, token.tag_))\n",
        "        pos_sents.append(pos_sent)\n",
        "    \n",
        "    return pos_sents"
      ]
    },
    {
      "cell_type": "code",
      "execution_count": null,
      "metadata": {
        "id": "Ej_GDWOc9Q3l"
      },
      "outputs": [],
      "source": [
        "redditTopScores['POS_sents'] = redditTopScores['sentences'].apply(lambda x: tag_sents_pos(x))"
      ]
    },
    {
      "cell_type": "code",
      "execution_count": null,
      "metadata": {
        "id": "bF04MAjS9Q3l"
      },
      "outputs": [],
      "source": [
        "redditTopScores['POS_sents']"
      ]
    },
    {
      "cell_type": "markdown",
      "metadata": {
        "id": "neU2QXFd9Q3l"
      },
      "source": [
        "And count the number of `NN` (nouns)"
      ]
    },
    {
      "cell_type": "code",
      "execution_count": null,
      "metadata": {
        "id": "DuJUSuMY9Q3l"
      },
      "outputs": [],
      "source": [
        "countTarget = 'NN'\n",
        "targetCounts = {}\n",
        "for entry in redditTopScores['POS_sents']:\n",
        "    for sentence in entry:\n",
        "        for ent, kind in sentence:\n",
        "            if kind != countTarget:\n",
        "                continue\n",
        "            elif ent in targetCounts:\n",
        "                targetCounts[ent] += 1\n",
        "            else:\n",
        "                targetCounts[ent] = 1\n",
        "sortedTargets = sorted(targetCounts.items(), key = lambda x: x[1], reverse = True)\n",
        "sortedTargets[:20]"
      ]
    },
    {
      "cell_type": "markdown",
      "metadata": {
        "id": "1-5oahFl9Q3m"
      },
      "source": [
        "What about the adjectives that modify the word, \"computer\"?"
      ]
    },
    {
      "cell_type": "code",
      "execution_count": null,
      "metadata": {
        "id": "UdCCfM4x9Q3m"
      },
      "outputs": [],
      "source": [
        "NTarget = 'JJ'\n",
        "Word = 'computer'\n",
        "NResults = set()\n",
        "for entry in redditTopScores['POS_sents']:\n",
        "    for sentence in entry:\n",
        "        for (ent1, kind1),(ent2,kind2) in zip(sentence[:-1], sentence[1:]):\n",
        "            if (kind1,ent2.lower())==(NTarget,Word):\n",
        "                NResults.add(ent1)\n",
        "            else:\n",
        "                continue\n",
        "\n",
        "print(NResults)     "
      ]
    },
    {
      "cell_type": "markdown",
      "metadata": {
        "id": "gbpPiB3X9Q3m"
      },
      "source": [
        "## <font color=\"red\">Exercise 3</font>\n",
        "\n",
        "<font color=\"red\">In the cells immediately following, perform POS tagging on a meaningful (but modest) subset of a corpus associated with your final project. Examine the list of words associated with at least three different parts of speech. Consider conditional associations (e.g., adjectives associated with nouns or adverbs with verbs of interest). What do these distributions suggest about your corpus?"
      ]
    },
    {
      "cell_type": "code",
      "source": [
        "# POS on entire letter corpus\n",
        "def spacy_pos(word_list):\n",
        "    tags = []\n",
        "    doc = nlp(word_list.lower())\n",
        "    for w in doc:\n",
        "        tags.append((w.text, w.tag_))\n",
        "    return tags\n",
        "\n",
        "df['normalized_tokens_POS'] = [spacy_pos(t) for t in df[\"letters_text\"]]\n",
        "\n",
        "gpcfdist_WordtoPOS = nltk.ConditionalFreqDist(df['normalized_tokens_POS'].sum())\n",
        "gpcfdist_POStoWord = nltk.ConditionalFreqDist((p, w) for w, p in df['normalized_tokens_POS'].sum())"
      ],
      "metadata": {
        "id": "Oyffs-X0CStF",
        "outputId": "82504812-40b5-4298-f8c4-420b846bf9c1",
        "colab": {
          "base_uri": "https://localhost:8080/"
        }
      },
      "execution_count": 32,
      "outputs": [
        {
          "output_type": "stream",
          "name": "stderr",
          "text": [
            "/usr/local/lib/python3.7/dist-packages/ipykernel_launcher.py:9: SettingWithCopyWarning: \n",
            "A value is trying to be set on a copy of a slice from a DataFrame.\n",
            "Try using .loc[row_indexer,col_indexer] = value instead\n",
            "\n",
            "See the caveats in the documentation: https://pandas.pydata.org/pandas-docs/stable/user_guide/indexing.html#returning-a-view-versus-a-copy\n",
            "  if __name__ == '__main__':\n"
          ]
        }
      ]
    },
    {
      "cell_type": "code",
      "source": [
        "# most common Verb, base form (notice the verbs that relate to philanthropic activity: give, help, make)\n",
        "\n",
        "gpcfdist_POStoWord['VB'].most_common(20)"
      ],
      "metadata": {
        "id": "Z0VR8mD3CVD3",
        "outputId": "ffddcefe-ca60-416b-e43b-1160fe6aedb6",
        "colab": {
          "base_uri": "https://localhost:8080/"
        }
      },
      "execution_count": 33,
      "outputs": [
        {
          "output_type": "execute_result",
          "data": {
            "text/plain": [
              "[('be', 450),\n",
              " ('give', 209),\n",
              " ('make', 202),\n",
              " ('have', 185),\n",
              " ('help', 164),\n",
              " ('do', 144),\n",
              " ('join', 95),\n",
              " ('create', 74),\n",
              " ('improve', 59),\n",
              " ('continue', 58),\n",
              " ('’ve', 54),\n",
              " ('use', 51),\n",
              " ('support', 50),\n",
              " ('encourage', 48),\n",
              " ('share', 48),\n",
              " ('take', 46),\n",
              " ('provide', 46),\n",
              " ('work', 45),\n",
              " ('see', 42),\n",
              " ('get', 41)]"
            ]
          },
          "metadata": {},
          "execution_count": 33
        }
      ]
    },
    {
      "cell_type": "code",
      "source": [
        "# most common gerunds and present participles show a similar pattern\n",
        "\n",
        "gpcfdist_POStoWord['VBG'].most_common(20)"
      ],
      "metadata": {
        "id": "KOzpA3knCW0u",
        "outputId": "636de5e3-40e5-4d53-f580-99a00098c422",
        "colab": {
          "base_uri": "https://localhost:8080/"
        }
      },
      "execution_count": 34,
      "outputs": [
        {
          "output_type": "execute_result",
          "data": {
            "text/plain": [
              "[('giving', 477),\n",
              " ('making', 90),\n",
              " ('helping', 74),\n",
              " ('working', 71),\n",
              " ('being', 62),\n",
              " ('joining', 49),\n",
              " ('creating', 46),\n",
              " ('doing', 44),\n",
              " ('having', 44),\n",
              " ('providing', 39),\n",
              " ('including', 34),\n",
              " ('supporting', 33),\n",
              " ('growing', 33),\n",
              " ('improving', 27),\n",
              " ('trying', 27),\n",
              " ('living', 25),\n",
              " ('taking', 24),\n",
              " ('sharing', 24),\n",
              " ('developing', 21),\n",
              " ('going', 20)]"
            ]
          },
          "metadata": {},
          "execution_count": 34
        }
      ]
    },
    {
      "cell_type": "code",
      "source": [
        "# most common Verb, past tense and past participle (notice that compared to the present tense verbs \n",
        "# that relate to philanthropic activity, past tense is more about started. began, decided, grew--\n",
        "# verbs related to making money, not giving it away. LEtter authors made money in the past and \n",
        "# are giving it now. \n",
        "\n",
        "gpcfdist_POStoWord['VBD'].most_common(20)\n",
        "\n",
        "gpcfdist_POStoWord['VBN'].most_common(20)"
      ],
      "metadata": {
        "id": "1xzkO3e1CcL1",
        "outputId": "32cc9274-ef57-4143-bea5-84bbbe52d804",
        "colab": {
          "base_uri": "https://localhost:8080/"
        }
      },
      "execution_count": 35,
      "outputs": [
        {
          "output_type": "execute_result",
          "data": {
            "text/plain": [
              "[('been', 291),\n",
              " ('given', 79),\n",
              " ('made', 78),\n",
              " ('born', 60),\n",
              " ('blessed', 42),\n",
              " ('inspired', 38),\n",
              " ('had', 33),\n",
              " ('based', 30),\n",
              " ('found', 27),\n",
              " ('committed', 26),\n",
              " ('become', 24),\n",
              " ('learned', 23),\n",
              " ('focused', 23),\n",
              " ('created', 22),\n",
              " ('involved', 22),\n",
              " ('done', 21),\n",
              " ('led', 21),\n",
              " ('seen', 21),\n",
              " ('chosen', 20),\n",
              " ('driven', 19)]"
            ]
          },
          "metadata": {},
          "execution_count": 35
        }
      ]
    },
    {
      "cell_type": "code",
      "source": [
        "# adjectives that modify the word \"philanthropy\"\n",
        "\n",
        "\n",
        "def sent_tokenize(word_list):\n",
        "    doc = nlp(word_list)\n",
        "    sentences = [sent.text.strip() for sent in doc.sents]\n",
        "    return sentences\n",
        "\n",
        "\n",
        "df['sentences'] = df['letters_text'].apply(lambda x: [word_tokenize(s) for s in sent_tokenize(str(x))])\n",
        "\n",
        "def tag_sents_pos(sentences):\n",
        "    \"\"\"\n",
        "    function which replicates NLTK pos tagging on sentences.\n",
        "    \"\"\"\n",
        "    new_sents = []\n",
        "    for sentence in sentences:\n",
        "        new_sent = ' '.join(sentence)\n",
        "        new_sents.append(new_sent)\n",
        "    final_string = ' '.join(new_sents)\n",
        "    doc = nlp(final_string)\n",
        "    \n",
        "    pos_sents = []\n",
        "    for sent in doc.sents:\n",
        "        pos_sent = []\n",
        "        for token in sent:\n",
        "            pos_sent.append((token.text, token.tag_))\n",
        "        pos_sents.append(pos_sent)\n",
        "    \n",
        "    return pos_sents\n",
        "\n",
        "df['POS_sents'] = df['sentences'].apply(lambda x: tag_sents_pos(x))\n",
        "df['POS_sents']\n",
        "\n",
        "\n",
        "NTarget = 'JJ'\n",
        "Word = 'philanthropy'\n",
        "NResults = set()\n",
        "for entry in df['POS_sents']:\n",
        "    for sentence in entry:\n",
        "        for (ent1, kind1),(ent2,kind2) in zip(sentence[:-1], sentence[1:]):\n",
        "            if (kind1,ent2.lower())==(NTarget,Word):\n",
        "                NResults.add(ent1)\n",
        "            else:\n",
        "                continue\n",
        "\n",
        "print(NResults)  "
      ],
      "metadata": {
        "id": "TJY-VLMZCdE0",
        "outputId": "b2cf072f-b208-42c5-9e4d-f285f6c149b8",
        "colab": {
          "base_uri": "https://localhost:8080/"
        }
      },
      "execution_count": 36,
      "outputs": [
        {
          "output_type": "stream",
          "name": "stderr",
          "text": [
            "/usr/local/lib/python3.7/dist-packages/ipykernel_launcher.py:10: SettingWithCopyWarning: \n",
            "A value is trying to be set on a copy of a slice from a DataFrame.\n",
            "Try using .loc[row_indexer,col_indexer] = value instead\n",
            "\n",
            "See the caveats in the documentation: https://pandas.pydata.org/pandas-docs/stable/user_guide/indexing.html#returning-a-view-versus-a-copy\n",
            "  # Remove the CWD from sys.path while we load stuff.\n"
          ]
        },
        {
          "output_type": "stream",
          "name": "stdout",
          "text": [
            "{'Effective', 'effective', 'initial', 'enough', 'glorious', 'able', 'much', 'First', 'corporate', 'private', 'young', 'own', 'financial', 'rational', 'personal', 'collaborative', 'global', 'early', 'competitive', 'significant'}\n"
          ]
        },
        {
          "output_type": "stream",
          "name": "stderr",
          "text": [
            "/usr/local/lib/python3.7/dist-packages/ipykernel_launcher.py:32: SettingWithCopyWarning: \n",
            "A value is trying to be set on a copy of a slice from a DataFrame.\n",
            "Try using .loc[row_indexer,col_indexer] = value instead\n",
            "\n",
            "See the caveats in the documentation: https://pandas.pydata.org/pandas-docs/stable/user_guide/indexing.html#returning-a-view-versus-a-copy\n"
          ]
        }
      ]
    },
    {
      "cell_type": "markdown",
      "metadata": {
        "id": "1_wnqPzi9Q3m"
      },
      "source": [
        "# Collocations"
      ]
    },
    {
      "cell_type": "markdown",
      "metadata": {
        "id": "1i60XVsw9Q3m"
      },
      "source": [
        "As illustrated above, we might want to find significant bigrams (two-word phrases), trigrams (three-word phrases), n-grams (*n*-word phrases) or skip-grams (noncontinguous 'phrases' with skip-length *n*). \n",
        "\n",
        "We will begin with the [`nltk.collocations.BigramCollocationFinder`](http://www.nltk.org/api/nltk.html?highlight=bigramcollocationfinder#nltk.collocations.BigramCollocationFinder) class, which can be given raw lists of strings with the `from_words()` method. By default it only looks at continuous bigrams but there is an option (`window_size`) to allow skip-grams."
      ]
    },
    {
      "cell_type": "code",
      "execution_count": null,
      "metadata": {
        "id": "xZqgiJNc9Q3m"
      },
      "outputs": [],
      "source": [
        "whBigrams = nltk.collocations.BigramCollocationFinder.from_words(whReleases['normalized_tokens'].sum())\n",
        "print(\"There are {} bigrams in the finder\".format(whBigrams.N))"
      ]
    },
    {
      "cell_type": "markdown",
      "metadata": {
        "id": "DjFLDUHe9Q3m"
      },
      "source": [
        "To compare the bigrams we need to tell nltk what our score function is. Initially, we will look at the raw counts."
      ]
    },
    {
      "cell_type": "code",
      "execution_count": null,
      "metadata": {
        "id": "ol-O46aS9Q3m"
      },
      "outputs": [],
      "source": [
        "def bigramScoring(count, wordsTuple, total):\n",
        "    return count\n",
        "\n",
        "print(whBigrams.nbest(bigramScoring, 10))"
      ]
    },
    {
      "cell_type": "markdown",
      "metadata": {
        "id": "waqR3UmU9Q3n"
      },
      "source": [
        "One note about how `BigramCollocationFinder` works. It doesn't use the strings internally."
      ]
    },
    {
      "cell_type": "code",
      "execution_count": null,
      "metadata": {
        "id": "QlcXyw-K9Q3n"
      },
      "outputs": [],
      "source": [
        "birgramScores = []\n",
        "\n",
        "def bigramPrinting(count, wordsTuple, total):\n",
        "    global birgramScores\n",
        "    birgramScores.append(\"The first word is:  {}, The second word is: {}\".format(*wordsTuple))\n",
        "    #Returns None so all the tuples are considered to have the same rank\n",
        "\n",
        "whBigrams.nbest(bigramPrinting, 10)\n",
        "print('\\n'.join(birgramScores[:10]))"
      ]
    },
    {
      "cell_type": "markdown",
      "metadata": {
        "id": "cbPe66cQ9Q3n"
      },
      "source": [
        "The words are each given numeric IDs and there is a dictionary that maps the IDs to the words they represent. This is a common performance optimization.\n",
        "\n",
        "Two words can appear together by chance. Recall from  Manning and Schütze's textbook that a t-value can be computed for each bigram to see how significant the association is. You may also want to try computing the $\\chi^2$, likelihood ratio, and pointwise mutual information statistics. "
      ]
    },
    {
      "cell_type": "code",
      "execution_count": null,
      "metadata": {
        "id": "udqY7Oz29Q3n"
      },
      "outputs": [],
      "source": [
        "bigram_measures = nltk.collocations.BigramAssocMeasures()\n",
        "whBigrams.score_ngrams(bigram_measures.likelihood_ratio)[:40]\n",
        "# other options include student_t, chi_sq, likelihood_ratio, pmi"
      ]
    },
    {
      "cell_type": "markdown",
      "metadata": {
        "id": "ykAad2h79Q3n"
      },
      "source": [
        "There are a few other available measures"
      ]
    },
    {
      "cell_type": "code",
      "execution_count": null,
      "metadata": {
        "id": "SZ_XNVYq9Q3n"
      },
      "outputs": [],
      "source": [
        "[s for s in dir(bigram_measures) if s[0] != '_']"
      ]
    },
    {
      "cell_type": "markdown",
      "metadata": {
        "id": "0ViQNTSf9Q3n"
      },
      "source": [
        "We can also look at trigrams"
      ]
    },
    {
      "cell_type": "code",
      "execution_count": null,
      "metadata": {
        "id": "5pN1Z0rA9Q3n"
      },
      "outputs": [],
      "source": [
        "trigram_measures = nltk.collocations.TrigramAssocMeasures()\n",
        "whTrigrams = nltk.collocations.TrigramCollocationFinder.from_words(whReleases['normalized_tokens'].sum())\n",
        "whTrigrams.score_ngrams(trigram_measures.student_t)[:20]"
      ]
    },
    {
      "cell_type": "markdown",
      "metadata": {
        "id": "eh2whCe79Q3o"
      },
      "source": [
        "Or n-grams (for any number n)"
      ]
    },
    {
      "cell_type": "code",
      "execution_count": null,
      "metadata": {
        "id": "-4PHuDrr9Q3o"
      },
      "outputs": [],
      "source": [
        "Ngrams = nltk.ngrams(whReleases['normalized_tokens'].sum(), 4)\n",
        "Counts = {}\n",
        "for ngram in list(Ngrams):\n",
        "    if ngram in Counts.keys():\n",
        "        Counts[ngram] += 1\n",
        "    else:\n",
        "        Counts[ngram] = 1\n",
        "Filtered = {}\n",
        "for key in Counts.keys():\n",
        "    if Counts[key] < 2:\n",
        "        pass\n",
        "    else:\n",
        "        Filtered[key] = Counts[key]\n",
        "print(Filtered)"
      ]
    },
    {
      "cell_type": "markdown",
      "metadata": {
        "id": "RjMVv7vf9Q3o"
      },
      "source": [
        "Gensim is another important python text processing package which allows us to use collocations, among other cool methods (which we will explore later weeks)."
      ]
    },
    {
      "cell_type": "code",
      "execution_count": null,
      "metadata": {
        "id": "MshhitkY9Q3o"
      },
      "outputs": [],
      "source": [
        "import gensim"
      ]
    },
    {
      "cell_type": "code",
      "execution_count": null,
      "metadata": {
        "id": "PXOg5mZq9Q3o"
      },
      "outputs": [],
      "source": [
        "bigram = gensim.models.Phrases(whReleases['normalized_tokens'])"
      ]
    },
    {
      "cell_type": "code",
      "execution_count": null,
      "metadata": {
        "id": "sIXr-WGV9Q3o"
      },
      "outputs": [],
      "source": [
        "texts = [bigram[line] for line in whReleases['normalized_tokens']]"
      ]
    },
    {
      "cell_type": "code",
      "execution_count": null,
      "metadata": {
        "id": "m16DnN2B9Q3o"
      },
      "outputs": [],
      "source": [
        "texts[0]"
      ]
    },
    {
      "cell_type": "markdown",
      "metadata": {
        "id": "VjQn3Y_-9Q3p"
      },
      "source": [
        "## <font color=\"red\">*Exercise 4*</font>\n",
        "\n",
        "<font color=\"red\">Construct cells immediately below this that identify statistically significant bigrams, trigrams, quadgrams, higher-order *n*grams and skipgrams. Explore whether these collocations are idiomatic and so irreducible to the semantic sum of their component words. You can do this by examination of conditional frequencies (e.g., what else is 'united' besides the 'United States'). If these phrases are idiomatic, what do they suggest about the culture of the world producing them?\n",
        "\n",
        "<font color=\"red\">**Stretch**: In Manning and Schütze's textbook, there Section 5.3.2 explores how to use the *t*-test to find words whose co-occurance patterns best distinguish two words. Implement that and use it to explore phrases in your corpus. For instance, you could tell what words come after \"America\" much more often than after \"Iraq\"?</font> "
      ]
    },
    {
      "cell_type": "code",
      "source": [
        "dfBigrams = nltk.collocations.BigramCollocationFinder.from_words(df['normalized_letters'].sum())\n",
        "print(\"There are {} bigrams in the finder\".format(dfBigrams.N))\n",
        "\n",
        "def bigramScoring(count, wordsTuple, total):\n",
        "    return count\n",
        "\n",
        "print(dfBigrams.nbest(bigramScoring, 10)) # [('give', 'pledge'), ('giving', 'pledge'), ('year', 'ago'), ('bill', 'melinda'), ('well', 'place'), ('good', 'fortune'), ('join', 'giving'), ('world', 'well'), ('majority', 'wealth'), ('warren', 'buffett')]\n",
        "\n",
        "birgramScores = []\n",
        "\n",
        "def bigramPrinting(count, wordsTuple, total):\n",
        "    global birgramScores\n",
        "    birgramScores.append(\"The first word is:  {}, The second word is: {}\".format(*wordsTuple))\n",
        "    #Returns None so all the tuples are considered to have the same rank\n",
        "\n",
        "dfBigrams.nbest(bigramPrinting, 10)\n",
        "print('\\n'.join(birgramScores[:10]))\n",
        "\n",
        "bigram_measures = nltk.collocations.BigramAssocMeasures()\n",
        "dfBigrams.score_ngrams(bigram_measures.likelihood_ratio)[:40] # statistically significant bigrams"
      ],
      "metadata": {
        "id": "jNCNSQPNCp6M",
        "outputId": "c81aa233-2011-4c7c-c80b-32c9bf2bc31d",
        "colab": {
          "base_uri": "https://localhost:8080/"
        }
      },
      "execution_count": 37,
      "outputs": [
        {
          "output_type": "stream",
          "name": "stdout",
          "text": [
            "There are 45150 bigrams in the finder\n",
            "[('give', 'pledge'), ('join', 'give'), ('year', 'ago'), ('bill', 'melinda'), ('well', 'place'), ('good', 'fortune'), ('world', 'well'), ('majority', 'wealth'), ('warren', 'buffett'), ('look', 'forward')]\n",
            "The first word is:  39, The second word is: 10\n",
            "The first word is:  10, The second word is: 252\n",
            "The first word is:  252, The second word is: 28\n",
            "The first word is:  28, The second word is: 3\n",
            "The first word is:  3, The second word is: 20\n",
            "The first word is:  20, The second word is: 24\n",
            "The first word is:  24, The second word is: 3\n",
            "The first word is:  3, The second word is: 22\n",
            "The first word is:  22, The second word is: 16\n",
            "The first word is:  16, The second word is: 2\n"
          ]
        },
        {
          "output_type": "execute_result",
          "data": {
            "text/plain": [
              "[(('give', 'pledge'), 2111.760688395353),\n",
              " (('bill', 'melinda'), 639.4673465416081),\n",
              " (('year', 'ago'), 584.3338679932959),\n",
              " (('well', 'place'), 456.4473909381288),\n",
              " (('warren', 'buffett'), 454.1303950560384),\n",
              " (('united', 'states'), 453.98614109022617),\n",
              " (('join', 'give'), 417.29544014534247),\n",
              " (('good', 'fortune'), 378.3117427021198),\n",
              " (('look', 'forward'), 369.9662659232421),\n",
              " (('long', 'term'), 345.8290461699602),\n",
              " (('melinda', 'gates'), 344.9972174586333),\n",
              " (('non', 'profit'), 324.09794643537),\n",
              " (('majority', 'wealth'), 281.0633236534136),\n",
              " (('future', 'generation'), 269.1003401048308),\n",
              " (('new', 'york'), 260.08332949097473),\n",
              " (('high', 'school'), 240.11987973165844),\n",
              " (('san', 'francisco'), 230.76403586281998),\n",
              " (('world', 'well'), 229.14479061492017),\n",
              " (('hard', 'work'), 214.95573393201272),\n",
              " (('bill', 'gates'), 207.49020740779372),\n",
              " (('climate', 'change'), 202.3253269598565),\n",
              " (('medical', 'research'), 186.92990112982855),\n",
              " (('gates', 'warren'), 185.0301696068426),\n",
              " (('los', 'angeles'), 154.21144669367624),\n",
              " (('clean', 'energy'), 153.67267987773698),\n",
              " (('net', 'worth'), 152.45490700521174),\n",
              " (('charitable', 'cause'), 152.22330712837814),\n",
              " (('american', 'dream'), 150.38934626682683),\n",
              " (('young', 'age'), 145.6667895764708),\n",
              " (('financial', 'success'), 141.98135087222724),\n",
              " (('vast', 'majority'), 134.54567936062074),\n",
              " (('buffett', 'bill'), 131.19424792246093),\n",
              " (('family', 'foundation'), 130.5227382913785),\n",
              " (('melinda', 'warren'), 129.44752571463505),\n",
              " (('llura', 'gund'), 127.26989882660352),\n",
              " (('write', 'letter'), 123.04584653731878),\n",
              " (('alma', 'mater'), 119.11103569789051),\n",
              " (('greenhouse', 'gas'), 117.39648935398287),\n",
              " (('wide', 'range'), 115.16574041425145),\n",
              " (('year', 'later'), 112.31502676867414)]"
            ]
          },
          "metadata": {},
          "execution_count": 37
        }
      ]
    },
    {
      "cell_type": "code",
      "source": [
        "# statistically significant trigrams\n",
        "\n",
        "trigram_measures = nltk.collocations.TrigramAssocMeasures()\n",
        "dfTrigrams = nltk.collocations.TrigramCollocationFinder.from_words(df['normalized_letters'].sum())\n",
        "dfTrigrams.score_ngrams(trigram_measures.student_t)[:20] # "
      ],
      "metadata": {
        "id": "YvQsgHgzCq1J",
        "outputId": "fdadbc23-1b61-4f4c-9054-680142490af9",
        "colab": {
          "base_uri": "https://localhost:8080/"
        }
      },
      "execution_count": 40,
      "outputs": [
        {
          "output_type": "execute_result",
          "data": {
            "text/plain": [
              "[(('join', 'give', 'pledge'), 8.59938583152666),\n",
              " (('world', 'well', 'place'), 6.163980014009911),\n",
              " (('bill', 'melinda', 'gates'), 5.56772759529481),\n",
              " (('gates', 'warren', 'buffett'), 4.472116822761567),\n",
              " (('warren', 'buffett', 'bill'), 3.872937525751496),\n",
              " (('give', 'pledge', 'hope'), 3.866800177131265),\n",
              " (('bill', 'melinda', 'warren'), 3.605461904003803),\n",
              " (('share', 'good', 'fortune'), 3.6052176753459784),\n",
              " (('sign', 'give', 'pledge'), 3.604189914982408),\n",
              " (('give', 'pledge', 'commitment'), 3.601508447367172),\n",
              " (('buffett', 'bill', 'melinda'), 3.3165813554521826),\n",
              " (('bill', 'gates', 'warren'), 3.3165487544264267),\n",
              " (('commit', 'give', 'pledge'), 3.3131715623181655),\n",
              " (('melinda', 'gates', 'warren'), 2.9999482124921357),\n",
              " (('wealth', 'charitable', 'cause'), 2.999607558906021),\n",
              " (('honor', 'join', 'give'), 2.9991677583478555),\n",
              " (('difference', 'people', 'life'), 2.998200108166577),\n",
              " (('thank', 'bill', 'melinda'), 2.828345365581524),\n",
              " (('pleased', 'join', 'give'), 2.8279763712617343),\n",
              " (('majority', 'wealth', 'philanthropy'), 2.827591079498572)]"
            ]
          },
          "metadata": {},
          "execution_count": 40
        }
      ]
    },
    {
      "cell_type": "code",
      "source": [
        "# 4-grams: Bill and Melinda Gates Foundation, away vast majority of wealth, leave world well place, bill melinda gates foundation, pledge wealth charitable cause, honor join give pledge\n",
        "# the most common 4-grams are lists of names or phrases that were used in the original letters by Bill Gates and Warren Buffet\n",
        "\n",
        "Ngrams = nltk.ngrams(df['normalized_letters'].sum(), 4)\n",
        "Counts = {}\n",
        "for ngram in list(Ngrams):\n",
        "    if ngram in Counts.keys():\n",
        "        Counts[ngram] += 1\n",
        "    else:\n",
        "        Counts[ngram] = 1\n",
        "Filtered = {}\n",
        "for key in Counts.keys():\n",
        "    if Counts[key] < 4:\n",
        "        pass\n",
        "    else:\n",
        "        Filtered[key] = Counts[key]\n",
        "print(Filtered)"
      ],
      "metadata": {
        "id": "7xxqkj8hCwKw",
        "outputId": "578d7f02-bfe0-4bca-a50f-ca31c399b4ee",
        "colab": {
          "base_uri": "https://localhost:8080/"
        }
      },
      "execution_count": 41,
      "outputs": [
        {
          "output_type": "stream",
          "name": "stdout",
          "text": [
            "{('honor', 'join', 'give', 'pledge'): 9, ('away', 'vast', 'majority', 'wealth'): 4, ('leave', 'world', 'well', 'place'): 5, ('bill', 'melinda', 'gates', 'foundation'): 4, ('pleased', 'join', 'give', 'pledge'): 8, ('warren', 'buffett', 'bill', 'melinda'): 11, ('buffett', 'bill', 'melinda', 'gates'): 10, ('provide', 'give', 'pledge', 'commitment'): 5, ('give', 'pledge', 'commitment', 'pledge'): 5, ('pledge', 'commitment', 'pledge', 'wealth'): 5, ('commitment', 'pledge', 'wealth', 'charitable'): 5, ('pledge', 'wealth', 'charitable', 'cause'): 5, ('wealth', 'charitable', 'cause', 'present'): 5, ('charitable', 'cause', 'present', 'life'): 5, ('bill', 'melinda', 'gates', 'warren'): 9, ('melinda', 'gates', 'warren', 'buffett'): 9, ('bill', 'gates', 'warren', 'buffett'): 11, ('gates', 'warren', 'buffett', 'give'): 4, ('world', 'well', 'place', 'future'): 4, ('well', 'place', 'future', 'generation'): 4, ('thank', 'bill', 'melinda', 'create'): 4, ('bill', 'melinda', 'create', 'unique'): 4, ('melinda', 'create', 'unique', 'opportunity'): 4, ('realise', 'moral', 'aspiration', 'inspire'): 4, ('moral', 'aspiration', 'inspire', 'bhagwad'): 4, ('karmanye', 'va', 'dhikaraste', 'ma'): 4, ('va', 'dhikaraste', 'ma', 'phaleshu'): 4, ('dhikaraste', 'ma', 'phaleshu', 'kadachana'): 4, ('ma', 'phaleshu', 'kadachana', 'ma'): 4, ('phaleshu', 'kadachana', 'ma', 'karma'): 4, ('kadachana', 'ma', 'karma', 'phalaheturbhurma'): 4, ('ma', 'karma', 'phalaheturbhurma', 'te'): 4, ('karma', 'phalaheturbhurma', 'te', 'sangostvakarmani'): 4, ('right', 'duty', 'automatic', 'right'): 4, ('duty', 'automatic', 'right', 'fruit'): 4, ('critical', 'slip', 'inaction', 'fear'): 4, ('slip', 'inaction', 'fear', 'able'): 4, ('inaction', 'fear', 'able', 'reap'): 4, ('fear', 'able', 'reap', 'direct'): 4, ('able', 'reap', 'direct', 'reward'): 4, ('reap', 'direct', 'reward', 'ideal'): 4, ('direct', 'reward', 'ideal', 'pledge'): 4, ('join', 'give', 'pledge', 'hope'): 5, ('personally', 'lombardi', 'word', 'sum'): 4, ('lombardi', 'word', 'sum', 'desire'): 4, ('word', 'sum', 'desire', 'ecosystem'): 4, ('sum', 'desire', 'ecosystem', 'help'): 4, ('desire', 'ecosystem', 'help', 'step'): 4, ('ecosystem', 'help', 'step', 'stone'): 4, ('help', 'step', 'stone', 'life'): 4, ('philanthropy', 'region', 'world', 'isolate'): 4, ('region', 'world', 'isolate', 'invisible'): 4, ('world', 'isolate', 'invisible', 'separated'): 4, ('isolate', 'invisible', 'separated', 'secret'): 4, ('invisible', 'separated', 'secret', 'broad'): 4, ('separated', 'secret', 'broad', 'objective'): 4, ('secret', 'broad', 'objective', 'make'): 4, ('broad', 'objective', 'make', 'pledge'): 4, ('objective', 'make', 'pledge', 'encourage'): 4, ('make', 'pledge', 'encourage', 'open'): 4, ('pledge', 'encourage', 'open', 'discussion'): 4, ('encourage', 'open', 'discussion', 'knowledge'): 4, ('open', 'discussion', 'knowledge', 'sharing'): 4, ('discussion', 'knowledge', 'sharing', 'active'): 4, ('knowledge', 'sharing', 'active', 'cooperation'): 4, ('sharing', 'active', 'cooperation', 'philanthropist'): 4, ('active', 'cooperation', 'philanthropist', 'business'): 4, ('cooperation', 'philanthropist', 'business', 'public'): 4, ('philanthropist', 'business', 'public', 'sector'): 4, ('business', 'public', 'sector', 'institution'): 4, ('delighted', 'confirm', 'plan', 'devote'): 4, ('confirm', 'plan', 'devote', 'major'): 4, ('plan', 'devote', 'major', 'estate'): 4, ('devote', 'major', 'estate', 'charitable'): 4, ('major', 'estate', 'charitable', 'cause'): 4, ('estate', 'charitable', 'cause', 'decision'): 4, ('charitable', 'cause', 'decision', 'late'): 4, ('cause', 'decision', 'late', 'husband'): 4, ('decision', 'late', 'husband', 'ray'): 4, ('late', 'husband', 'ray', 'dolby'): 4, ('husband', 'ray', 'dolby', 'year'): 4, ('ray', 'dolby', 'year', 'ago'): 4, ('dolby', 'year', 'ago', 'enable'): 4, ('year', 'ago', 'enable', 'son'): 4, ('ago', 'enable', 'son', 'tom'): 4, ('enable', 'son', 'tom', 'david'): 4, ('son', 'tom', 'david', 'family'): 4, ('tom', 'david', 'family', 'carry'): 4, ('david', 'family', 'carry', 'effort'): 4, ('family', 'carry', 'effort', 'improve'): 4, ('carry', 'effort', 'improve', 'community'): 4, ('great', 'privilege', 'fortunate', 'devote'): 4, ('privilege', 'fortunate', 'devote', 'majority'): 4, ('fortunate', 'devote', 'majority', 'time'): 4, ('devote', 'majority', 'time', 'resource'): 4, ('majority', 'time', 'resource', 'help'): 4, ('time', 'resource', 'help', 'make'): 4, ('resource', 'help', 'make', 'community'): 4, ('help', 'make', 'community', 'planet'): 4, ('make', 'community', 'planet', 'better'): 4, ('community', 'planet', 'better', 'find'): 4, ('lucky', 'one', 'life', 'give'): 4, ('one', 'life', 'give', 'sacrifice'): 4, ('life', 'give', 'sacrifice', 'little'): 4, ('give', 'sacrifice', 'little', 'gain'): 4, ('sacrifice', 'little', 'gain', 'lot'): 4, ('little', 'gain', 'lot', 'true'): 4, ('gain', 'lot', 'true', 'privilege'): 4, ('lot', 'true', 'privilege', 'family'): 4, ('true', 'privilege', 'family', 'reconfirm'): 4, ('privilege', 'family', 'reconfirm', 'commitment'): 4, ('family', 'reconfirm', 'commitment', 'join'): 4, ('reconfirm', 'commitment', 'join', 'give'): 4, ('commitment', 'join', 'give', 'pledge'): 4, ('belief', 'monopoly', 'good', 'charitable'): 4, ('monopoly', 'good', 'charitable', 'idea'): 4, ('good', 'charitable', 'idea', 'problem'): 4, ('charitable', 'idea', 'problem', 'world'): 4, ('idea', 'problem', 'world', 'away'): 4, ('problem', 'world', 'away', 'help'): 4, ('world', 'away', 'help', 'mean'): 4, ('away', 'help', 'mean', 'forever'): 4, ('right', 'place', 'right', 'time'): 6, ('family', 'friend', 'good', 'cause'): 4, ('pledge', 'spend', 'great', 'majority'): 4, ('spend', 'great', 'majority', 'wealth'): 4, ('great', 'majority', 'wealth', 'non'): 4, ('majority', 'wealth', 'non', 'profit'): 4, ('wealth', 'non', 'profit', 'environmental'): 4, ('non', 'profit', 'environmental', 'project'): 6, ('profit', 'environmental', 'project', 'finally'): 4, ('environmental', 'project', 'finally', 'fortunate'): 4, ('project', 'finally', 'fortunate', 'able'): 4, ('finally', 'fortunate', 'able', 'invest'): 4, ('fortunate', 'able', 'invest', 'time'): 4, ('able', 'invest', 'time', 'project'): 4, ('time', 'learn', 'appreciate', 'importance'): 4, ('learn', 'appreciate', 'importance', 'collaboration'): 4, ('appreciate', 'importance', 'collaboration', 'philanthropy'): 4, ('importance', 'collaboration', 'philanthropy', 'like'): 4, ('collaboration', 'philanthropy', 'like', 'philanthropic'): 4, ('philanthropy', 'like', 'philanthropic', 'area'): 4, ('like', 'philanthropic', 'area', 'climate'): 4, ('philanthropic', 'area', 'climate', 'change'): 4, ('area', 'climate', 'change', 'clean'): 4, ('climate', 'change', 'clean', 'energy'): 6, ('change', 'clean', 'energy', 'policy'): 6, ('clean', 'energy', 'policy', 'profoundly'): 4, ('energy', 'policy', 'profoundly', 'challenging'): 4, ('policy', 'profoundly', 'challenging', 'level'): 4, ('give', 'sheer', 'scope', 'myriad'): 4, ('sheer', 'scope', 'myriad', 'approach'): 4, ('scope', 'myriad', 'approach', 'necessary'): 4, ('myriad', 'approach', 'necessary', 'address'): 4, ('approach', 'necessary', 'address', 'climate'): 4, ('necessary', 'address', 'climate', 'change'): 4, ('address', 'climate', 'change', 'great'): 4, ('climate', 'change', 'great', 'need'): 4, ('change', 'great', 'need', 'group'): 4, ('great', 'need', 'group', 'work'): 4, ('need', 'group', 'work', 'learn'): 4, ('great', 'pleasure', 'provide', 'give'): 4, ('pleasure', 'provide', 'give', 'pledge'): 4, ('private', 'person', 'prefer', 'minimise'): 4, ('person', 'prefer', 'minimise', 'publicity'): 4, ('prefer', 'minimise', 'publicity', 'philanthropic'): 4, ('minimise', 'publicity', 'philanthropic', 'activity'): 4, ('publicity', 'philanthropic', 'activity', 'time'): 4, ('philanthropic', 'activity', 'time', 'realise'): 4, ('activity', 'time', 'realise', 'set'): 4, ('time', 'realise', 'set', 'positive'): 4, ('realise', 'set', 'positive', 'example'): 4, ('set', 'positive', 'example', 'good'): 4, ('positive', 'example', 'good', 'way'): 4, ('example', 'good', 'way', 'encourage'): 4, ('find', 'wonder', 'bear', 'advantage'): 4, ('wonder', 'bear', 'advantage', 'life'): 4, ('bear', 'advantage', 'life', 'bear'): 4, ('advantage', 'life', 'bear', 'course'): 4, ('life', 'bear', 'course', 'accident'): 4, ('bear', 'course', 'accident', 'birth'): 4, ('course', 'accident', 'birth', 'susan'): 4, ('accident', 'birth', 'susan', 'bear'): 4, ('birth', 'susan', 'bear', 'family'): 4, ('susan', 'bear', 'family', 'modest'): 4, ('bear', 'family', 'modest', 'mean'): 4, ('family', 'modest', 'mean', 'natural'): 4, ('modest', 'mean', 'natural', 'gift'): 4, ('mean', 'natural', 'gift', 'opportunity'): 4, ('natural', 'gift', 'opportunity', 'advantage'): 4, ('gift', 'opportunity', 'advantage', 'turn'): 4, ('opportunity', 'advantage', 'turn', 'financial'): 4, ('advantage', 'turn', 'financial', 'success'): 4, ('turn', 'financial', 'success', 've'): 4, ('financial', 'success', 've', 'increasingly'): 4, ('success', 've', 'increasingly', 'feel'): 4, ('ve', 'increasingly', 'feel', 'responsibility'): 4, ('increasingly', 'feel', 'responsibility', 'help'): 4, ('feel', 'responsibility', 'help', 'fortunate'): 4, ('leave', 'world', 'little', 'well'): 4, ('true', 'measure', 'ultimate', 'fulfillment'): 4, ('measure', 'ultimate', 'fulfillment', 'enjoy'): 4, ('ultimate', 'fulfillment', 'enjoy', 'base'): 4, ('fulfillment', 'enjoy', 'base', 'share'): 4, ('enjoy', 'base', 'share', 'gift'): 4, ('base', 'share', 'gift', 'multitude'): 4, ('share', 'gift', 'multitude', 'fellow'): 4, ('gift', 'multitude', 'fellow', 'human'): 4, ('multitude', 'fellow', 'human', 'being'): 4, ('fellow', 'human', 'being', 'live'): 4, ('human', 'being', 'live', 'life'): 4, ('being', 'live', 'life', 'hope'): 4, ('live', 'life', 'hope', 'share'): 4, ('life', 'hope', 'share', 'good'): 4, ('hope', 'share', 'good', 'fortune'): 4, ('share', 'good', 'fortune', 'allow'): 4, ('good', 'fortune', 'allow', 'legacy'): 4, ('fortune', 'allow', 'legacy', 'purpose'): 4, ('allow', 'legacy', 'purpose', 'lasting'): 4, ('legacy', 'purpose', 'lasting', 'meaningful'): 4, ('purpose', 'lasting', 'meaningful', 'unconditional'): 4, ('lasting', 'meaningful', 'unconditional', 'giving'): 4, ('meaningful', 'unconditional', 'giving', 'reflect'): 4, ('unconditional', 'giving', 'reflect', 'nobility'): 4, ('giving', 'reflect', 'nobility', 'spirit'): 4, ('reflect', 'nobility', 'spirit', 'reach'): 4, ('nobility', 'spirit', 'reach', 'bind'): 4, ('day', 'parent', 'instrumental', 'instill'): 4, ('parent', 'instrumental', 'instill', 'ethos'): 4, ('instrumental', 'instill', 'ethos', 'philanthropy'): 4, ('instill', 'ethos', 'philanthropy', 'particularly'): 4, ('ethos', 'philanthropy', 'particularly', 'responsibility'): 4, ('philanthropy', 'particularly', 'responsibility', 'muslim'): 4, ('particularly', 'responsibility', 'muslim', 'care'): 4, ('responsibility', 'muslim', 'care', 'fortunate'): 4, ('muslim', 'care', 'fortunate', 'society'): 4, ('care', 'fortunate', 'society', 'role'): 4, ('fortunate', 'society', 'role', 'citizen'): 4, ('society', 'role', 'citizen', 'world'): 4, ('role', 'citizen', 'world', 'truly'): 4, ('citizen', 'world', 'truly', 'support'): 4, ('world', 'truly', 'support', 'betterment'): 4, ('truly', 'support', 'betterment', 'society'): 4, ('support', 'betterment', 'society', 'future'): 4, ('betterment', 'society', 'future', 'generation'): 4, ('society', 'future', 'generation', 'offspring'): 4, ('future', 'generation', 'offspring', 'grow'): 4, ('generation', 'offspring', 'grow', 'live'): 4, ('offspring', 'grow', 'live', 'well'): 4, ('grow', 'live', 'well', 'life'): 5, ('live', 'well', 'life', 'strive'): 5, ('well', 'life', 'strive', 'think'): 5, ('life', 'strive', 'think', 'possible'): 5, ('strive', 'think', 'possible', 'today'): 5, ('duty', 'philanthropist', 'harness', 'good'): 4, ('philanthropist', 'harness', 'good', 'human'): 4, ('harness', 'good', 'human', 'nature'): 4, ('good', 'human', 'nature', 'generosity'): 4, ('human', 'nature', 'generosity', 'innovation'): 4, ('nature', 'generosity', 'innovation', 'creativity'): 4, ('generosity', 'innovation', 'creativity', 'big'): 4, ('innovation', 'creativity', 'big', 'possible'): 4, ('creativity', 'big', 'possible', 'difference'): 4, ('big', 'possible', 'difference', 'people'): 4, ('possible', 'difference', 'people', 'life'): 4, ('believe', 'order', 'community', 'thrive'): 4, ('order', 'community', 'thrive', 'imperative'): 4, ('community', 'thrive', 'imperative', 'child'): 4, ('thrive', 'imperative', 'child', 'access'): 4, ('imperative', 'child', 'access', 'world'): 4, ('child', 'access', 'world', 'class'): 4, ('access', 'world', 'class', 'healthcare'): 4, ('world', 'class', 'healthcare', 'education'): 4, ('class', 'healthcare', 'education', 'system'): 4, ('country', 'experience', 'grow', 'income'): 4, ('experience', 'grow', 'income', 'inequality'): 4, ('grow', 'income', 'inequality', 'disproportionately'): 4, ('income', 'inequality', 'disproportionately', 'affect'): 4, ('inequality', 'disproportionately', 'affect', 'outcome'): 4, ('disproportionately', 'affect', 'outcome', 'nation'): 4, ('affect', 'outcome', 'nation', 'youth'): 4, ('issue', 'motivate', 'fund', 'high'): 4, ('motivate', 'fund', 'high', 'impact'): 4, ('fund', 'high', 'impact', 'project'): 4, ('high', 'impact', 'project', 'help'): 4, ('impact', 'project', 'help', 'advance'): 4, ('project', 'help', 'advance', 'health'): 4, ('help', 'advance', 'health', 'education'): 4, ('advance', 'health', 'education', 'nation'): 4, ('health', 'education', 'nation', 'child'): 4, ('ucsf', 'benioff', 'child', 'hospital'): 4, ('pledge', 'dedicate', 'majority', 'wealth'): 6, ('humble', 'find', 'young', 'age'): 4, ('find', 'young', 'age', 'extremely'): 4, ('young', 'age', 'extremely', 'privileged'): 4, ('age', 'extremely', 'privileged', 'place'): 4, ('extremely', 'privileged', 'place', 'recognize'): 4, ('privileged', 'place', 'recognize', 'world'): 4, ('place', 'recognize', 'world', 'real'): 4, ('recognize', 'world', 'real', 'challenge'): 4, ('world', 'real', 'challenge', 'unique'): 4, ('real', 'challenge', 'unique', 'position'): 4, ('challenge', 'unique', 'position', 'significant'): 4, ('unique', 'position', 'significant', 'positive'): 4, ('position', 'significant', 'positive', 'impact'): 4, ('significant', 'positive', 'impact', 'feel'): 4, ('positive', 'impact', 'feel', 'responsibility'): 4, ('impact', 'feel', 'responsibility', 'share'): 4, ('feel', 'responsibility', 'share', 'good'): 4, ('responsibility', 'share', 'good', 'fortune'): 4, ('share', 'good', 'fortune', 'pledge'): 4, ('good', 'fortune', 'pledge', 'dedicate'): 4, ('fortune', 'pledge', 'dedicate', 'majority'): 4, ('dedicate', 'majority', 'wealth', 'time'): 4, ('majority', 'wealth', 'time', 'philanthropy'): 4, ('saying', 'great', 'trip', 'set'): 4, ('great', 'trip', 'set', 'path'): 4, ('trip', 'set', 'path', 'end'): 4, ('set', 'path', 'end', 'return'): 4, ('path', 'end', 'return', 'pledge'): 4, ('end', 'return', 'pledge', 'want'): 4, ('return', 'pledge', 'want', 'help'): 4, ('pledge', 'want', 'help', 'kid'): 4, ('want', 'help', 'kid', 'realize'): 4, ('help', 'kid', 'realize', 'kind'): 4, ('kid', 'realize', 'kind', 'journey'): 4, ('realize', 'kind', 'journey', 'want'): 4, ('kind', 'journey', 'want', 'dream'): 4, ('journey', 'want', 'dream', 'bound'): 4, ('want', 'dream', 'bound', 'limit'): 4, ('dream', 'bound', 'limit', 'limited'): 4, ('bound', 'limit', 'limited', 'walt'): 4, ('limit', 'limited', 'walt', 'disney'): 4, ('limited', 'walt', 'disney', 'say'): 4, ('walt', 'disney', 'say', 'dream'): 4, ('disney', 'say', 'dream', 'like'): 4, ('say', 'dream', 'like', 'help'): 4, ('dream', 'like', 'help', 'dream'): 4, ('wait', 'give', 'challenge', 'world'): 4, ('give', 'challenge', 'world', 'real'): 4, ('challenge', 'world', 'real', 'today'): 4, ('world', 'real', 'today', 'want'): 4, ('real', 'today', 'want', 'solution'): 4, ('today', 'want', 'solution', 'choose'): 4, ('want', 'solution', 'choose', 'focus'): 4, ('solution', 'choose', 'focus', 'outcome'): 4, ('choose', 'focus', 'outcome', 'research'): 4, ('focus', 'outcome', 'research', 'say'): 4, ('outcome', 'research', 'say', 'matter'): 4, ('research', 'say', 'matter', 'work'): 4, ('say', 'matter', 'work', 'relentlessly'): 4, ('matter', 'work', 'relentlessly', 'drive'): 4, ('work', 'relentlessly', 'drive', 'measurable'): 4, ('relentlessly', 'drive', 'measurable', 'meaningful'): 4, ('drive', 'measurable', 'meaningful', 'improvement'): 4, ('measurable', 'meaningful', 'improvement', 'outcome'): 4, ('plan', 'work', 'long', 'able'): 4, ('work', 'long', 'able', 'create'): 4, ('long', 'able', 'create', 'stable'): 4, ('able', 'create', 'stable', 'sustainable'): 4, ('create', 'stable', 'sustainable', 'organization'): 4, ('stable', 'sustainable', 'organization', 'continue'): 4, ('sustainable', 'organization', 'continue', 'future'): 4, ('organization', 'continue', 'future', 'believe'): 4, ('continue', 'future', 'believe', 'ensure'): 4, ('future', 'believe', 'ensure', 'organization'): 4, ('believe', 'ensure', 'organization', 'continue'): 4, ('ensure', 'organization', 'continue', 'work'): 4, ('organization', 'continue', 'work', 'good'): 4, ('continue', 'work', 'good', 'way'): 4, ('work', 'good', 'way', 'use'): 4, ('good', 'way', 'use', 'resource'): 4, ('business', 'personal', 'life', 'follow'): 4, ('personal', 'life', 'follow', 'main'): 4, ('life', 'follow', 'main', 'principle'): 4, ('follow', 'main', 'principle', 'believe'): 4, ('main', 'principle', 'believe', 'right'): 4, ('principle', 'believe', 'right', 'chance'): 4, ('believe', 'right', 'chance', 'happiness'): 4, ('right', 'chance', 'happiness', 'believe'): 4, ('chance', 'happiness', 'believe', 'power'): 4, ('happiness', 'believe', 'power', 'team'): 4, ('believe', 'power', 'team', 'invariably'): 4, ('power', 'team', 'invariably', 'strong'): 4, ('team', 'invariably', 'strong', 'power'): 4, ('invariably', 'strong', 'power', 'single'): 4, ('strong', 'power', 'single', 'individual'): 4, ('hope', 'give', 'pledge', 'send'): 4, ('give', 'pledge', 'send', 'message'): 4, ('pledge', 'send', 'message', 'philanthropy'): 4, ('send', 'message', 'philanthropy', 'people'): 4, ('message', 'philanthropy', 'people', 'hear'): 4, ('philanthropy', 'people', 'hear', 'hopefully'): 4, ('people', 'hear', 'hopefully', 'encourage'): 4, ('hear', 'hopefully', 'encourage', 'follow'): 4, ('want', 'devote', 'resource', 'bring'): 4, ('devote', 'resource', 'bring', 'moment'): 4, ('resource', 'bring', 'moment', 'instantiation'): 4, ('bring', 'moment', 'instantiation', 'idea'): 4, ('moment', 'instantiation', 'idea', 'see'): 4, ('instantiation', 'idea', 'see', 'real'): 4, ('idea', 'see', 'real', 'people'): 4, ('see', 'real', 'people', 'unlock'): 4, ('real', 'people', 'unlock', 'understanding'): 4, ('people', 'unlock', 'understanding', 'thing'): 4, ('unlock', 'understanding', 'thing', 'happen'): 4, ('understanding', 'thing', 'happen', 'shape'): 4, ('thing', 'happen', 'shape', 'world'): 4, ('happen', 'shape', 'world', 'want'): 4, ('shape', 'world', 'want', 'enable'): 4, ('world', 'want', 'enable', 'people'): 4, ('want', 'enable', 'people', 'possible'): 4, ('enable', 'people', 'possible', 'especially'): 4, ('people', 'possible', 'especially', 'underprivileged'): 4, ('possible', 'especially', 'underprivileged', 'community'): 4, ('especially', 'underprivileged', 'community', 'experience'): 4, ('underprivileged', 'community', 'experience', 'magic'): 4, ('community', 'experience', 'magic', 'firsthand'): 4, ('join', 'give', 'pledge', 'commit'): 4, ('join', 'give', 'pledge', 'encourage'): 6, ('gordon', 'llura', 'gund', 'family'): 6, ('llura', 'gund', 'family', 'challenge'): 5, ('make', 'positive', 'difference', 'people'): 4, ('positive', 'difference', 'people', 'life'): 4, ('hope', 'join', 'give', 'pledge'): 4, ('conrad', 'n.', 'hilton', 'foundation'): 4}\n"
          ]
        }
      ]
    },
    {
      "cell_type": "code",
      "source": [
        "# 5-grams\n",
        "# here a surprising 5-gram, \"climate change clean energy policy\"\n",
        "\n",
        "Ngrams = nltk.ngrams(df['normalized_letters'].sum(), 5)\n",
        "Counts = {}\n",
        "for ngram in list(Ngrams):\n",
        "    if ngram in Counts.keys():\n",
        "        Counts[ngram] += 1\n",
        "    else:\n",
        "        Counts[ngram] = 1\n",
        "Filtered = {}\n",
        "for key in Counts.keys():\n",
        "    if Counts[key] < 6:\n",
        "        pass\n",
        "    else:\n",
        "        Filtered[key] = Counts[key]\n",
        "print(Filtered)"
      ],
      "metadata": {
        "id": "BkqdXqO_CyID",
        "outputId": "d357f51e-9536-4907-e531-7597b7ca139a",
        "colab": {
          "base_uri": "https://localhost:8080/"
        }
      },
      "execution_count": 42,
      "outputs": [
        {
          "output_type": "stream",
          "name": "stdout",
          "text": [
            "{('warren', 'buffett', 'bill', 'melinda', 'gates'): 10, ('bill', 'melinda', 'gates', 'warren', 'buffett'): 9, ('climate', 'change', 'clean', 'energy', 'policy'): 6}\n"
          ]
        }
      ]
    },
    {
      "cell_type": "markdown",
      "metadata": {
        "id": "N1J-Z9wS9Q3p"
      },
      "source": [
        "# Named-Entity Recognition\n",
        "\n",
        "Named Entity Recognition (NER) is also a classification task, which identifies named objects. \n",
        "Like every other part of the pipeline, spaCy also tags words with their tagged entity (https://spacy.io/api/entityrecognizer). You can see the full capacity of what spaCy does by checking out: https://spacy.io/usage/linguistic-features.\n",
        "\n",
        "For training the identification of such entities, spaCy uses a deep learning model."
      ]
    },
    {
      "cell_type": "markdown",
      "metadata": {
        "id": "PMBHmsJF9Q3p"
      },
      "source": [
        "Let's try it on a basic sentence:"
      ]
    },
    {
      "cell_type": "code",
      "execution_count": null,
      "metadata": {
        "id": "L7t-iG9v9Q3p"
      },
      "outputs": [],
      "source": [
        "sent = nlp(u\"Tom went to IKEA to get some of those delicious Swedish meatballs.\")"
      ]
    },
    {
      "cell_type": "code",
      "execution_count": null,
      "metadata": {
        "id": "poALD3FX9Q3p"
      },
      "outputs": [],
      "source": [
        "for token in sent:\n",
        "    print(token.text, token.ent_type_)"
      ]
    },
    {
      "cell_type": "markdown",
      "metadata": {
        "id": "OApr6qCD9Q3p"
      },
      "source": [
        "For only finding ents-"
      ]
    },
    {
      "cell_type": "code",
      "execution_count": null,
      "metadata": {
        "id": "NLHGjqIX9Q3p"
      },
      "outputs": [],
      "source": [
        "for ent in sent.ents:\n",
        "    print(ent.text, ent.label_)"
      ]
    },
    {
      "cell_type": "code",
      "execution_count": null,
      "metadata": {
        "id": "vS2bYfbu9Q3q"
      },
      "outputs": [],
      "source": [
        "def tag_sents_ner(sentences):\n",
        "    \"\"\"\n",
        "    function which replicates NLTK ner tagging on sentences.\n",
        "    \"\"\"\n",
        "    new_sents = []\n",
        "    for sentence in sentences:\n",
        "        new_sent = ' '.join(sentence)\n",
        "        new_sents.append(new_sent)\n",
        "    final_string = ' '.join(new_sents)\n",
        "    doc = nlp(final_string)\n",
        "    \n",
        "    pos_sents = []\n",
        "    for sent in doc.sents:\n",
        "        pos_sent = []\n",
        "        for ent in sent.ents:\n",
        "            pos_sent.append((ent.text, ent.label_))\n",
        "        pos_sents.append(pos_sent)\n",
        "    \n",
        "    return pos_sents"
      ]
    },
    {
      "cell_type": "markdown",
      "metadata": {
        "id": "1eqr4sh19Q3q"
      },
      "source": [
        "We can also run NER over our entire corpus:"
      ]
    },
    {
      "cell_type": "code",
      "execution_count": null,
      "metadata": {
        "id": "aF5B37nA9Q3q"
      },
      "outputs": [],
      "source": [
        "redditTopScores['classified_sents'] = redditTopScores['sentences'].apply(lambda x: tag_sents_ner(x))"
      ]
    },
    {
      "cell_type": "code",
      "execution_count": null,
      "metadata": {
        "id": "r8eEoN8R9Q3q"
      },
      "outputs": [],
      "source": [
        "redditTopScores['classified_sents']"
      ]
    },
    {
      "cell_type": "markdown",
      "metadata": {
        "id": "F44Eugba9Q3q"
      },
      "source": [
        "Find the most common entities (which are, of course, boring):"
      ]
    },
    {
      "cell_type": "code",
      "execution_count": null,
      "metadata": {
        "id": "y4AzOPjM9Q3s"
      },
      "outputs": [],
      "source": [
        "entityCounts = {}\n",
        "for entry in redditTopScores['classified_sents']:\n",
        "    for sentence in entry:\n",
        "        for ent, kind in sentence:\n",
        "            if ent in entityCounts:\n",
        "                entityCounts[ent] += 1\n",
        "            else:\n",
        "                entityCounts[ent] = 1\n",
        "sortedEntities = sorted(entityCounts.items(), key = lambda x: x[1], reverse = True)\n",
        "sortedEntities[:10]"
      ]
    },
    {
      "cell_type": "markdown",
      "metadata": {
        "id": "qm2Y9Vq69Q3s"
      },
      "source": [
        "Or those occurring only twice:"
      ]
    },
    {
      "cell_type": "code",
      "execution_count": null,
      "metadata": {
        "id": "Odn_cGSU9Q3t"
      },
      "outputs": [],
      "source": [
        "[x[0] for x in sortedEntities if x[1] == 2]"
      ]
    },
    {
      "cell_type": "markdown",
      "metadata": {
        "id": "Evc1ctVg9Q3t"
      },
      "source": [
        "We could also list the most common \"non-objects\". (We note that we're not graphing these because there are so few here.)"
      ]
    },
    {
      "cell_type": "code",
      "execution_count": null,
      "metadata": {
        "id": "wREoHu-f9Q3t"
      },
      "outputs": [],
      "source": [
        "nonObjCounts = {}\n",
        "for entry in redditTopScores['classified_sents']:\n",
        "    for sentence in entry:\n",
        "        for ent, kind in sentence:\n",
        "            if kind == 'ORG':\n",
        "                continue\n",
        "            elif ent in nonObjCounts:\n",
        "                nonObjCounts[ent] += 1\n",
        "            else:\n",
        "                nonObjCounts[ent] = 1\n",
        "sortedNonObj = sorted(nonObjCounts.items(), key = lambda x: x[1], reverse = True)\n",
        "sortedNonObj[:10]"
      ]
    },
    {
      "cell_type": "markdown",
      "metadata": {
        "id": "EMpVZgsY9Q3t"
      },
      "source": [
        "What about the Organizations?"
      ]
    },
    {
      "cell_type": "code",
      "execution_count": null,
      "metadata": {
        "id": "f1CtdnNu9Q3t"
      },
      "outputs": [],
      "source": [
        "OrgCounts = {}\n",
        "for entry in redditTopScores['classified_sents']:\n",
        "    for sentence in entry:\n",
        "        for ent, kind in sentence:\n",
        "            if kind == 'ORG':\n",
        "                print(ent)"
      ]
    },
    {
      "cell_type": "markdown",
      "metadata": {
        "id": "BYC6BdL_9Q3t"
      },
      "source": [
        "These, of course, have much smaller counts.\n",
        "\n",
        "In this particular example we didn't find the most interesting entities - you can remedy that in exercise 4!"
      ]
    },
    {
      "cell_type": "markdown",
      "metadata": {
        "id": "X7xMQ-2W9Q3t"
      },
      "source": [
        "## <font color=\"red\">*Exercise 5*</font>\n",
        "\n",
        "<font color=\"red\">In the cells immediately following, perform NER on a (modest) subset of your corpus of interest. List all of the different kinds of entities tagged? What does their distribution suggest about the focus of your corpus? For a subset of your corpus, tally at least one type of named entity and calculate the Precision, Recall and F-score for the NER classification just performed."
      ]
    },
    {
      "cell_type": "code",
      "source": [
        "# list all entities tagged\n",
        "\n",
        "    \n",
        "def tag_sents_ner(sentences):\n",
        "    \"\"\"\n",
        "    function which replicates NLTK ner tagging on sentences.\n",
        "    \"\"\"\n",
        "    new_sents = []\n",
        "    for sentence in sentences:\n",
        "        new_sent = ' '.join(sentence)\n",
        "        new_sents.append(new_sent)\n",
        "    final_string = ' '.join(new_sents)\n",
        "    doc = nlp(final_string)\n",
        "    \n",
        "    pos_sents = []\n",
        "    for sent in doc.sents:\n",
        "        pos_sent = []\n",
        "        for ent in sent.ents:\n",
        "            pos_sent.append((ent.text, ent.label_))\n",
        "        pos_sents.append(pos_sent)\n",
        "    \n",
        "    return pos_sents\n",
        "\n",
        "df['classified_sents'] = df['sentences'].apply(lambda x: tag_sents_ner(x))\n",
        "\n",
        "entityCounts = {}\n",
        "for entry in df['classified_sents']:\n",
        "    for sentence in entry:\n",
        "        for ent, kind in sentence:\n",
        "            if ent in entityCounts:\n",
        "                entityCounts[ent] += 1\n",
        "            else:\n",
        "                entityCounts[ent] = 1\n",
        "sortedEntities = sorted(entityCounts.items(), key = lambda x: x[1], reverse = True)\n",
        "sortedEntities[:100]"
      ],
      "metadata": {
        "id": "Vpx47mGjC68I",
        "outputId": "946b8726-8c4e-4ba3-99d0-448bf76fa512",
        "colab": {
          "base_uri": "https://localhost:8080/"
        }
      },
      "execution_count": 39,
      "outputs": [
        {
          "output_type": "stream",
          "name": "stderr",
          "text": [
            "/usr/local/lib/python3.7/dist-packages/ipykernel_launcher.py:24: SettingWithCopyWarning: \n",
            "A value is trying to be set on a copy of a slice from a DataFrame.\n",
            "Try using .loc[row_indexer,col_indexer] = value instead\n",
            "\n",
            "See the caveats in the documentation: https://pandas.pydata.org/pandas-docs/stable/user_guide/indexing.html#returning-a-view-versus-a-copy\n"
          ]
        },
        {
          "output_type": "execute_result",
          "data": {
            "text/plain": [
              "[('first', 77),\n",
              " ('one', 75),\n",
              " ('the Giving Pledge', 68),\n",
              " ('Jewish', 63),\n",
              " ('today', 43),\n",
              " ('two', 43),\n",
              " ('Bill', 42),\n",
              " ('three', 42),\n",
              " ('Foundation', 40),\n",
              " ('The Giving Pledge', 36),\n",
              " ('America', 36),\n",
              " ('American', 33),\n",
              " ('Warren', 31),\n",
              " ('Warren Buffett', 29),\n",
              " ('Africa', 27),\n",
              " ('the years', 27),\n",
              " ('the United States', 26),\n",
              " ('Bill Gates', 25),\n",
              " ('Melinda Gates', 25),\n",
              " ('India', 20),\n",
              " ('half', 19),\n",
              " ('millions', 17),\n",
              " ('Catholic', 15),\n",
              " ('four', 15),\n",
              " ('Melinda', 14),\n",
              " ('50', 13),\n",
              " ('One', 13),\n",
              " ('each year', 13),\n",
              " ('New York', 13),\n",
              " ('African', 13),\n",
              " ('2', 12),\n",
              " ('decades', 12),\n",
              " ('annual', 12),\n",
              " ('1', 11),\n",
              " ('100', 11),\n",
              " ('second', 11),\n",
              " ('Bill Melinda', 11),\n",
              " ('Susan', 11),\n",
              " ('third', 11),\n",
              " ('Tanzania', 11),\n",
              " ('at least half', 11),\n",
              " ('thousands', 10),\n",
              " ('Today', 10),\n",
              " ('Israel', 10),\n",
              " ('Philanthropy', 10),\n",
              " ('years', 10),\n",
              " ('Americans', 10),\n",
              " ('Giving Pledge', 9),\n",
              " ('First', 9),\n",
              " ('Jews', 9),\n",
              " ('Canada', 8),\n",
              " ('David', 8),\n",
              " ('3', 8),\n",
              " ('at least 50', 8),\n",
              " ('hundreds', 8),\n",
              " ('Rwanda', 8),\n",
              " ('many years', 8),\n",
              " ('n’t', 8),\n",
              " ('San Francisco', 8),\n",
              " ('UK', 8),\n",
              " ('U.S.', 8),\n",
              " ('California', 8),\n",
              " ('five', 7),\n",
              " ('US', 7),\n",
              " ('daily', 7),\n",
              " ('many years ago', 7),\n",
              " ('Second', 6),\n",
              " ('Pledge', 6),\n",
              " ('Morgan', 6),\n",
              " ('2007', 6),\n",
              " ('Montreal', 6),\n",
              " ('South Africa', 6),\n",
              " ('World War II', 6),\n",
              " ('Lombardi', 6),\n",
              " ('more than half', 6),\n",
              " ('2005', 6),\n",
              " ('Mark', 6),\n",
              " ('2006', 6),\n",
              " ('Ukraine', 6),\n",
              " ('Jon', 5),\n",
              " ('Asia', 5),\n",
              " ('1994', 5),\n",
              " ('tomorrow', 5),\n",
              " ('2001', 5),\n",
              " ('About ten years ago', 5),\n",
              " ('Washington', 5),\n",
              " ('Greek', 5),\n",
              " ('Greece', 5),\n",
              " ('the day', 5),\n",
              " ('99', 5),\n",
              " ('1999', 5),\n",
              " ('Mary', 5),\n",
              " ('Silicon Valley', 5),\n",
              " ('Caudwell Children', 5),\n",
              " ('South Africans', 5),\n",
              " ('Houston', 5),\n",
              " ('Hilton', 5),\n",
              " ('40', 4),\n",
              " ('Earth', 4),\n",
              " ('one day', 4)]"
            ]
          },
          "metadata": {},
          "execution_count": 39
        }
      ]
    },
    {
      "cell_type": "code",
      "source": [
        "# what does their distribution suggest about the focus of the corpus? \n",
        "\n",
        "# Answer: the entities found are (a) names of philanthropists, (2) The Giving Pledge, (3) geographical locations, \n",
        "# and (4) identity terms (Catholic, Jews)\n",
        "# Geographical locations are by far the largest category. They encompases both the origin of the letter author\n",
        "# and the intended location of the good-doing. \n",
        "\n",
        "OrgCounts = {}\n",
        "for entry in df['classified_sents']:\n",
        "    for sentence in entry:\n",
        "        for ent, kind in sentence:\n",
        "            if kind == 'ORG':\n",
        "                print(ent)"
      ],
      "metadata": {
        "id": "HVQEOaMkDMB_",
        "outputId": "4c13e9bd-3760-4ed7-8c9c-8652cfc3f5b3",
        "colab": {
          "base_uri": "https://localhost:8080/"
        }
      },
      "execution_count": 43,
      "outputs": [
        {
          "output_type": "stream",
          "name": "stdout",
          "text": [
            "Humanity\n",
            "Tribal Nations Looking East\n",
            "Jon as Board Chair\n",
            "Humanity\n",
            "the Make\n",
            "St. Jude Children ’s Research Hospital\n",
            "Time\n",
            "Time\n",
            "Dataphilanthropy\n",
            "the California State University\n",
            "the Ruth Cheatham Foundation\n",
            "Dataphilanthropy\n",
            "TTD\n",
            "the Gen Z\n",
            "Alpha\n",
            "Canva\n",
            "foi\n",
            "ferramentas que muitas\n",
            "nos\n",
            "importância de ter consciência social\n",
            "que o sentido da vida\n",
            "Nubank\n",
            "que\n",
            "nível de sucesso que\n",
            "novo patamar de acúmulo\n",
            "Essa conclusão possui\n",
            "na verdade uma\n",
            "trabalhar duro para\n",
            "nações porém muitas\n",
            "não têm\n",
            "certas para\n",
            "experiência internacional para\n",
            "nos ajudar\n",
            "enfrentar de maneiras não convencionais alguns desses\n",
            "Paralelamente Mariel\n",
            "Nubank\n",
            "esperamos\n",
            "the Schuler Scholar Program\n",
            "the Gates Foundation\n",
            "the Schuler Education Foundation\n",
            "the Schuler Scholar Program\n",
            "the Schuler Education Foundation\n",
            "Pell\n",
            "the Schuler Education Foundation\n",
            "Vedanta\n",
            "형미선・김범수입니다.1995년\n",
            "있는 기회를\n",
            "이야기\n",
            "미치게\n",
            "됐습니다. 카카오와\n",
            "합니다.\n",
            "수많은\n",
            "이어져야 하며 그\n",
            "전까지 재산의 절반 이상을 사회에\n",
            "선언합니다. 우리의 사랑스러운 자녀들\n",
            "더더욱\n",
            "기부와\n",
            "된다면 더없이 기쁠 것 같습니다. 그렇게 누군가\n",
            "바랍니다.감사합니다.김봉진\n",
            "the University of Chicago Jeff Metcalf Internship and Careers in Business\n",
            "rootEd Alliance\n",
            "the University of Chicago\n",
            "Blackstone\n",
            "Blackstone\n",
            "Tsinghua University\n",
            "MIT\n",
            "MIT\n",
            "Institute for Ethics\n",
            "Yale\n",
            "the Giving Pledge Community\n",
            "the Giving Pledge Community\n",
            "The Secure World Foundation\n",
            "The One Earth Future Foundation\n",
            "The Arsenault Family Foundation\n",
            "Bainum\n",
            "the Ford Motor Company Soon\n",
            "Evening Post\n",
            "Ladies Home Journal\n",
            "the Detroit Free Press\n",
            "house\n",
            "Choice Hotels\n",
            "OPEC\n",
            "CO2\n",
            "Research Development\n",
            "CO2\n",
            "CO2\n",
            "Morgan\n",
            "Wonderland Sports\n",
            "The MAC a Multi Assistance Center\n",
            "Stanford University Opening\n",
            "King Philanthropies\n",
            "Working\n",
            "King Philanthropies\n",
            "The King Essentials\n",
            "Stanford\n",
            "the Stanford Institute for Innovation in Developing Economies Stanford\n",
            "the Stanford King Center on Global Development\n",
            "Gayle Conway Lynn\n",
            "Foundation\n",
            "Foundation\n",
            "一个人，因为有爱，内心才会充满力量；一个企业家，因为承担社会责任才会让生命更有意义。因此，我愿意以你们为榜样，代表全家人共同承诺，捐赠资产的70%用于老年人和农民的脱贫帮困；愿意与所有热爱公益事业的人共同努力，用自己的毕生精力和财富，为人类的健康生活和文明进步而努力奋斗\n",
            "the Boys and Girls Club\n",
            "YMCA\n",
            "the McCall MacBain Foundation\n",
            "Trader Classified Media\n",
            "the McCall MacBain Foundation\n",
            "the McCall MacBain Scholarships\n",
            "McGill University\n",
            "the European Climate Foundation\n",
            "Canada Mitch\n",
            "Danaher Corporation\n",
            "Annie Dillard\n",
            "ما\n",
            "وموارد وكفاءات\n",
            "بمبادراتها وجهودها الكبيرة في\n",
            "إن تعهد العطاء\n",
            "the AKO Foundation\n",
            "PledgeHaving\n",
            "AKO Capital\n",
            "the AKO Foundation\n",
            "the AKO Foundation\n",
            "Foundation\n",
            "WEEKLEY FAMILY FOUNDATION\n",
            "Foundation\n",
            "Building Dreams\n",
            "Charity\n",
            "The Holdsworth Center for Excellence\n",
            "The Charles Butt Scholarship for Aspiring Teachers\n",
            "State\n",
            "Abu Dhabi\n",
            "Health Education\n",
            "Philanthropy\n",
            "Medium.com\n",
            "US Veterans\n",
            "the Pahara Institute Supporting\n",
            "MIT\n",
            "Change.org\n",
            "VPS Healthcare\n",
            "SincerelyShabeena\n",
            "n’t\n",
            "Church\n",
            "GI\n",
            "The Partnership for Los Angeles Schools\n",
            "The Partnership works WITHIN\n",
            "The Partnership for Los Angeles Schools\n",
            "Torrance Memorial Medical Center\n",
            "Working\n",
            "the Los Angeles Unified School District\n",
            "Unique ID project\n",
            "Societal\n",
            "Lombardi\n",
            "Vince LombardiEveryone\n",
            "Lombardi\n",
            "Hall of Fame\n",
            "the Seven Blocks of Granite\n",
            "Fordham University\n",
            "Fordham Prep\n",
            "Columbia Business School\n",
            "Lombardi\n",
            "Dagmar Family Fund\n",
            "Nick\n",
            "Foundation\n",
            "Greek Cypriots\n",
            "London School of Economics and City University\n",
            "WWF\n",
            "the Red Cross\n",
            "Foundation\n",
            "the Login5 Foundation\n",
            "Massachusetts General Hospital MIT\n",
            "Harvard the Ragon Institute\n",
            "MeTL Group\n",
            "Parliament\n",
            "the Mo Dewji Foundation\n",
            "the Mo Dewji Foundation\n",
            "Alwaleed Philanthropies\n",
            "UCSF Benioff Children\n",
            "San Francisco Unified School District\n",
            "the U.S. Department of Housing and Urban Development\n",
            "UCSF Benioff Children ’s Hospitals\n",
            "UCSF\n",
            "the Bill Melinda Gates Foundation\n",
            "Presidio\n",
            "Nathan\n",
            "Walt Disney\n",
            "Walt Disney\n",
            "Philanthropy\n",
            "Geographic Information System\n",
            "Wales Obvious\n",
            "2016Cardiff\n",
            "the Rhode Island School of Design RISD\n",
            "RISD\n",
            "Unique ID project\n",
            "Societal\n",
            "Lombardi\n",
            "Vince LombardiEveryone\n",
            "Lombardi\n",
            "Hall of Fame\n",
            "the Seven Blocks of Granite\n",
            "Fordham University\n",
            "Fordham Prep\n",
            "Columbia Business School\n",
            "Lombardi\n",
            "Dagmar Family Fund\n",
            "Nick\n",
            "Foundation\n",
            "Greek Cypriots\n",
            "London School of Economics and City University\n",
            "WWF\n",
            "the Red Cross\n",
            "Foundation\n",
            "the Login5 Foundation\n",
            "Massachusetts General Hospital MIT\n",
            "Harvard the Ragon Institute\n",
            "MeTL Group\n",
            "Parliament\n",
            "the Mo Dewji Foundation\n",
            "the Mo Dewji Foundation\n",
            "Alwaleed Philanthropies\n",
            "UCSF Benioff Children\n",
            "San Francisco Unified School District\n",
            "the U.S. Department of Housing and Urban Development\n",
            "UCSF Benioff Children ’s Hospitals\n",
            "UCSF\n",
            "the Bill Melinda Gates Foundation\n",
            "Presidio\n",
            "Nathan\n",
            "Walt Disney\n",
            "Walt Disney\n",
            "Philanthropy\n",
            "Geographic Information System\n",
            "Wales Obvious\n",
            "2016Cardiff\n",
            "the Rhode Island School of Design RISD\n",
            "RISD\n",
            "Sobha Group\n",
            "CSR\n",
            "CSR\n",
            "UAE\n",
            "the Heising Simons Foundation Mark\n",
            "Life\n",
            "Frost\n",
            "Biocon\n",
            "Biocon\n",
            "Primary Health Centres\n",
            "Translational Research MSCTR\n",
            "the Koch Institute of Integrative Cancer Research\n",
            "MIT Boston\n",
            "The Wertheim Family Foundation\n",
            "the Wertheim Family 's\n",
            "the Smithsonian Museum\n",
            "dyslexia\n",
            "the Miami Juvenile Detention System\n",
            "Distinguished Americans Awardee\n",
            "the Florida International University FIU College of Medicine Trustee Emeritus\n",
            "University and Honorary\n",
            "the University Of Florida College Of Engineering The\n",
            "the Giving Pledge\n",
            "the US Navy\n",
            "the State Juvenile Detention Center\n",
            "Navy\n",
            "NASA\n",
            "Brain Power Incorporated\n",
            "The Wertheim Family Foundation\n",
            "Colorado Public Radio\n",
            "KPRE Florida International University 's\n",
            "The Herbert Wertheim College of Medicine at\n",
            "FIU\n",
            "The Nicole Wertheim College of Nursing and Health Sciences\n",
            "FIU\n",
            "Foundation\n",
            "University of Florida\n",
            "Herbert Wertheim College of Engineering\n",
            "Herbert Wertheim Laboratory for Engineering Excellence\n",
            "Foundation\n",
            "Foundation\n",
            "the University of Florida\n",
            "The Wertheim Family Foundation 's\n",
            "n’t\n",
            "Campbell\n",
            "Vartan Gregorian\n",
            "The Hunter Foundation\n",
            "The Hunter Foundation\n",
            "the Varkey Foundation\n",
            "the Small Business Administration\n",
            "the Chobani Foundation\n",
            "Chobani\n",
            "Foundation\n",
            "Auburndale MA\n",
            "the Harold Grinspoon Foundation\n",
            "Foundation\n",
            "Foundation\n",
            "the Ministry of Education\n",
            "Foundation\n",
            "Foundation\n",
            "Trustee\n",
            "Foundation\n",
            "State\n",
            "Frankoma Pottery\n",
            "Continental Resources\n",
            "the Harold Hamm School of Geology and Geological Engineering\n",
            "the University of North Dakota\n",
            "the American Energy Renaissance\n",
            "the Buffett Partnership\n",
            "the John Wood Group\n",
            "Wood Group\n",
            "The Wood Foundation\n",
            "Gatsby Trust\n",
            "Wood Foundation\n",
            "The Creek Do n’t Rise\n",
            "the Foundation Fighting Blindness FFB\n",
            "FFB\n",
            "RP\n",
            "AMD\n",
            "The Foundation Fighting Blindness\n",
            "Foundation\n",
            "Foundation\n",
            "The Argus II\n",
            "AMD\n",
            "FDA\n",
            "Foundation\n",
            "Foundation\n",
            "Foundation\n",
            "FFB\n",
            "FFB\n",
            "the Gordon Llura Gund Family ChallengeGordon Llura Gund\n",
            "the Foundation Fighting Blindness To encourage\n",
            "the Envision 20/20 Campaign\n",
            "the Gordon Llura Gund Family Challenge First FFB\n",
            "the Research Oversight Committee\n",
            "the Gordon Llura Gund Family Challenge\n",
            "the Research Oversight Committee\n",
            "the Gordon Llura Gund Family Challenge\n",
            "The Gordon Llura Gund Family Challenge\n",
            "Campaign\n",
            "the Gordon Llura Gund Family Challenge\n",
            "The Orfalea Foundation\n",
            "Echidna Giving Fund\n",
            "Church\n",
            "Dirty Politics Dirty Times\n",
            "Crimestoppers\n",
            "Leadership Academy\n",
            "soar!I\n",
            "the Board of Trustees of the Guggenheim Foundation Lincoln Center\n",
            "the Jackie Robinson Foundation\n",
            "the World Resources Institute\n",
            "the University of Michigan\n",
            "the Stephen M. Ross School of Business\n",
            "the University of Michigan Not\n",
            "University\n",
            "the Giving Pledge\n",
            "the World Resources Institute\n",
            "Central\n",
            "Sequoia Capital\n",
            "Sequoia\n",
            "the Pledge\n",
            "the American Dream\n",
            "American Dream\n",
            "Student\n",
            "Virgin\n",
            "the Virgin Group\n",
            "Virgin Unite\n",
            "The B Team\n",
            "Sundog Pictures\n",
            "the Virgin Group\n",
            "the Virgin Group\n",
            "Caudwell Children\n",
            "Caudwell Children\n",
            "Caudwell Children\n",
            "Caudwell Children\n",
            "Caudwell Children\n",
            "the Bomber Command Memorial\n",
            "The Prince 's\n",
            "Nicola\n",
            "Education\n",
            "Nicola\n",
            "Governance and Leadership\n",
            "Celtel\n",
            "Celtel\n",
            "Celtel\n",
            "Celtel\n",
            "the Mo Ibrahim Foundation\n",
            "Good Governance and Leadership in Africa Good Governance\n",
            "the Prize Committee\n",
            "Governance and Leadership\n",
            "Satya Capital\n",
            "PledgeDear\n",
            "the Motsepe Foundation\n",
            "the Motsepe Foundation\n",
            "The Motsepe Foundation\n",
            "Time\n",
            "My Giving PledgeMore\n",
            "University of Karlsruhe\n",
            "Cerebral Palsy Children\n",
            "Stanford\n",
            "the Public Education System\n",
            "Education\n",
            "the Public Education System\n",
            "the Azim Premji Foundation\n",
            "the Public Schooling System\n",
            "Foundation\n",
            "University\n",
            "Wipro Limited\n",
            "Foundation\n",
            "the Azim Premji University\n",
            "the Endowment of the Foundation\n",
            "Azim Premji\n",
            "Wipro Ltd.\n",
            "Wipro Ltd.\n",
            "the Institute for Government\n",
            "the Centre for Cities\n",
            "Better Malaysia Foundation\n",
            "Berjaya\n",
            "Alliance Resource Partners L.P.\n",
            "the Children ’s Tumor Foundation CTF\n",
            "Children ’s National Medical Center CNMC\n",
            "CTF\n",
            "Wealth\n",
            "Reed\n",
            "The Management Center\n",
            "Foundation\n",
            "Our Foundation\n",
            "The Tow Foundation\n",
            "Medical Research and Care Disadvantaged Youth\n",
            "the Juvenile Justice System Cultural Institutions\n",
            "the Performing Arts and Programs at Institutions of Higher Learning\n",
            "Foundation\n",
            "HMS\n",
            "the Kitty Hawk\n",
            "Pan American World Airways\n",
            "Pan Am\n",
            "Pan Am\n",
            "Pan Am\n",
            "Pan Am\n",
            "FlightSafety\n",
            "FlightSafety International\n",
            "FlightSafety\n",
            "Vision\n",
            "Orbis International\n",
            "Orbis International\n",
            "Orbis\n",
            "MSICS\n",
            "MSICS\n",
            "Manual Small Incision Cataract Surgery MSICS\n",
            "Melinda Gates Foundation\n",
            "the Sobrato Family Foundation\n",
            "Sobrato Family Foundation\n",
            "Amazon Sony Facebook Google Netflix\n",
            "Apple\n",
            "the Family Foundation\n",
            "The Arthur M. Blank Family Foundation\n",
            "Foundation\n",
            "Foundation\n",
            "the Atlanta Beltline\n",
            "The Home Depot\n",
            "The Home Depot\n",
            "the Atlanta Falcons\n",
            "the Atlanta Falcon Physical Therapy Centers\n",
            "the PGA TOUR Superstores\n",
            "The Samuel Bronfman Foundation\n",
            "The Samuel Bronfman Foundation\n",
            "The Seagram Company\n",
            "Foundation\n",
            "Foundation\n",
            "MyJewishLearning.com\n",
            "The Seagram Company\n",
            "the World Jewish Congress\n",
            "Foundation\n",
            "Foundation\n",
            "Foundation\n",
            "Foundation\n",
            "Dubin Family Foundation\n",
            "LinkedIn\n",
            "the American Dream Throughout\n",
            "the US Senate\n",
            "Broadcom\n",
            "Association\n",
            "Giving Pledge\n",
            "Association\n",
            "Cummings Foundation\n",
            "Cummings Foundation\n",
            "Cummings Foundation\n",
            "IRS\n",
            "New Horizons\n",
            "Marlborough Massachusetts\n",
            "Cummings School of Veterinary Medicine\n",
            "Tufts University\n",
            "Foundation\n",
            "Institute for World Justice\n",
            "Institute for World Justice\n",
            "Tufts University\n",
            "Salem State University\n",
            "Tufts\n",
            "Partners In Health\n",
            "University of Global Health Equity UGHE\n",
            "UGHE\n",
            "Association\n",
            "the Salvation Army\n",
            "Pirkei Avot Ethics\n",
            "Maimonides\n",
            "the United Jewish Appeal\n",
            "Rabbi Tarfon in Pirkei Avot\n",
            "The Kinder Foundation\n",
            "The Atlantic Foundation\n",
            "The Atlantic Foundation\n",
            "AOL\n",
            "the Case Foundation\n",
            "The Case Foundation\n",
            "the Case Foundation\n",
            "the Case Foundation\n",
            "Giving Pledge\n",
            "CINDY\n",
            "National Parks\n",
            "the New York City Transit Authority\n",
            "the Catskills Merryl 's Mom\n",
            "the Zegar Family Foundation\n",
            "Foundation\n",
            "foods.• Arts Culture and Heritage Contributing\n",
            "programs.• Conservation Working\n",
            "environment.• International Supporting\n",
            "Rutgers University\n",
            "Johns Hopkins\n",
            "The Giving Pledge Charity\n",
            "The Milken Institute\n",
            "Charitable\n",
            "Facebook\n",
            "Cari\n",
            "the Gospel of Jesus Christ.2 Corinthians\n",
            "Band Aids\n",
            "the Columbia University Graduate School of Business\n",
            "Goldman Sachs\n",
            "Goldman Sachs\n",
            "Omega\n",
            "Talmud\n",
            "Accordingly\n",
            "Choate Rosemary Hall\n",
            "Program\n",
            "Program\n",
            "School\n",
            "Choate\n",
            "Princeton University ’s\n",
            "Institute for Integrated Genomics\n",
            "the Icahn Medical Institute\n",
            "the Center for Education Innovation Public Education Association\n",
            "Icahn House\n",
            "Island Sports Foundation\n",
            "Icahn Stadium\n",
            "the Starlight Foundation\n",
            "the Nicolas Berggruen Charitable Trust\n",
            "the Nicolas Berggruen Charitable Trust\n",
            "the Nicolas Berggruen Charitable Trust\n",
            "Bloomberg L.P.\n",
            "Johns Hopkins University\n",
            "Rockefeller Carnegie Frick\n",
            "Stanford\n",
            "Berkshire\n",
            "the Conrad N. Hilton Foundation\n",
            "Hilton Hotels Corporation\n",
            "the New York Stock Exchange\n",
            "the Waldorf Astoria\n",
            "Navy\n",
            "Air Finance Corporation\n",
            "Blanche Credit Card\n",
            "Hilton Hotels Corporation\n",
            "Hilton Hotels\n",
            "the Las Vegas Hilton\n",
            "Hilton\n",
            "Hilton International\n",
            "TWA\n",
            "Hilton Hotels Corporation\n",
            "Bally\n",
            "Caesars Embassy Suites Doubletree\n",
            "Hilton Hotels Corporation\n",
            "Hilton\n",
            "Hilton Foundation\n",
            "the Conrad N. Hilton Foundation\n",
            "Hilton\n",
            "the Conrad N. Hilton Foundation\n",
            "the Hilton Foundation\n",
            "Foundation\n",
            "Foundation\n",
            "The US Army\n",
            "the Air Force\n",
            "Spectrolab\n",
            "the Boeing Co.\n",
            "the Alfred Mann Foundation AMF AMF\n",
            "AMF\n",
            "AMF\n",
            "AMF\n",
            "the University of Southern California Purdue\n",
            "The Marcus Foundation\n",
            "The Georgia Aquarium\n",
            "the Marcus Autism Center MAC\n",
            "MAC\n",
            "MAC\n",
            "NBC\n",
            "MAC\n",
            "The Georgia Aquarium soon\n",
            "Domino ’s Pizza\n",
            "the Detroit Free Press\n",
            "Detroit Tigers\n",
            "Ave Maria University\n",
            "Ave Maria School of Law\n",
            "the University of Wisconsin Madison\n",
            "the Stanford Graduate School of Business\n",
            "Ford\n",
            "the University of Wisconsin Early\n",
            "eBay\n",
            "Forbes\n",
            "eBay\n",
            "Biddeford Maine\n",
            "Oppenheimer\n",
            "eBay\n",
            "Stockholm University\n",
            "the University of California Berkeley Foundation\n",
            "the American Scandinavian Foundation\n",
            "the American Friends of the Karolinska Institute\n",
            "the Nobel Museum\n",
            "Honorary Consul General\n",
            "the Union Pacific\n",
            "the Peterson Institute for International Economics the Council on Foreign Relations\n",
            "The Blackstone Group\n",
            "the Peter G. Peterson Foundation\n",
            "Foundation\n",
            "Foundation\n",
            "University of Chicago\n",
            "Livingstone\n",
            "the Boys Club of New York\n",
            "the Cancer Research Institute\n",
            "Lincoln Center\n",
            "the Boys Clubs\n",
            "Philanthropy\n",
            "the Tiger Foundation\n",
            "the Tiger Foundation\n",
            "Duke\n",
            "the University of North Carolina\n",
            "Chapel Hill Sixteen\n",
            "The Milken Institute\n",
            "the University of Chicago\n",
            "the Rockefeller Brothers Fund\n",
            "the University of Chicago Law School\n",
            "White House\n",
            "Pledge\n",
            "American Century Investments We\n",
            "the Stowers Institute for Medical Research\n",
            "Institute\n",
            "The Institute\n",
            "The Institute 's Scientific Advisory Board\n",
            "Institute\n",
            "Technology Centers\n",
            "Institute\n",
            "Institute\n",
            "the Hope for Life Endowment\n",
            "the Stowers Institute\n",
            "the Hope for Life Endowment of the Institute.•\n",
            "year.• Receive\n"
          ]
        }
      ]
    },
    {
      "cell_type": "code",
      "source": [
        "# tally at least one type of named entity and calculate the Precision, Recall and F-score for the NER classification just performed\n",
        "\n",
        "# Answer: By recall we mean True Positive / False Negative + True Positive; Precision is True Positive / False Positive + True Positive; \n",
        "# F1 = 2* Precision Score * Recall Score/ (Precision Score + Recall Score)\n",
        "# I cannot manually tally any single entity because I am working with a fairly large dataset. "
      ],
      "metadata": {
        "id": "byqskngmDPCZ"
      },
      "execution_count": 44,
      "outputs": []
    },
    {
      "cell_type": "markdown",
      "metadata": {
        "id": "rkIXZwNC9Q3u"
      },
      "source": [
        "## Dependency parsing and graph representations\n",
        "\n",
        "Dependency parsing was developed to robustly capture linguistic dependencies from text. The complex tags associated with these parses are detailed [here]('http://universaldependencies.org/u/overview/syntax.html'). When parsing with the dependency parser, we will work directly from the untokenized text. Note that no *processing* takes place before parsing sentences--we do not remove so-called stop words or anything that plays a syntactic role in the sentence, although anaphora resolution and related normalization may be performed before or after parsing to enhance the value of information extraction. "
      ]
    },
    {
      "cell_type": "markdown",
      "metadata": {
        "id": "Ls8d_NGU9Q3u"
      },
      "source": [
        "We will be using spaCy's built in dependancy parser to go about exploring the tree.\n",
        "Note that unlike previous examples, large corpuses or collections of sentences don't give us as much information, so we will be navigating smaller sentences.\n",
        "\n",
        "Let us start by exploring noun chunks. Noun chunks are “base noun phrases” – flat phrases that have a noun as their head. You can think of noun chunks as a noun plus the words describing the noun – for example, “the lavish green grass” or “the world’s largest tech fund”. To get the noun chunks in a document, simply iterate over the sentences noun chunks."
      ]
    },
    {
      "cell_type": "code",
      "execution_count": null,
      "metadata": {
        "id": "pXExpezN9Q3u"
      },
      "outputs": [],
      "source": [
        "from spacy import displacy"
      ]
    },
    {
      "cell_type": "code",
      "execution_count": null,
      "metadata": {
        "id": "bAbJ0Pi39Q3u"
      },
      "outputs": [],
      "source": [
        "doc = nlp(\"Autonomous cars shift insurance liability toward manufacturers\")"
      ]
    },
    {
      "cell_type": "code",
      "execution_count": null,
      "metadata": {
        "id": "wmAx8Y4d9Q3u"
      },
      "outputs": [],
      "source": [
        "displacy.render(doc, style='dep')"
      ]
    },
    {
      "cell_type": "code",
      "execution_count": null,
      "metadata": {
        "id": "fP0WSyB79Q3u"
      },
      "outputs": [],
      "source": [
        "for chunk in doc.noun_chunks:\n",
        "    print(chunk.text, chunk.root.text, chunk.root.dep_, chunk.root.head.text)"
      ]
    },
    {
      "cell_type": "markdown",
      "metadata": {
        "id": "Y3IK6W5I9Q3v"
      },
      "source": [
        "spaCy uses the terms head and child to describe the words connected by a single arc in the dependency tree. The term dep is used for the arc label, which describes the type of syntactic relation that connects the child to the head. As with other attributes, the value of .dep is a hash value. You can get the string value with .dep_.\n",
        "\n",
        "For your reference:\n",
        "\n",
        "Text: The original token text.\n",
        "\n",
        "Dep: The syntactic relation connecting child to head.\n",
        "\n",
        "Head text: The original text of the token head.\n",
        "\n",
        "Head POS: The part-of-speech tag of the token head.\n",
        "\n",
        "Children: The immediate syntactic dependents of the token."
      ]
    },
    {
      "cell_type": "code",
      "execution_count": null,
      "metadata": {
        "id": "gfpt1swn9Q3v"
      },
      "outputs": [],
      "source": [
        "for token in doc:\n",
        "    print(token.text, token.dep_, token.head.text, token.head.pos_,\n",
        "            [child for child in token.children])"
      ]
    },
    {
      "cell_type": "markdown",
      "metadata": {
        "id": "vlf6Lbs49Q3v"
      },
      "source": [
        "Because the syntactic relations form a tree, every word has exactly one head. You can therefore iterate over the arcs in the tree by iterating over the words in the sentence. This is usually the best way to match an arc of interest — from below:"
      ]
    },
    {
      "cell_type": "code",
      "execution_count": null,
      "metadata": {
        "id": "7Q2i1RT39Q3v"
      },
      "outputs": [],
      "source": [
        "from spacy.symbols import nsubj, VERB"
      ]
    },
    {
      "cell_type": "code",
      "execution_count": null,
      "metadata": {
        "id": "UhsEpsH59Q3w"
      },
      "outputs": [],
      "source": [
        "verbs = set()\n",
        "for possible_subject in doc:\n",
        "    if possible_subject.dep == nsubj and possible_subject.head.pos == VERB:\n",
        "        verbs.add(possible_subject.head)\n",
        "print(verbs)"
      ]
    },
    {
      "cell_type": "markdown",
      "metadata": {
        "id": "utmA0zTK9Q3w"
      },
      "source": [
        "You can *also* navigate from above. It isn't as efficient though."
      ]
    },
    {
      "cell_type": "code",
      "execution_count": null,
      "metadata": {
        "id": "3jNGOHux9Q3w"
      },
      "outputs": [],
      "source": [
        "verbs = []\n",
        "for possible_verb in doc:\n",
        "    if possible_verb.pos == VERB:\n",
        "        for possible_subject in possible_verb.children:\n",
        "            if possible_subject.dep == nsubj:\n",
        "                verbs.append(possible_verb)\n",
        "                break"
      ]
    },
    {
      "cell_type": "code",
      "execution_count": null,
      "metadata": {
        "id": "ZVY86ZWG9Q3w"
      },
      "outputs": [],
      "source": [
        "print(verbs)"
      ]
    },
    {
      "cell_type": "markdown",
      "metadata": {
        "id": "ktFXon6s9Q3w"
      },
      "source": [
        "### Iterating around the local tree\n",
        "A few more convenience attributes are provided for iterating around the local tree from the token. Token.lefts and Token.rights attributes provide sequences of syntactic children that occur before and after the token. Both sequences are in sentence order. There are also two integer-typed attributes, Token.n_lefts and Token.n_rights that give the number of left and right children."
      ]
    },
    {
      "cell_type": "code",
      "execution_count": null,
      "metadata": {
        "id": "-cx60KUb9Q3w"
      },
      "outputs": [],
      "source": [
        "doc = nlp(\"bright red apples on the tree\")\n",
        "print([token.text for token in doc[2].lefts])  # ['bright', 'red']\n",
        "print([token.text for token in doc[2].rights])  # ['on']\n",
        "print(doc[2].n_lefts)  # 2\n",
        "print(doc[2].n_rights)  # 1"
      ]
    },
    {
      "cell_type": "markdown",
      "metadata": {
        "id": "3k8zQ7mX9Q3w"
      },
      "source": [
        "You can get a whole phrase by its syntactic head using the Token.subtree attribute. This returns an ordered sequence of tokens. You can walk up the tree with the Token.ancestors attribute, and check dominance with Token.is_ancestor"
      ]
    },
    {
      "cell_type": "code",
      "execution_count": null,
      "metadata": {
        "id": "Y57OwXsF9Q3w"
      },
      "outputs": [],
      "source": [
        "doc = nlp(\"Credit and mortgage account holders must submit their requests\")\n",
        "\n",
        "root = [token for token in doc if token.head == token][0]\n",
        "subject = list(root.lefts)[0]\n",
        "for descendant in subject.subtree:\n",
        "    assert subject is descendant or subject.is_ancestor(descendant)\n",
        "    print(descendant.text, descendant.dep_, descendant.n_lefts,\n",
        "            descendant.n_rights,\n",
        "            [ancestor.text for ancestor in descendant.ancestors])"
      ]
    },
    {
      "cell_type": "markdown",
      "metadata": {
        "id": "Ixc7nhPL9Q3x"
      },
      "source": [
        "Finally, the .left_edge and .right_edge attributes can be especially useful, because they give you the first and last token of the subtree. This is the easiest way to create a Span object for a syntactic phrase. Note that .right_edge gives a token within the subtree — so if you use it as the end-point of a range, don’t forget to +1!"
      ]
    },
    {
      "cell_type": "code",
      "execution_count": null,
      "metadata": {
        "id": "XXlFARsP9Q3x"
      },
      "outputs": [],
      "source": [
        "span = doc[doc[4].left_edge.i : doc[4].right_edge.i+1]\n",
        "with doc.retokenize() as retokenizer:\n",
        "    retokenizer.merge(span)\n",
        "for token in doc:\n",
        "    print(token.text, token.pos_, token.dep_, token.head.text)"
      ]
    },
    {
      "cell_type": "code",
      "execution_count": null,
      "metadata": {
        "id": "vaWbaXhX9Q3x"
      },
      "outputs": [],
      "source": [
        "displacy.render(doc, style='dep')"
      ]
    },
    {
      "cell_type": "markdown",
      "metadata": {
        "id": "ViXjRmwc9Q3x"
      },
      "source": [
        "### Information Extraction\n",
        "\n",
        "How can dependancy graphs be useful? We can extract information from the sentences based on relationships between words within parsed phrases. Let us see if we can do this to glean any information, from, say, our movies dataset. \n",
        "\n",
        "How violent are the movies? Who is killing who?"
      ]
    },
    {
      "cell_type": "code",
      "execution_count": null,
      "metadata": {
        "id": "gq_sGFvc9Q3x"
      },
      "outputs": [],
      "source": [
        "movie_violences = {}"
      ]
    },
    {
      "cell_type": "code",
      "execution_count": null,
      "metadata": {
        "id": "IXx3zNZ79Q3x"
      },
      "outputs": [],
      "source": [
        "for index, row in movie_df.iterrows():\n",
        "    text = ' '.join(row['Tokenized Texts'])\n",
        "    movie_violences[row['Movie Name']] = ([], [])\n",
        "    doc = nlp(text)\n",
        "    for chunk in doc.noun_chunks:\n",
        "        subject = 0\n",
        "        object_ = 0\n",
        "        # if the verb or the root of the sentence is kill\n",
        "        if chunk.root.head.text == 'kill':\n",
        "            # we find the subjects and objects around the word, and if it does exist, add it to the tuple\n",
        "            if chunk.root.dep_ == 'nsubj':\n",
        "                subject = chunk.root.text\n",
        "            if chunk.root.dep_ == 'dobj':\n",
        "                object_ = chunk.root.text\n",
        "            if subject is not 0:\n",
        "                movie_violences[row['Movie Name']][0].append(subject)\n",
        "            if object_ is not 0:\n",
        "                movie_violences[row['Movie Name']][1].append(object_)"
      ]
    },
    {
      "cell_type": "code",
      "execution_count": null,
      "metadata": {
        "id": "ei2komVs9Q3x"
      },
      "outputs": [],
      "source": [
        "movie_violences"
      ]
    },
    {
      "cell_type": "markdown",
      "metadata": {
        "id": "9WS8Nme59Q3y"
      },
      "source": [
        "That's pretty neat: we can see who tried to kill who, or at least talked about it. A lot of 'I' killing 'you', as we'd imagine. What else can we see?\n",
        "\n",
        "The movie, about time, which is about time travel, funnily enough has:\n",
        "`'About Time': (['I'], ['Hitler'])`"
      ]
    },
    {
      "cell_type": "markdown",
      "metadata": {
        "id": "qWp9GsdV9Q3y"
      },
      "source": [
        "## <font color=\"red\">*Exercise 6*</font>\n",
        "\n",
        "<font color=\"red\">In the cells immediately following, parse a (modest) subset of your corpus of interest. How deep are the phrase structure and dependency parse trees nested? How does parse depth relate to perceived sentence complexity? What are five things you can extract from these parses for subsequent analysis? (e.g., nouns collocated in a noun phrase; adjectives that modify a noun; etc.) Capture these sets of things for a focal set of words (e.g., \"Bush\", \"Obama\", \"Trump\"). What do they reveal about the roles that these entities are perceive to play in the social world inscribed by your texts?"
      ]
    },
    {
      "cell_type": "code",
      "source": [
        "from spacy import displacy\n",
        "doc = nlp(df['biographies'][67])\n",
        "displacy.render(doc, style='dep')\n",
        "for chunk in doc.noun_chunks:\n",
        "    print(chunk.text, chunk.root.text, chunk.root.dep_, chunk.root.head.text)\n",
        "\n",
        "\n",
        "\n",
        "for token in doc:\n",
        "    print(token.text, token.dep_, token.head.text, token.head.pos_,\n",
        "            [child for child in token.children])\n",
        "    \n",
        "from spacy.symbols import nsubj, VERB\n",
        "verbs = set()\n",
        "for possible_subject in doc:\n",
        "    if possible_subject.dep == nsubj and possible_subject.head.pos == VERB:\n",
        "        verbs.add(possible_subject.head)\n",
        "print(verbs)\n",
        "    \n",
        "    \n",
        "# How deep are the phrase structure and dependency parse trees nested?\n",
        "## Answer: the phrase structure is deeper than in the example fom the notebook\n",
        "# How does parse depth relate to perceived sentence complexity?\n",
        "## Answer: morre depth means more perceived complexity"
      ],
      "metadata": {
        "id": "N7TjHz1uDQR3"
      },
      "execution_count": null,
      "outputs": []
    },
    {
      "cell_type": "markdown",
      "metadata": {
        "id": "dHPMfor59Q3y"
      },
      "source": [
        "# Distributional distances\n",
        "\n",
        "If we want to compare different corpora, we need a distance or divergence that compares the two distributions.\n",
        "\n",
        "We will use the: \n",
        "\n",
        "+ Kullback-Leibler (KL) divergence\n",
        "+ $\\chi^2$ divergence\n",
        "+ Kolmogorov-Smirnov (KS) distance\n",
        "+ Wasserstein distance\n",
        "\n",
        "### Kullback-Leibler and $x^2$ divergences ###\n",
        "\n",
        "KL and $\\chi^2$ divergences are members of the broader <a \"href=https://en.wikipedia.org/wiki/F-divergence\" target=\"_blank\">$f$-divergence</a> family, a function of $D_f (P || Q)$ that calculates the difference between two probability distributions P and Q. The KL $f(t)$ is $ t \\text{ log } t $, while the $\\chi^2$ is $t^2-1$. KL comes from information and $\\chi^2$ from measure theory. As such, the KL divergence computes the relative entropy between two distributions--how they differ in bits, while the $\\chi^2$ whether the same statistical inferences can be drawn from them both.  \n",
        "\n",
        "Specifically, given two discrete probability distributions $P$ and $Q$, the Kullback-Leibler divergence from $Q$ to $P$ is defined as:\n",
        "\n",
        "$D_{\\mathrm{KL}}(P\\|Q) = \\sum_i P(i) \\, \\log\\frac{P(i)}{Q(i)}$.\n",
        "\n",
        "The [scipy.stats.entropy()](https://docs.scipy.org/doc/scipy/reference/generated/scipy.stats.entropy.html) function does the calculation for you, which takes in two arrays of probabilities and computes the KL divergence. Note that the KL divergence is in general not commutative, i.e. $D_{\\mathrm{KL}}(P\\|Q) \\neq D_{\\mathrm{KL}}(Q\\|P)$ .\n",
        "\n",
        "Also note that the KL divernce is the sum of elementwise divergences. Scipy provides [scipy.special.kl_div()](https://docs.scipy.org/doc/scipy/reference/generated/scipy.special.kl_div.html#scipy-special-kl-div) which calculates elementwise divergences for you.\n",
        "\n",
        "The $\\chi^2$ Divergence is defined as:\n",
        "\n",
        "$D_{\\mathrm{\\chi^2}}(P\\|Q) = \\sum_i \\left(\\frac{P(i)}{Q(i)}-1\\right)^2$. \n",
        "\n",
        "This is also noncommutative, and the code can be drawn directly from scipy.\n",
        "\n",
        "### Kolmogorov-Smirnov ###\n",
        "\n",
        "The two-sample Kolmogovorov-Smirnov test statistic calculates the distance between the cumulative distribution function of the two distributions to be compared, and, along with the $x^2$ divergence, is among the most common approaches two calculating a distance in statistics. It can be interpreted as a test of whether two distributions are drawn from the same underlying distribution. As with the others, the code is readily available in scipy.\n",
        "\n",
        "### Wasserstein Distance ###\n",
        "\n",
        "When this is computed on a Euclidian metric structure (e.g., numbers of words), this is also known as the earth mover’s distance, because it can be seen as the minimum amount of \"work\" required to transform $P$ into $Q$, where \"work\" is measured as the amount of distribution weight that must be moved, multiplied by the distance it has to be moved.\n",
        "\n",
        "### Computing ###\n",
        "\n",
        "To do this we will need to create the arrays, lets compare the Whitehouse releases with the Kennedy releases. First we have to download them and load them into a DataFrame."
      ]
    },
    {
      "cell_type": "code",
      "execution_count": null,
      "metadata": {
        "id": "hkhO6txe9Q3y"
      },
      "outputs": [],
      "source": [
        "kenReleases = getGithubFiles('https://api.github.com/repos/lintool/GrimmerSenatePressReleases/contents/raw/Kennedy', maxFiles = 10)\n",
        "kenReleases[:5]"
      ]
    },
    {
      "cell_type": "markdown",
      "metadata": {
        "id": "DMo_XyJf9Q3y"
      },
      "source": [
        "Then we can tokenize, stem and remove stop words, like we did for the Whitehouse press releases"
      ]
    },
    {
      "cell_type": "code",
      "execution_count": null,
      "metadata": {
        "id": "ubnsEvBo9Q3y"
      },
      "outputs": [],
      "source": [
        "kenReleases['tokenized_text'] = kenReleases['text'].apply(lambda x: word_tokenize(x))\n",
        "kenReleases['normalized_tokens'] = kenReleases['tokenized_text'].apply(lambda x: normalizeTokens(x))"
      ]
    },
    {
      "cell_type": "markdown",
      "metadata": {
        "id": "fTNMCY329Q3y"
      },
      "source": [
        "Now we need to compare the two collection of words, remove those not found in both, and assign the remaining ones indices."
      ]
    },
    {
      "cell_type": "code",
      "execution_count": null,
      "metadata": {
        "id": "uY4efwEQ9Q3z"
      },
      "outputs": [],
      "source": [
        "whWords = set(whReleases['normalized_tokens'].sum())\n",
        "kenWords = set(kenReleases['normalized_tokens'].sum())\n",
        "\n",
        "#Change & to | if you want to keep all words\n",
        "overlapWords = whWords & kenWords\n",
        "\n",
        "overlapWordsDict = {word: index for index, word in enumerate(overlapWords)}\n",
        "overlapWordsDict['student']"
      ]
    },
    {
      "cell_type": "markdown",
      "metadata": {
        "id": "kfcp2AgJ9Q3z"
      },
      "source": [
        "Now we can count the occurrences of each word in the corpora and create our arrays. Note that we don't have to use numpy arrays as we do here. We could just use a list, but the arrays are faster in numpy so we encourage you to get in the habit of using them."
      ]
    },
    {
      "cell_type": "code",
      "execution_count": null,
      "metadata": {
        "id": "IybBePib9Q3z"
      },
      "outputs": [],
      "source": [
        "def makeProbsArray(dfColumn, overlapDict):\n",
        "    words = dfColumn.sum()\n",
        "    countList = [0] * len(overlapDict)\n",
        "    for word in words:\n",
        "        try:\n",
        "            countList[overlapDict[word]] += 1\n",
        "        except KeyError:\n",
        "            #The word is not common so we skip it\n",
        "            pass\n",
        "    countArray = np.array(countList)\n",
        "    return countArray / countArray.sum()\n",
        "\n",
        "whProbArray = makeProbsArray(whReleases['normalized_tokens'], overlapWordsDict)\n",
        "kenProbArray = makeProbsArray(kenReleases['normalized_tokens'], overlapWordsDict)\n",
        "kenProbArray.sum()\n",
        "#There is a little bit of a floating point math error\n",
        "#but it's too small to see with print and too small matter here"
      ]
    },
    {
      "cell_type": "markdown",
      "metadata": {
        "id": "58GrarKt9Q3z"
      },
      "source": [
        "We can now compute the KL divergence. Pay attention to the asymmetry. Use [the Jensen–Shannon divergence](https://en.wikipedia.org/wiki/Jensen%E2%80%93Shannon_divergence), which is the average KL divergence between each distribution and the average of both distributions (i.e., the midpoint), if you want symmetry."
      ]
    },
    {
      "cell_type": "code",
      "execution_count": null,
      "metadata": {
        "id": "w-d8kpsT9Q3z"
      },
      "outputs": [],
      "source": [
        "wh_kenDivergence = scipy.stats.entropy(whProbArray, kenProbArray)\n",
        "print (wh_kenDivergence)\n",
        "ken_whDivergence = scipy.stats.entropy(kenProbArray, whProbArray)\n",
        "print (ken_whDivergence)"
      ]
    },
    {
      "cell_type": "markdown",
      "metadata": {
        "id": "3yaIX0-g9Q3z"
      },
      "source": [
        "Then, we can do the elementwise calculation and see which words best distinguish the two corpora."
      ]
    },
    {
      "cell_type": "code",
      "execution_count": null,
      "metadata": {
        "id": "mH0F0EUe9Q3z"
      },
      "outputs": [],
      "source": [
        "wh_kenDivergence_ew = scipy.special.kl_div(whProbArray, kenProbArray)\n",
        "kl_df = pandas.DataFrame(list(overlapWordsDict.keys()), columns = ['word'], index = list(overlapWordsDict.values()))\n",
        "kl_df = kl_df.sort_index()\n",
        "kl_df['elementwise divergence'] = wh_kenDivergence_ew\n",
        "kl_df[:10]"
      ]
    },
    {
      "cell_type": "code",
      "execution_count": null,
      "metadata": {
        "id": "2FM3_aUo9Q3z"
      },
      "outputs": [],
      "source": [
        "kl_df.sort_values(by='elementwise divergence', ascending=False)[:10]"
      ]
    },
    {
      "cell_type": "markdown",
      "metadata": {
        "id": "oJAos2Sb9Q30"
      },
      "source": [
        "Now we will apply what we learned today \n",
        "First, let's transform every text into normalized tokens. Note that in this first step, no stopword is removed.\n",
        "We'll use only the first 11 movies: you are welcome to try more."
      ]
    },
    {
      "cell_type": "code",
      "execution_count": null,
      "metadata": {
        "id": "EQ5eKGIq9Q31"
      },
      "outputs": [],
      "source": [
        "corpora = []\n",
        "for index, row in movie_df.iterrows():\n",
        "    if len(corpora) > 10:\n",
        "        break\n",
        "    corpora.append(row['Tokenized Texts'])"
      ]
    },
    {
      "cell_type": "markdown",
      "metadata": {
        "id": "AbicqLP49Q31"
      },
      "source": [
        "Then, let's separate the normalized tokens into stopwords and non-stopwords."
      ]
    },
    {
      "cell_type": "code",
      "execution_count": null,
      "metadata": {
        "id": "kHh8gQ5a9Q32"
      },
      "outputs": [],
      "source": [
        "corpora_s = []\n",
        "corpora_nons = []\n",
        "for corpus in corpora:\n",
        "    s = []\n",
        "    nons = []\n",
        "    doc = nlp(' '.join(corpus))\n",
        "    for word in doc:\n",
        "        if word.is_stop:\n",
        "            s.append(word.text)\n",
        "        else:\n",
        "            nons.append(word.text)\n",
        "    corpora_s.append(s)\n",
        "    corpora_nons.append(nons)"
      ]
    },
    {
      "cell_type": "markdown",
      "metadata": {
        "id": "Lv5n9agm9Q32"
      },
      "source": [
        "Define some covenient funtions for calculating divergence and distances."
      ]
    },
    {
      "cell_type": "code",
      "execution_count": null,
      "metadata": {
        "id": "KawZiUm99Q32"
      },
      "outputs": [],
      "source": [
        "def kl_divergence(X, Y):\n",
        "    P = X.copy()\n",
        "    Q = Y.copy()\n",
        "    P.columns = ['P']\n",
        "    Q.columns = ['Q']\n",
        "    df = Q.join(P).fillna(0)\n",
        "    p = df.iloc[:,1]\n",
        "    q = df.iloc[:,0]\n",
        "    D_kl = scipy.stats.entropy(p, q)\n",
        "    return D_kl\n",
        "\n",
        "def chi2_divergence(X,Y):\n",
        "    P = X.copy()\n",
        "    Q = Y.copy()\n",
        "    P.columns = ['P']\n",
        "    Q.columns = ['Q']\n",
        "    df = Q.join(P).fillna(0)\n",
        "    p = df.iloc[:,1]\n",
        "    q = df.iloc[:,0]\n",
        "    return scipy.stats.chisquare(p, q).statistic\n",
        "\n",
        "def Divergence(corpus1, corpus2, difference=\"KL\"):\n",
        "    \"\"\"Difference parameter can equal KL, Chi2, or Wass\"\"\"\n",
        "    freqP = nltk.FreqDist(corpus1)\n",
        "    P = pandas.DataFrame(list(freqP.values()), columns = ['frequency'], index = list(freqP.keys()))\n",
        "    freqQ = nltk.FreqDist(corpus2)\n",
        "    Q = pandas.DataFrame(list(freqQ.values()), columns = ['frequency'], index = list(freqQ.keys()))\n",
        "    if difference == \"KL\":\n",
        "        return kl_divergence(P, Q)\n",
        "    elif difference == \"Chi2\":\n",
        "        return chi2_divergence(P, Q)\n",
        "    elif difference == \"KS\":\n",
        "        try:\n",
        "            return scipy.stats.ks_2samp(P['frequency'], Q['frequency']).statistic\n",
        "        except:\n",
        "            return scipy.stats.ks_2samp(P['frequency'], Q['frequency'])\n",
        "    elif difference == \"Wasserstein\":\n",
        "        try:\n",
        "            return scipy.stats.wasserstein_distance(P['frequency'], Q['frequency'], u_weights=None, v_weights=None).statistic\n",
        "        except:\n",
        "            return scipy.stats.wasserstein_distance(P['frequency'], Q['frequency'], u_weights=None, v_weights=None)"
      ]
    },
    {
      "cell_type": "markdown",
      "metadata": {
        "id": "IdTv71yJ9Q32"
      },
      "source": [
        "Now we will calculate the KL divergence for each pair of corpora, turn the results into a matrix, and visualize the matrix as a heatmap. Recall that $D_{\\mathrm{KL}}(P\\|Q)$ measures the amount of information loss when $Q$ is used to approximate $P$. Here, the rows are the $P$s used for calculating KL divergences, and the columns are the $Q$s. So, each cell measures the amount of information loss when the word distribution of the column text is used to approximate the word distribution of the row text. Because the KL divergence is directional, such that the divergence of $P$ from $Q$ is different from the same of $Q$ from $P$, the matrix is assymetric and contains unique information above and below the diagonal. The same is true for the $\\chi^2$ divergence."
      ]
    },
    {
      "cell_type": "code",
      "execution_count": null,
      "metadata": {
        "id": "UcaBt_3_9Q33"
      },
      "outputs": [],
      "source": [
        "len(corpora)"
      ]
    },
    {
      "cell_type": "code",
      "execution_count": null,
      "metadata": {
        "id": "d0mJXe9C9Q33"
      },
      "outputs": [],
      "source": [
        "fileids = list(movie_df['Movie Name'])[0:11]"
      ]
    },
    {
      "cell_type": "code",
      "execution_count": null,
      "metadata": {
        "id": "9Lo0Iduy9Q33"
      },
      "outputs": [],
      "source": [
        "L = []\n",
        "for p in corpora:\n",
        "    l = []\n",
        "    for q in corpora:\n",
        "        l.append(Divergence(p,q, difference = 'KL'))\n",
        "    L.append(l)\n",
        "M = np.array(L)\n",
        "fig = plt.figure()\n",
        "div = pandas.DataFrame(M, columns = fileids, index = fileids)\n",
        "ax = sns.heatmap(div)\n",
        "plt.show()"
      ]
    },
    {
      "cell_type": "markdown",
      "metadata": {
        "id": "OvJC1ci_9Q33"
      },
      "source": [
        "\n",
        "To reveal more patterns, let's do a multidimensional scaling of the matrix."
      ]
    },
    {
      "cell_type": "code",
      "execution_count": null,
      "metadata": {
        "id": "81kM6ui69Q33"
      },
      "outputs": [],
      "source": [
        "mds = sklearn.manifold.MDS()\n",
        "pos = mds.fit(M).embedding_\n",
        "x = pos[:,0]\n",
        "y = pos[:,1]\n",
        "fig, ax = plt.subplots(figsize = (6,6))\n",
        "plt.plot(x, y, ' ')\n",
        "for i, txt in enumerate(fileids):\n",
        "    ax.annotate(txt, (x[i],y[i]))"
      ]
    },
    {
      "cell_type": "markdown",
      "metadata": {
        "id": "mqt0UbGu9Q33"
      },
      "source": [
        "A co-respondent's course and The Chain Gang are away from the others - any guesses why?\n",
        "\n",
        "We may just want to focus on the distrbution of stopwords or non-stopwords. Let's do the analysis again first for stopwords and then for non-stopwords."
      ]
    },
    {
      "cell_type": "code",
      "execution_count": null,
      "metadata": {
        "id": "2TKCb0Lz9Q33"
      },
      "outputs": [],
      "source": [
        "L = []\n",
        "for p in corpora_s:\n",
        "    l = []\n",
        "    for q in corpora_s:\n",
        "        l.append(Divergence(p,q, difference='KL'))\n",
        "    L.append(l)\n",
        "M = np.array(L)\n",
        "fig = plt.figure()\n",
        "div = pandas.DataFrame(M, columns = fileids, index = fileids)\n",
        "ax = sns.heatmap(div)\n",
        "plt.show()"
      ]
    },
    {
      "cell_type": "code",
      "execution_count": null,
      "metadata": {
        "id": "Noplu38M9Q34"
      },
      "outputs": [],
      "source": [
        "L = []\n",
        "for p in corpora_nons:\n",
        "    l = []\n",
        "    for q in corpora_nons:\n",
        "        l.append(Divergence(p,q, difference='KL'))\n",
        "    L.append(l)\n",
        "M = np.array(L)\n",
        "fig = plt.figure()\n",
        "div = pandas.DataFrame(M, columns = fileids, index = fileids)\n",
        "ax = sns.heatmap(div)\n",
        "plt.show()"
      ]
    },
    {
      "cell_type": "markdown",
      "metadata": {
        "id": "vLrcrQ1t9Q34"
      },
      "source": [
        "Now we compute the same for the assymmetric $\\chi^2$ Divergence."
      ]
    },
    {
      "cell_type": "code",
      "execution_count": null,
      "metadata": {
        "id": "UthydkpG9Q34"
      },
      "outputs": [],
      "source": [
        "L = []\n",
        "for p in corpora_nons:\n",
        "    l = []\n",
        "    for q in corpora_nons:\n",
        "        l.append(Divergence(p,q, difference='Chi2'))\n",
        "    L.append(l)\n",
        "M = np.array(L)\n",
        "fig = plt.figure()\n",
        "div = pandas.DataFrame(M, columns = fileids, index = fileids)\n",
        "ax = sns.heatmap(div)\n",
        "plt.show()"
      ]
    },
    {
      "cell_type": "markdown",
      "metadata": {
        "scrolled": true,
        "id": "XLWwwsxc9Q34"
      },
      "source": [
        "For the KS distance:"
      ]
    },
    {
      "cell_type": "code",
      "execution_count": null,
      "metadata": {
        "id": "jAD_wsAw9Q34"
      },
      "outputs": [],
      "source": [
        "L = []\n",
        "for p in corpora_nons:\n",
        "    l = []\n",
        "    for q in corpora_nons:\n",
        "        l.append(Divergence(p,q, difference='KS'))\n",
        "    L.append(l)\n",
        "M = np.array(L)\n",
        "fig = plt.figure()\n",
        "div = pandas.DataFrame(M, columns = fileids, index = fileids)\n",
        "ax = sns.heatmap(div)\n",
        "plt.show()"
      ]
    },
    {
      "cell_type": "markdown",
      "metadata": {
        "id": "FlAw-4Ry9Q34"
      },
      "source": [
        "And finally for the Wasserstein or \"earth mover's\" Distance."
      ]
    },
    {
      "cell_type": "code",
      "execution_count": null,
      "metadata": {
        "id": "9d5laq-79Q34"
      },
      "outputs": [],
      "source": [
        "L = []\n",
        "for p in corpora_nons:\n",
        "    l = []\n",
        "    for q in corpora_nons:\n",
        "        l.append(Divergence(p,q, difference='Wasserstein'))\n",
        "    L.append(l)\n",
        "M = np.array(L)\n",
        "fig = plt.figure()\n",
        "div = pandas.DataFrame(M, columns = fileids, index = fileids)\n",
        "ax = sns.heatmap(div)\n",
        "plt.show()"
      ]
    },
    {
      "cell_type": "markdown",
      "metadata": {
        "id": "NuKAEtXS9Q34"
      },
      "source": [
        "You can see that decade X is highly divergent and this makes reading the plot somewhat difficult. Let's fix this by taking the log of each cell, which will reduce the distance of decode X from other texts as an outlier."
      ]
    },
    {
      "cell_type": "code",
      "execution_count": null,
      "metadata": {
        "id": "xa4MgjiB9Q35"
      },
      "outputs": [],
      "source": [
        "ax = sns.heatmap(div.apply(np.log).replace([np.inf, -np.inf], np.nan))\n",
        "plt.show()"
      ]
    },
    {
      "cell_type": "markdown",
      "metadata": {
        "id": "_eMsAk0_9Q35"
      },
      "source": [
        "We only tried 11 movies, and from the same time period, so our signals might not be too interesting. What about different time periods?\n",
        "\n",
        "An interesting experiment to maybe get some clearer signals: documents by decade in the Davies Corpus Of Historial American English (COHA) and see if we can detect patterns between them. \n",
        "\n",
        "If we want to rerun this on a new data set of our own composition, we can be a bit more efficient with our coding. Let's use the Shakespeare texts from last week as example. Here we again make use of our convenient `lucem_illud` functions, namely `loadTextDirectory`, which is found in [loaders.py](https://github.com/UChicago-Computational-Content-Analysis/lucem_illud/blob/main/lucem_illud/loaders.py). "
      ]
    },
    {
      "cell_type": "code",
      "execution_count": null,
      "metadata": {
        "id": "srg6SpWF9Q35"
      },
      "outputs": [],
      "source": [
        "def loadTextDirectory(targetDir, encoding = 'utf-8'):\n",
        "    text = []\n",
        "    fileName = []\n",
        "\n",
        "    for file in (file for file in os.scandir(targetDir) if file.is_file() and not file.name.startswith('.')):\n",
        "        with open(file.path, encoding = encoding) as f:\n",
        "            text.append(f.read())\n",
        "        fileName.append(file.name)\n",
        "    return pandas.DataFrame({'text' : text}, index = fileName)"
      ]
    },
    {
      "cell_type": "code",
      "execution_count": null,
      "metadata": {
        "id": "JSN7Aubp9Q35"
      },
      "outputs": [],
      "source": [
        "shakespeare_df = lucem_illud.loadTextDirectory('../data/Shakespeare')"
      ]
    },
    {
      "cell_type": "markdown",
      "metadata": {
        "id": "OQU6JCLm9Q35"
      },
      "source": [
        "Now we stem and remove stopwords"
      ]
    },
    {
      "cell_type": "code",
      "execution_count": null,
      "metadata": {
        "id": "Xpct2LG39Q35"
      },
      "outputs": [],
      "source": [
        "shakespeare_df['tokenized_text'] = shakespeare_df['text'].apply(lambda x: word_tokenize(x))\n",
        "shakespeare_df['normalized_tokens'] = shakespeare_df['tokenized_text'].apply(lambda x: normalizeTokens(x))"
      ]
    },
    {
      "cell_type": "markdown",
      "metadata": {
        "id": "4keL98wB9Q36"
      },
      "source": [
        "Create the corpus file and generate the heatmap:"
      ]
    },
    {
      "cell_type": "code",
      "execution_count": null,
      "metadata": {
        "id": "dMj2oxS09Q36"
      },
      "outputs": [],
      "source": [
        "measure = 'KS' #\"KL\", \"Chi2\", \"KS\", \"Wasserstein\"\n",
        "num_of_texts = 10 #The bigger this number the slower it will run, you can also try selecting your own plays\n",
        "fileids_sp = list(shakespeare_df[:num_of_texts].index)\n",
        "corpora_sp = list(shakespeare_df[:num_of_texts]['normalized_tokens'])\n",
        "L = []\n",
        "for p in corpora_sp:\n",
        "    l = []\n",
        "    for q in corpora_sp:\n",
        "        l.append(Divergence(p,q, difference=measure))\n",
        "    L.append(l)\n",
        "M = np.array(L)\n",
        "fig = plt.figure()\n",
        "div = pandas.DataFrame(M, columns = fileids_sp, index = fileids_sp)\n",
        "ax = sns.heatmap(div)\n",
        "plt.show()"
      ]
    },
    {
      "cell_type": "markdown",
      "metadata": {
        "id": "mSBXUD_99Q36"
      },
      "source": [
        "What are \"The Passionate Pilgrim\" and \"The Phoenix and the Turtle\"? Little known poems by Shakespeare that are unsurprisingly hard to classify, as they are so different from everything else he wrote."
      ]
    },
    {
      "cell_type": "markdown",
      "metadata": {
        "id": "8gg9sOKq9Q36"
      },
      "source": [
        "## <font color=\"red\">*Exercise 7*</font>\n",
        "\n",
        "<font color=\"red\">Construct cells immediately below this that calculate the KL and $\\chi^2$ divergences, and the KS and Wasserstein distances between four separate corpora, plot these with heatmaps, and then array them in two dimensions with multidimensional scaling as above. What does this reveal about relations between the corpora? Which analysis (and divergence or distribution) distinguishes the authors or documents better?\n",
        "\n",
        "**Stretch**: Calculate the [Jensen-Shannon Divergence](https://en.wikipedia.org/wiki/Jensen–Shannon_divergence) between your four corpora. What is the relationship between the KL and JS divergences?</font> "
      ]
    },
    {
      "cell_type": "code",
      "source": [
        "def kl_divergence(X, Y):\n",
        "    P = X.copy()\n",
        "    Q = Y.copy()\n",
        "    P.columns = ['P']\n",
        "    Q.columns = ['Q']\n",
        "    df = Q.join(P).fillna(0)\n",
        "    p = df.iloc[:,1]\n",
        "    q = df.iloc[:,0]\n",
        "    D_kl = scipy.stats.entropy(p, q)\n",
        "    return D_kl\n",
        "\n",
        "def chi2_divergence(X,Y):\n",
        "    P = X.copy()\n",
        "    Q = Y.copy()\n",
        "    P.columns = ['P']\n",
        "    Q.columns = ['Q']\n",
        "    df = Q.join(P).fillna(0)\n",
        "    p = df.iloc[:,1]\n",
        "    q = df.iloc[:,0]\n",
        "    return scipy.stats.chisquare(p, q).statistic\n",
        "\n",
        "def Divergence(corpus1, corpus2, difference=\"KL\"):\n",
        "    \"\"\"Difference parameter can equal KL, Chi2, or Wass\"\"\"\n",
        "    freqP = nltk.FreqDist(corpus1)\n",
        "    P = pandas.DataFrame(list(freqP.values()), columns = ['frequency'], index = list(freqP.keys()))\n",
        "    freqQ = nltk.FreqDist(corpus2)\n",
        "    Q = pandas.DataFrame(list(freqQ.values()), columns = ['frequency'], index = list(freqQ.keys()))\n",
        "    if difference == \"KL\":\n",
        "        return kl_divergence(P, Q)\n",
        "    elif difference == \"Chi2\":\n",
        "        return chi2_divergence(P, Q)\n",
        "    elif difference == \"KS\":\n",
        "        try:\n",
        "            return scipy.stats.ks_2samp(P['frequency'], Q['frequency']).statistic\n",
        "        except:\n",
        "            return scipy.stats.ks_2samp(P['frequency'], Q['frequency'])\n",
        "    elif difference == \"Wasserstein\":\n",
        "        try:\n",
        "            return scipy.stats.wasserstein_distance(P['frequency'], Q['frequency'], u_weights=None, v_weights=None).statistic\n",
        "        except:\n",
        "            return scipy.stats.wasserstein_distance(P['frequency'], Q['frequency'], u_weights=None, v_weights=None)"
      ],
      "metadata": {
        "id": "mWuZaqGaDsmt"
      },
      "execution_count": 45,
      "outputs": []
    },
    {
      "cell_type": "code",
      "source": [
        "# with KS distance (15 letters)\n",
        "\n",
        "\n",
        "measure = 'KS' #\"KL\", \"Chi2\", \"KS\", \"Wasserstein\"\n",
        "num_of_texts = 15 #The bigger this number the slower it will run, you can also try selecting your own plays\n",
        "fileids_sp = list(df[:num_of_texts].index)\n",
        "corpora_sp = list(df[:num_of_texts]['normalized_letters'])\n",
        "\n",
        "L = []\n",
        "for p in corpora_sp:\n",
        "    l = []\n",
        "    for q in corpora_sp:\n",
        "        l.append(Divergence(p,q, difference=measure))\n",
        "    L.append(l)\n",
        "M = np.array(L)\n",
        "fig = plt.figure()\n",
        "div = pandas.DataFrame(M, columns = fileids_sp, index = fileids_sp)\n",
        "ax = sns.heatmap(div)\n",
        "plt.show()\n",
        "\n",
        "corpora = list(df[:num_of_texts]['normalized_letters'])\n",
        "fileids = list(df[:num_of_texts].index)\n",
        "\n",
        "mds = sklearn.manifold.MDS()\n",
        "pos = mds.fit(M).embedding_\n",
        "x = pos[:,0]\n",
        "y = pos[:,1]\n",
        "fig, ax = plt.subplots(figsize = (6,6))\n",
        "plt.plot(x, y, ' ')\n",
        "for i, txt in enumerate(fileids):\n",
        "    ax.annotate(txt, (x[i],y[i]))"
      ],
      "metadata": {
        "id": "eN0V-ljgD0Vf",
        "outputId": "c5893ce0-8fd3-48f1-c68d-a5e23a7a71fd",
        "colab": {
          "base_uri": "https://localhost:8080/",
          "height": 686
        }
      },
      "execution_count": 46,
      "outputs": [
        {
          "output_type": "display_data",
          "data": {
            "image/png": "[encoded data removed]",
            "text/plain": [
              "<Figure size 432x288 with 2 Axes>"
            ]
          },
          "metadata": {}
        },
        {
          "output_type": "stream",
          "name": "stderr",
          "text": [
            "/usr/local/lib/python3.7/dist-packages/sklearn/manifold/_mds.py:518: UserWarning: The MDS API has changed. ``fit`` now constructs an dissimilarity matrix from data. To use a custom dissimilarity matrix, set ``dissimilarity='precomputed'``.\n",
            "  \"The MDS API has changed. ``fit`` now constructs an\"\n"
          ]
        },
        {
          "output_type": "display_data",
          "data": {
            "image/png": "[encoded data removed]",
            "text/plain": [
              "<Figure size 432x432 with 1 Axes>"
            ]
          },
          "metadata": {}
        }
      ]
    },
    {
      "cell_type": "code",
      "source": [
        "# with Chi2 divergence (4 letters)\n",
        "\n",
        "\n",
        "measure = 'Chi2' #\"KL\", \"Chi2\", \"KS\", \"Wasserstein\"\n",
        "num_of_texts = 4 #The bigger this number the slower it will run, you can also try selecting your own plays\n",
        "fileids_sp = list(df[:num_of_texts].index)\n",
        "corpora_sp = list(df[:num_of_texts]['normalized_letters'])\n",
        "\n",
        "L = []\n",
        "for p in corpora_sp:\n",
        "    l = []\n",
        "    for q in corpora_sp:\n",
        "        l.append(Divergence(p,q, difference=measure))\n",
        "    L.append(l)\n",
        "M = np.array(L)\n",
        "fig = plt.figure()\n",
        "div = pandas.DataFrame(M, columns = fileids_sp, index = fileids_sp)\n",
        "ax = sns.heatmap(div)\n",
        "plt.show()\n",
        "\n",
        "corpora = list(df[:num_of_texts]['normalized_letters'])\n",
        "fileids = list(df[:num_of_texts].index)\n",
        "\n",
        "mds = sklearn.manifold.MDS()\n",
        "pos = mds.fit(M).embedding_\n",
        "x = pos[:,0]\n",
        "y = pos[:,1]\n",
        "fig, ax = plt.subplots(figsize = (6,6))\n",
        "plt.plot(x, y, ' ')\n",
        "for i, txt in enumerate(fileids):\n",
        "    ax.annotate(txt, (x[i],y[i]))"
      ],
      "metadata": {
        "id": "Eua9OCzYD6Ij",
        "outputId": "f6af3cc7-575e-45f2-e38e-1f5ed44c82b3",
        "colab": {
          "base_uri": "https://localhost:8080/",
          "height": 683
        }
      },
      "execution_count": 47,
      "outputs": [
        {
          "output_type": "display_data",
          "data": {
            "image/png": "[encoded data removed]",
            "text/plain": [
              "<Figure size 432x288 with 2 Axes>"
            ]
          },
          "metadata": {}
        },
        {
          "output_type": "stream",
          "name": "stderr",
          "text": [
            "/usr/local/lib/python3.7/dist-packages/sklearn/manifold/_mds.py:518: UserWarning: The MDS API has changed. ``fit`` now constructs an dissimilarity matrix from data. To use a custom dissimilarity matrix, set ``dissimilarity='precomputed'``.\n",
            "  \"The MDS API has changed. ``fit`` now constructs an\"\n"
          ]
        },
        {
          "output_type": "display_data",
          "data": {
            "image/png": "[encoded data removed]",
            "text/plain": [
              "<Figure size 432x432 with 1 Axes>"
            ]
          },
          "metadata": {}
        }
      ]
    },
    {
      "cell_type": "code",
      "source": [
        "# with KL divergence (15 letters)\n",
        "\n",
        "\n",
        "measure = 'KL' #\"KL\", \"Chi2\", \"KS\", \"Wasserstein\"\n",
        "num_of_texts = 15 #The bigger this number the slower it will run, you can also try selecting your own plays\n",
        "fileids_sp = list(df[:num_of_texts].index)\n",
        "corpora_sp = list(df[:num_of_texts]['normalized_letters'])\n",
        "\n",
        "L = []\n",
        "for p in corpora_sp:\n",
        "    l = []\n",
        "    for q in corpora_sp:\n",
        "        l.append(Divergence(p,q, difference=measure))\n",
        "    L.append(l)\n",
        "M = np.array(L)\n",
        "fig = plt.figure()\n",
        "div = pandas.DataFrame(M, columns = fileids_sp, index = fileids_sp)\n",
        "ax = sns.heatmap(div)\n",
        "plt.show()\n"
      ],
      "metadata": {
        "id": "lVmhWAUcD3Go",
        "outputId": "26ae0f24-0c80-49e7-8d81-070f2d5936fb",
        "colab": {
          "base_uri": "https://localhost:8080/",
          "height": 303
        }
      },
      "execution_count": 50,
      "outputs": [
        {
          "output_type": "stream",
          "name": "stderr",
          "text": [
            "/usr/local/lib/python3.7/dist-packages/scipy/stats/_distn_infrastructure.py:2664: RuntimeWarning: invalid value encountered in true_divide\n",
            "  pk = 1.0*pk / np.sum(pk, axis=axis, keepdims=True)\n"
          ]
        },
        {
          "output_type": "display_data",
          "data": {
            "image/png": "[encoded data removed]",
            "text/plain": [
              "<Figure size 432x288 with 2 Axes>"
            ]
          },
          "metadata": {}
        }
      ]
    },
    {
      "cell_type": "code",
      "source": [
        "# with Wasserrstein distance (all 200 letters!)\n",
        "\n",
        "\n",
        "measure = 'Wasserstein' #\"KL\", \"Chi2\", \"KS\", \"Wasserstein\"\n",
        "num_of_texts = 200 #The bigger this number the slower it will run, you can also try selecting your own plays\n",
        "fileids_sp = list(df[:num_of_texts].index)\n",
        "corpora_sp = list(df[:num_of_texts]['normalized_letters'])\n",
        "\n",
        "L = []\n",
        "for p in corpora_sp:\n",
        "    l = []\n",
        "    for q in corpora_sp:\n",
        "        l.append(Divergence(p,q, difference=measure))\n",
        "    L.append(l)\n",
        "M = np.array(L)\n",
        "fig = plt.figure()\n",
        "div = pandas.DataFrame(M, columns = fileids_sp, index = fileids_sp)\n",
        "ax = sns.heatmap(div)\n",
        "plt.show()\n",
        "\n",
        "corpora = list(df[:num_of_texts]['normalized_letters'])\n",
        "fileids = list(df[:num_of_texts].index)\n",
        "\n",
        "mds = sklearn.manifold.MDS()\n",
        "pos = mds.fit(M).embedding_\n",
        "x = pos[:,0]\n",
        "y = pos[:,1]\n",
        "fig, ax = plt.subplots(figsize = (6,6))\n",
        "plt.plot(x, y, ' ')\n",
        "for i, txt in enumerate(fileids):\n",
        "    ax.annotate(txt, (x[i],y[i]))"
      ],
      "metadata": {
        "id": "Zer-Mxd7Dw9L",
        "outputId": "2a35c00b-2c7d-44e5-a1ed-c92b05f18438",
        "colab": {
          "base_uri": "https://localhost:8080/",
          "height": 698
        }
      },
      "execution_count": 51,
      "outputs": [
        {
          "output_type": "display_data",
          "data": {
            "image/png": "[encoded data removed]",
            "text/plain": [
              "<Figure size 432x288 with 2 Axes>"
            ]
          },
          "metadata": {}
        },
        {
          "output_type": "stream",
          "name": "stderr",
          "text": [
            "/usr/local/lib/python3.7/dist-packages/sklearn/manifold/_mds.py:518: UserWarning: The MDS API has changed. ``fit`` now constructs an dissimilarity matrix from data. To use a custom dissimilarity matrix, set ``dissimilarity='precomputed'``.\n",
            "  \"The MDS API has changed. ``fit`` now constructs an\"\n"
          ]
        },
        {
          "output_type": "display_data",
          "data": {
            "image/png": "[encoded data removed]",
            "text/plain": [
              "<Figure size 432x432 with 1 Axes>"
            ]
          },
          "metadata": {}
        }
      ]
    },
    {
      "cell_type": "code",
      "source": [
        "# Distance is better in identifying similarities between documents. I can use \n",
        "# those measures to identify outliers in my Giving Pledge dataset.  "
      ],
      "metadata": {
        "id": "jkU9h0VlEAEo"
      },
      "execution_count": 49,
      "outputs": []
    },
    {
      "cell_type": "code",
      "source": [
        "### Congratulations for reaching the end of this homework!"
      ],
      "metadata": {
        "id": "UqtUKlg4EAv5"
      },
      "execution_count": 52,
      "outputs": []
    }
  ],
  "metadata": {
    "anaconda-cloud": {},
    "kernelspec": {
      "display_name": "Python 3 (ipykernel)",
      "language": "python",
      "name": "python3"
    },
    "language_info": {
      "codemirror_mode": {
        "name": "ipython",
        "version": 3
      },
      "file_extension": ".py",
      "mimetype": "text/x-python",
      "name": "python",
      "nbconvert_exporter": "python",
      "pygments_lexer": "ipython3",
      "version": "3.8.8"
    },
    "colab": {
      "name": "2-Computational-Linguistics.ipynb",
      "provenance": []
    }
  },
  "nbformat": 4,
  "nbformat_minor": 0
}